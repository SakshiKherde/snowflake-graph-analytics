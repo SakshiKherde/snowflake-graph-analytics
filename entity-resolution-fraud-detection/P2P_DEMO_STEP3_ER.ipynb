{
 "metadata": {
  "kernelspec": {
   "display_name": "Streamlit Notebook",
   "name": "streamlit"
  }
 },
 "nbformat_minor": 5,
 "nbformat": 4,
 "cells": [
  {
   "cell_type": "markdown",
   "id": "9abd6801-4976-4e1f-9df8-f1baacf22a60",
   "metadata": {
    "name": "cell35",
    "collapsed": false,
    "resultHeight": 112
   },
   "source": "# GDS for Snowflake: Entity Resolution & Fraud Labels"
  },
  {
   "cell_type": "code",
   "id": "3775908f-ca36-4846-8f38-5adca39217f2",
   "metadata": {
    "language": "python",
    "name": "cell1",
    "collapsed": false,
    "resultHeight": 0
   },
   "source": "# Snowpark for Python\nfrom snowflake.snowpark import Session\nfrom snowflake.snowpark.version import VERSION\nfrom snowflake.snowpark.functions import udf\nimport snowflake.snowpark.functions as F\n\nfrom snowflake.snowpark.context import get_active_session\nsession = get_active_session()\n",
   "execution_count": null,
   "outputs": []
  },
  {
   "cell_type": "code",
   "id": "a415585b-fb75-4282-bed1-33de80c0c239",
   "metadata": {
    "language": "sql",
    "name": "cell2",
    "collapsed": false,
    "resultHeight": 112
   },
   "outputs": [],
   "source": [
    "%%sql\n",
    "USE ROLE accountadmin;\n",
    "USE DATABASE p2p_demo;\n",
    "USE SCHEMA public;"
   ],
   "execution_count": null
  },
  {
   "cell_type": "code",
   "id": "5ddf5086-a2ea-40e0-a8af-972c904e9632",
   "metadata": {
    "language": "python",
    "name": "cell4",
    "collapsed": false,
    "resultHeight": 195
   },
   "outputs": [],
   "source": "snowflake_environment = session.sql('SELECT current_user(), current_version()').collect()\nsnowpark_version = VERSION\n\n# Current Environment Details\nprint('\\nConnection Established with the following parameters:')\nprint('User                        : {}'.format(snowflake_environment[0][0]))\nprint('Role                        : {}'.format(session.get_current_role()))\nprint('Database                    : {}'.format(session.get_current_database()))\nprint('Schema                      : {}'.format(session.get_current_schema()))\nprint('Warehouse                   : {}'.format(session.get_current_warehouse()))\nprint('Snowflake version           : {}'.format(snowflake_environment[0][1]))\nprint('Snowpark for Python version : {}.{}.{}'.format(snowpark_version[0],snowpark_version[1],snowpark_version[2]))",
   "execution_count": null
  },
  {
   "cell_type": "code",
   "id": "8562f5eb-8b4d-476b-a173-1c6ce12cf339",
   "metadata": {
    "language": "sql",
    "name": "cell5",
    "collapsed": false,
    "resultHeight": 511
   },
   "outputs": [],
   "source": [
    "%%sql\n",
    "SELECT * from p2p_users"
   ],
   "execution_count": null
  },
  {
   "cell_type": "code",
   "id": "dccd7b98-a77a-43fb-91ea-0887f121d851",
   "metadata": {
    "language": "sql",
    "name": "cell3",
    "collapsed": false,
    "resultHeight": 511
   },
   "outputs": [],
   "source": [
    "%%sql\n",
    "SELECT * FROM resolved_p2p_users;"
   ],
   "execution_count": null
  },
  {
   "cell_type": "markdown",
   "id": "b5af68d7-b322-4fdd-b78d-cf1faccc5159",
   "metadata": {
    "name": "cell54",
    "collapsed": false,
    "resultHeight": 131
   },
   "source": "## Combining Graph Features & Additional Fraud Risk Labeling\nUsing another view"
  },
  {
   "cell_type": "code",
   "id": "8d50cbf4-0c8d-4950-86cb-114990437ac9",
   "metadata": {
    "language": "sql",
    "name": "feature_table",
    "collapsed": false,
    "resultHeight": 511
   },
   "source": [
    "%%sql\n",
    "CREATE OR REPLACE VIEW user_features AS\n",
    "SELECT p2p_users.* RENAME nodeId AS user_id,\n",
    "    gds_features.wcc_id,\n",
    "    gds_features.has_fraud_flag AS fraud_risk,\n",
    "    gds_features.user_count AS community_size,\n",
    "    TO_NUMBER(gds_features.user_count > 1) AS part_of_community,\n",
    "    gds_features.transaction_pagerank\n",
    "-- join users to gds features\n",
    "FROM p2p_users JOIN (\n",
    "    -- join resolved user view with gds algo results on wcc_id\n",
    "    SELECT resolved_p2p_users.wcc_id, \n",
    "        resolved_p2p_users.user_count, \n",
    "        resolved_p2p_users.has_fraud_flag,\n",
    "        gds_algo_results.transaction_pagerank,\n",
    "        gds_algo_results.nodeId\n",
    "    FROM resolved_p2p_users JOIN (\n",
    "        -- join gds output tables on node\n",
    "        SELECT p2p_components.nodeId, \n",
    "            p2p_components.wcc_id, \n",
    "            pagerank.transaction_pagerank\n",
    "        FROM p2p_components \n",
    "        JOIN (\n",
    "            SELECT p2p_transaction_pagerank.nodeId, \n",
    "                p2p_transaction_pagerank.score AS transaction_pagerank\n",
    "            FROM p2p_transaction_pagerank\n",
    "        ) pagerank ON p2p_components.nodeId = pagerank.nodeId\n",
    "    ) gds_algo_results ON gds_algo_results.wcc_id = resolved_p2p_users.wcc_id\n",
    ") gds_features ON user_id = gds_features.nodeId;\n",
    "SELECT * FROM user_features"
   ],
   "execution_count": null,
   "outputs": []
  },
  {
   "cell_type": "markdown",
   "id": "5998f525-1617-4b85-a9ee-04bf40d1bd73",
   "metadata": {
    "name": "cell55",
    "collapsed": false,
    "resultHeight": 46
   },
   "source": "## Additional Fraud Risk Labels from WCC Entity Resolution"
  },
  {
   "cell_type": "code",
   "id": "a9b530e0-ea06-4179-8702-dc22227aa824",
   "metadata": {
    "language": "python",
    "name": "cell8",
    "collapsed": false,
    "codeCollapsed": false,
    "resultHeight": 83
   },
   "outputs": [],
   "source": "user_feat_df = feature_table.to_pandas()\nflagged_num = user_feat_df.FRAUD_TRANSFER_FLAG.sum()\nfraud_risk_num = user_feat_df.FRAUD_RISK.sum()\nprint(f'# of original flagged accounts: {flagged_num:.0f}')\nprint(f'# of newly labeled fraud risk accounts from WCC: {fraud_risk_num:.0f}')\nprint(f'{(fraud_risk_num - flagged_num):.0f} new accounts identified, a {100*(fraud_risk_num - flagged_num)/flagged_num:.1f}% increase')",
   "execution_count": null
  }
 ]
}
