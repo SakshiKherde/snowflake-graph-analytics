{
 "metadata": {
  "kernelspec": {
   "display_name": "Streamlit Notebook",
   "name": "streamlit"
  }
 },
 "nbformat_minor": 5,
 "nbformat": 4,
 "cells": [
  {
   "cell_type": "markdown",
   "id": "9abd6801-4976-4e1f-9df8-f1baacf22a60",
   "metadata": {
    "name": "cell35",
    "collapsed": false
   },
   "source": "# GDS For Snowflake Demo: Entity Resolution & ML"
  },
  {
   "cell_type": "markdown",
   "id": "347b8f5b-ba2d-4e6a-ba06-5f638a68d98f",
   "metadata": {
    "name": "cell37",
    "collapsed": false
   },
   "source": "## Setup\nmake sure to install these packages using the snowflake packages dropdown\n- `snowflake-ml-python`\n- `sklearn`\n- `matplotlib`\n- `seaborn`\n- `streamlit`"
  },
  {
   "cell_type": "code",
   "id": "3775908f-ca36-4846-8f38-5adca39217f2",
   "metadata": {
    "language": "python",
    "name": "cell1",
    "collapsed": false
   },
   "source": "# Snowpark for Python\nfrom snowflake.snowpark import Session\nfrom snowflake.snowpark.version import VERSION\nfrom snowflake.snowpark.functions import udf\nimport snowflake.snowpark.functions as F\n\n# Snowpark ML\nfrom snowflake.ml.modeling.xgboost import XGBClassifier\nfrom snowflake.ml.modeling.model_selection import GridSearchCV\nfrom snowflake.ml.registry import Registry\nfrom snowflake.ml._internal.utils import identifier\n\n# data science libs\nimport pandas as pd\nimport matplotlib.pyplot as plt\nimport seaborn as sns\nfrom snowflake.ml.modeling.metrics import confusion_matrix\n\n# misc\nimport json\nimport joblib\nimport cachetools\nimport streamlit as st\nimport plotly\nimport dash_cytoscape\n\n# warning suppresion\nimport warnings; warnings.simplefilter('ignore')\n\n\n# We can also use Snowpark for our analyses!\nfrom snowflake.snowpark.context import get_active_session\nsession = get_active_session()\n",
   "execution_count": null,
   "outputs": []
  },
  {
   "cell_type": "code",
   "id": "5ddf5086-a2ea-40e0-a8af-972c904e9632",
   "metadata": {
    "language": "python",
    "name": "cell4",
    "collapsed": false
   },
   "outputs": [],
   "source": "snowflake_environment = session.sql('SELECT current_user(), current_version()').collect()\nsnowpark_version = VERSION\n\n# Current Environment Details\nprint('\\nConnection Established with the following parameters:')\nprint('User                        : {}'.format(snowflake_environment[0][0]))\nprint('Role                        : {}'.format(session.get_current_role()))\nprint('Database                    : {}'.format(session.get_current_database()))\nprint('Schema                      : {}'.format(session.get_current_schema()))\nprint('Warehouse                   : {}'.format(session.get_current_warehouse()))\nprint('Snowflake version           : {}'.format(snowflake_environment[0][1]))\nprint('Snowpark for Python version : {}.{}.{}'.format(snowpark_version[0],snowpark_version[1],snowpark_version[2]))",
   "execution_count": null
  },
  {
   "cell_type": "markdown",
   "id": "b5af68d7-b322-4fdd-b78d-cf1faccc5159",
   "metadata": {
    "name": "cell54",
    "collapsed": false
   },
   "source": "## Combining Graph Features & Additional Fraud Risk Labeling\n\nWe will now combine GDS and original features into one table for downstream ML learning.  We will create a new Fraud_Risk label that is 1 for all nodes in a WCC cvommunity with flagged user account.  This will hel,p extend our known fraud labels."
  },
  {
   "cell_type": "code",
   "id": "8d50cbf4-0c8d-4950-86cb-114990437ac9",
   "metadata": {
    "language": "sql",
    "name": "feature_table",
    "collapsed": false
   },
   "source": "CREATE OR REPLACE VIEW user_features AS\nSELECT p2p_users.* RENAME nodeId AS user_id,\n    gds_features.wcc_id,\n    gds_features.has_fraud_flag AS fraud_risk,\n    gds_features.user_count AS community_size,\n    TO_NUMBER(gds_features.user_count > 1) AS part_of_community,\n    gds_features.entity_link_pagerank,\n    gds_features.transaction_pagerank\n-- join users to gds features\nFROM p2p_users JOIN (\n    -- join resolved user view with gds algo results on wcc_id\n    SELECT resolved_p2p_users.wcc_id, \n        resolved_p2p_users.user_count, \n        resolved_p2p_users.has_fraud_flag,\n        gds_algo_results.entity_link_pagerank,\n        gds_algo_results.transaction_pagerank,\n        gds_algo_results.nodeId\n    FROM resolved_p2p_users JOIN (\n        -- join gds output tables on node\n        SELECT p2p_components.nodeId, \n            p2p_components.wcc_id, \n            pagerank.entity_link_pagerank,\n            pagerank.transaction_pagerank\n        FROM p2p_components \n        JOIN (\n            SELECT p2p_entity_link_pagerank.nodeId, \n                p2p_entity_link_pagerank.score AS entity_link_pagerank,\n                p2p_transaction_pagerank.score AS transaction_pagerank\n            FROM p2p_entity_link_pagerank \n            JOIN p2p_transaction_pagerank ON p2p_transaction_pagerank.nodeId=p2p_entity_link_pagerank.nodeId\n        ) pagerank ON p2p_components.nodeId = pagerank.nodeId\n    ) gds_algo_results ON gds_algo_results.wcc_id = resolved_p2p_users.wcc_id\n) gds_features ON user_id = gds_features.nodeId;\nSELECT * FROM user_features",
   "execution_count": null,
   "outputs": []
  },
  {
   "cell_type": "markdown",
   "id": "5998f525-1617-4b85-a9ee-04bf40d1bd73",
   "metadata": {
    "name": "cell55",
    "collapsed": false
   },
   "source": "### Additional Fraud Risk Labels from WCC Entity Resolution"
  },
  {
   "cell_type": "code",
   "id": "a9b530e0-ea06-4179-8702-dc22227aa824",
   "metadata": {
    "language": "python",
    "name": "cell8",
    "collapsed": false,
    "codeCollapsed": false
   },
   "outputs": [],
   "source": "user_feat_df = feature_table.to_pandas()\nflagged_num = user_feat_df.FRAUD_TRANSFER_FLAG.sum()\nfraud_risk_num = user_feat_df.FRAUD_RISK.sum()\nprint(f'# of original flagged accounts: {flagged_num:.0f}')\nprint(f'# of newly labeled fraud risk accounts from WCC: {fraud_risk_num:.0f}')\nprint(f'{(fraud_risk_num - flagged_num):.0f} new accounts identified, a {100*(fraud_risk_num - flagged_num)/flagged_num:.1f}% increase')",
   "execution_count": null
  },
  {
   "cell_type": "markdown",
   "id": "2b631584-1a46-49c4-af6e-c9319ce6c57f",
   "metadata": {
    "name": "cell2",
    "collapsed": false
   },
   "source": "## Use Graph Features to Improve ML Model\nBelow we compare a baseline fraud classifier (not using new graph features, against one that uses graph features.  We will see a significant lift for AUC and PR-AUC. "
  },
  {
   "cell_type": "code",
   "id": "5c782a1c-1f4f-4dcc-b10b-4ad85ce1750a",
   "metadata": {
    "language": "python",
    "name": "cell7",
    "collapsed": false
   },
   "outputs": [],
   "source": "# Categorize all the features for modeling\nNUMERICAL_COLUMNS = ['IP_COUNT', 'CARD_COUNT', 'DEVICE_COUNT']\nGRAPH_NUMERICAL_COLUMNS = ['COMMUNITY_SIZE', 'PART_OF_COMMUNITY', 'ENTITY_LINK_PAGERANK', 'TRANSACTION_PAGERANK']\n\nLABEL_COLUMN = 'FRAUD_RISK'",
   "execution_count": null
  },
  {
   "cell_type": "code",
   "id": "e50b7e5f-d346-4ae9-b2d5-1d67022c1cdf",
   "metadata": {
    "language": "python",
    "name": "cell11",
    "collapsed": false
   },
   "outputs": [],
   "source": "from sklearn.model_selection import train_test_split\n\nX_graph = user_feat_df[NUMERICAL_COLUMNS + GRAPH_NUMERICAL_COLUMNS]\ny = user_feat_df.FRAUD_RISK\n\nX_graph_train, X_graph_test, y_train, y_test = train_test_split(X_graph, y, test_size=0.2, random_state=0)\n\nX_baseline_train = X_graph_train[NUMERICAL_COLUMNS]\nX_baseline_test = X_graph_test[NUMERICAL_COLUMNS]",
   "execution_count": null
  },
  {
   "cell_type": "code",
   "id": "b7e4a7ba-bb1b-4541-90bc-2d0f59d3882c",
   "metadata": {
    "language": "python",
    "name": "cell12",
    "collapsed": false
   },
   "outputs": [],
   "source": "y",
   "execution_count": null
  },
  {
   "cell_type": "markdown",
   "id": "bd17a51a-9f44-42da-b037-ca64db615593",
   "metadata": {
    "name": "cell15",
    "collapsed": false
   },
   "source": "## Baseline Model"
  },
  {
   "cell_type": "code",
   "id": "871fda19-c574-4a16-905c-048984f679aa",
   "metadata": {
    "language": "python",
    "name": "cell13",
    "collapsed": false
   },
   "outputs": [],
   "source": "from sklearn.ensemble import RandomForestClassifier\n\nclf_baseline = RandomForestClassifier(n_estimators=500, random_state=0, max_depth=5, bootstrap=True, class_weight='balanced')\nclf_baseline.fit(X_baseline_train, y_train)",
   "execution_count": null
  },
  {
   "cell_type": "code",
   "id": "4f2b6c3b-0db1-432e-ac5c-65a266a2758c",
   "metadata": {
    "language": "python",
    "name": "cell14",
    "collapsed": false
   },
   "outputs": [],
   "source": "from sklearn.metrics import ConfusionMatrixDisplay\nprint('Accuracy of baseline classifier on test set: {:.2f}'.format(clf_baseline.score(X_baseline_test, y_test)))\nprint('\\nConfusion Matrix: ')\ndisp = ConfusionMatrixDisplay.from_predictions(y_test, \n                                               clf_baseline.predict(X_baseline_test), \n                                               display_labels=clf_baseline.classes_,\n                                               normalize='true', cmap='Greys', colorbar=False)",
   "execution_count": null
  },
  {
   "cell_type": "code",
   "id": "fe10c799-d737-44de-b28d-15167a949fb4",
   "metadata": {
    "language": "python",
    "name": "cell19",
    "collapsed": false
   },
   "outputs": [],
   "source": "from sklearn.metrics import RocCurveDisplay\n\ndisplay = RocCurveDisplay.from_estimator(clf_baseline, X_baseline_test, y_test, name=\"Baseline Model\")\n_ = display.ax_.set_title(\"ROC Curve\")",
   "execution_count": null
  },
  {
   "cell_type": "code",
   "id": "e0855083-3fcd-4b52-b1e6-656296c0dc77",
   "metadata": {
    "language": "python",
    "name": "cell22",
    "collapsed": false
   },
   "outputs": [],
   "source": "from sklearn.metrics import PrecisionRecallDisplay\n\ny_baseline_prob = clf_baseline.predict_proba(X_baseline_test)\ndisplay = PrecisionRecallDisplay.from_predictions(y_test, y_baseline_prob [:, 1], name=\"Baseline Model\")\n_ = display.ax_.set_title(\"Precision-Recall Curve\")",
   "execution_count": null
  },
  {
   "cell_type": "markdown",
   "id": "d36c5303-b07c-417c-8335-9b9a5becc388",
   "metadata": {
    "name": "cell16",
    "collapsed": false
   },
   "source": "# Graph Feature Model"
  },
  {
   "cell_type": "code",
   "id": "b97543f7-b68c-412a-b1b1-d657a17fd724",
   "metadata": {
    "language": "python",
    "name": "cell17",
    "collapsed": false
   },
   "outputs": [],
   "source": "from sklearn.ensemble import RandomForestClassifier\n\nclf_graph = RandomForestClassifier(n_estimators=500, random_state=0, max_depth=5, bootstrap=True, class_weight='balanced')\nclf_graph.fit(X_graph_train, y_train)",
   "execution_count": null
  },
  {
   "cell_type": "code",
   "id": "e78824ec-b4a1-4a26-87a8-4202304a2754",
   "metadata": {
    "language": "python",
    "name": "cell18",
    "collapsed": false
   },
   "outputs": [],
   "source": "from sklearn.metrics import ConfusionMatrixDisplay\nprint('Accuracy of classifier witn graph features on test set: {:.2f}'.format(clf_graph.score(X_graph_test, y_test)))\nprint('\\nConfusion Matrix: ')\ndisp = ConfusionMatrixDisplay.from_predictions(y_test, \n                                               clf_graph.predict(X_graph_test), \n                                               display_labels=clf_graph.classes_,\n                                               normalize='true', cmap='Greys', colorbar=False)",
   "execution_count": null
  },
  {
   "cell_type": "code",
   "id": "c163b278-bd25-436d-88d3-347ff4045799",
   "metadata": {
    "language": "python",
    "name": "cell20",
    "collapsed": false
   },
   "outputs": [],
   "source": "from sklearn.metrics import RocCurveDisplay\n\ndisplay = RocCurveDisplay.from_estimator(clf_graph, X_graph_test, y_test, name=\"Graph Feature Model\")\n_ = display.ax_.set_title(\"ROC Curve\")",
   "execution_count": null
  },
  {
   "cell_type": "code",
   "id": "11a95b51-bb88-46df-885b-7bf674dd749e",
   "metadata": {
    "language": "python",
    "name": "cell21",
    "collapsed": false
   },
   "outputs": [],
   "source": "from sklearn.metrics import PrecisionRecallDisplay\n\ny_graph_prob = clf_graph.predict_proba(X_graph_test)\ndisplay = PrecisionRecallDisplay.from_predictions(y_test, y_graph_prob [:, 1], name=\"Graph Model\")\n_ = display.ax_.set_title(\"Precision-Recall Curve\")",
   "execution_count": null
  }
 ]
}