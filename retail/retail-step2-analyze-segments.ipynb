{
 "metadata": {
  "kernelspec": {
   "display_name": "Streamlit Notebook",
   "name": "streamlit"
  },
  "lastEditStatus": {
   "notebookId": "5gkwwddkiqvivsyjefgp",
   "authorId": "5022286701033",
   "authorName": "BLUMENFELD",
   "authorEmail": "zach.blumenfeld@neo4j.com",
   "sessionId": "3d4999d5-76b3-4740-820b-6afbbaeb3720",
   "lastEditTime": 1738162711235
  }
 },
 "nbformat_minor": 5,
 "nbformat": 4,
 "cells": [
  {
   "cell_type": "markdown",
   "id": "10052f46-9929-4d01-8a84-27e618ab7da1",
   "metadata": {
    "name": "cell3",
    "collapsed": false
   },
   "source": "# Analyze Customer Segments"
  },
  {
   "cell_type": "markdown",
   "id": "867f057e-2a2c-41b2-8a87-7405897c30fb",
   "metadata": {
    "name": "cell8",
    "collapsed": false
   },
   "source": "## Setup"
  },
  {
   "cell_type": "code",
   "id": "3775908f-ca36-4846-8f38-5adca39217f2",
   "metadata": {
    "language": "python",
    "name": "cell1",
    "collapsed": false
   },
   "source": "# Import python packages\nimport streamlit as st\nimport pandas as pd\n\n# We can also use Snowpark for our analyses!\nfrom snowflake.snowpark.context import get_active_session\nsession = get_active_session()\n",
   "execution_count": null,
   "outputs": []
  },
  {
   "cell_type": "code",
   "id": "8d50cbf4-0c8d-4950-86cb-114990437ac9",
   "metadata": {
    "language": "python",
    "name": "cell2",
    "collapsed": false
   },
   "source": "from snowflake.snowpark.version import VERSION\n\nsnowflake_environment = session.sql('SELECT current_user(), current_version()').collect()\nsnowpark_version = VERSION\n\n# current environment details\nprint('\\nConnection Established with the following parameters:')\nprint('User                        : {}'.format(snowflake_environment[0][0]))\nprint('Role                        : {}'.format(session.get_current_role()))\nprint('Database                    : {}'.format(session.get_current_database()))\nprint('Schema                      : {}'.format(session.get_current_schema()))\nprint('Warehouse                   : {}'.format(session.get_current_warehouse()))\nprint('Snowflake version           : {}'.format(snowflake_environment[0][1]))\nprint('Snowpark for Python version : {}.{}.{}'.format(snowpark_version[0],snowpark_version[1],snowpark_version[2]))",
   "execution_count": null,
   "outputs": []
  },
  {
   "cell_type": "markdown",
   "id": "b08c694f-8681-4c67-a06f-7f38c8878400",
   "metadata": {
    "name": "cell9",
    "collapsed": false
   },
   "source": "## Segmentation Statistics"
  },
  {
   "cell_type": "code",
   "id": "efb6b7bf-55eb-40e5-ae8f-52426bb91af7",
   "metadata": {
    "language": "python",
    "name": "cell6",
    "collapsed": false
   },
   "outputs": [],
   "source": "print('Number of customers per segment')\nsession.sql(f'''\n    SELECT customer_metrics.customer_segment AS customer_segment, COUNT(*) AS cnt\n    FROM customers\n    JOIN customer_node_mapping ON customer_node_mapping.customerId=customers.customerId\n    JOIN customer_metrics ON customer_node_mapping.nodeId=customer_metrics.nodeId\n    GROUP BY customer_segment\n    ORDER BY cnt DESC\n''').to_pandas()",
   "execution_count": null
  },
  {
   "cell_type": "markdown",
   "id": "4768e765-b507-41f9-8455-a1495a6cd776",
   "metadata": {
    "name": "cell12",
    "collapsed": false
   },
   "source": "## Customer Demographics"
  },
  {
   "cell_type": "code",
   "id": "1d5d7a4c-4274-4c25-a7e5-9f8d92c3a3d9",
   "metadata": {
    "language": "python",
    "name": "cell4",
    "collapsed": false
   },
   "outputs": [],
   "source": "print('Customers')\ncustomer_df = session.sql(f'''\n    SELECT customer_metrics.customer_segment AS customer_segment, customers.*\n    FROM customers\n    JOIN customer_node_mapping ON customer_node_mapping.customerId=customers.customerId\n    JOIN customer_metrics ON customer_node_mapping.nodeId=customer_metrics.nodeId\n    ORDER BY customer_metrics.customer_segment DESC\n''').to_pandas()\n\ncustomer_df['CUSTOMER_SEGMENT'] = customer_df['CUSTOMER_SEGMENT'].astype(str)\ncustomer_df",
   "execution_count": null
  },
  {
   "cell_type": "code",
   "id": "5d8bc685-7ff9-4373-a220-01f77403a225",
   "metadata": {
    "language": "python",
    "name": "cell7",
    "collapsed": false
   },
   "outputs": [],
   "source": "valid_segments = (customer_df[['CUSTOMERID','CUSTOMER_SEGMENT']]\n    .groupby('CUSTOMER_SEGMENT')\n    .count()\n    .query('CUSTOMERID > 1')\n    .index\n    .tolist())",
   "execution_count": null
  },
  {
   "cell_type": "code",
   "id": "d0d08609-fe4e-4b70-8423-63cecfb1888f",
   "metadata": {
    "language": "python",
    "name": "cell5",
    "collapsed": false
   },
   "outputs": [],
   "source": "import plotly.express as px\n\nfig = px.box(customer_df[customer_df.CUSTOMER_SEGMENT.isin(valid_segments)], \n             x='CUSTOMER_SEGMENT', y='AGE')\nfig.update_layout(title_text=f\"Cohort Age Distributions\", \n        font_size=10, \n        height=500\n)\nfig",
   "execution_count": null
  },
  {
   "cell_type": "markdown",
   "id": "5489fe63-284f-475a-a668-05adbcc33168",
   "metadata": {
    "name": "cell13",
    "collapsed": false
   },
   "source": "## Purchase Behavior"
  },
  {
   "cell_type": "code",
   "id": "c901f533-8eb4-4609-9509-a87e9d5b6a14",
   "metadata": {
    "language": "python",
    "name": "cell10",
    "collapsed": false
   },
   "outputs": [],
   "source": "purchase_by_segment_df = session.sql(f'''\n    SELECT customer_segment, prodname, producttypename, cnt, rank\n    FROM (\n        SELECT customer_segment, prodname, producttypename, cnt, \n            RANK() OVER (PARTITION BY customer_segment ORDER BY cnt DESC) AS rank\n        FROM (\n            SELECT customer_segment, prodname, producttypename, COUNT(*) AS cnt\n            FROM CUSTOMER_PURCHASES\n            GROUP BY customer_segment, prodname, producttypename\n        )\n    ) \n    WHERE Rank <=5\n''').to_pandas()\npurchase_by_segment_df['CUSTOMER_SEGMENT'] = purchase_by_segment_df['CUSTOMER_SEGMENT'].astype(str)\npurchase_by_segment_df = purchase_by_segment_df[purchase_by_segment_df['CUSTOMER_SEGMENT'].isin(valid_segments)]\npurchase_by_segment_df",
   "execution_count": null
  },
  {
   "cell_type": "code",
   "id": "c8fa28bd-0bb3-49c4-bdd9-a25f6bc7ea3c",
   "metadata": {
    "language": "python",
    "name": "cell11",
    "collapsed": false
   },
   "outputs": [],
   "source": "fig = px.bar(purchase_by_segment_df, x=\"PRODUCTTYPENAME\", y=\"CNT\",\n             facet_row=\"CUSTOMER_SEGMENT\")\n\nfig.update_layout(title_text=f\"Top Products by Segment\", \n        font_size=10, \n        height=1000,\n        width=1200\n)\nfig",
   "execution_count": null
  }
 ]
}