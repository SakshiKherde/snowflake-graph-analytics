{
 "cells": [
  {
   "cell_type": "markdown",
   "id": "cb21632f099cdf61",
   "metadata": {},
   "source": [
    "# Patient Cohort & Journey Analytics"
   ]
  },
  {
   "cell_type": "code",
   "execution_count": 1,
   "id": "3775908f-ca36-4846-8f38-5adca39217f2",
   "metadata": {
    "ExecuteTime": {
     "end_time": "2024-11-20T01:35:16.864525Z",
     "start_time": "2024-11-20T01:35:16.282621Z"
    }
   },
   "outputs": [],
   "source": [
    "from snowflake.snowpark import Session\n",
    "from snowflake.snowpark.version import VERSION\n",
    "\n",
    "session = Session.builder.config(\"connection_name\", \"patient_journey\").create()"
   ]
  },
  {
   "cell_type": "code",
   "execution_count": 2,
   "id": "fcfd2b5c-ab77-4a99-aee6-f13e27edfb1b",
   "metadata": {
    "ExecuteTime": {
     "end_time": "2024-11-20T01:35:17.782392Z",
     "start_time": "2024-11-20T01:35:17.574915Z"
    },
    "collapsed": false,
    "jupyter": {
     "outputs_hidden": false
    },
    "language": "python",
    "name": "cell4",
    "resultHeight": 195
   },
   "outputs": [
    {
     "name": "stdout",
     "output_type": "stream",
     "text": [
      "\n",
      "Connection Established with the following parameters:\n",
      "User                        : BLUMENFELD\n",
      "Role                        : \"ACCOUNTADMIN\"\n",
      "Database                    : \"PATIENT_DB\"\n",
      "Schema                      : \"PUBLIC\"\n",
      "Warehouse                   : \"ZACH_GDS_DEMO\"\n",
      "Snowflake version           : 8.44.1\n",
      "Snowpark for Python version : 1.25.0\n"
     ]
    }
   ],
   "source": [
    "snowflake_environment = session.sql('SELECT current_user(), current_version()').collect()\n",
    "snowpark_version = VERSION\n",
    "\n",
    "# current environment details\n",
    "print('\\nConnection Established with the following parameters:')\n",
    "print('User                        : {}'.format(snowflake_environment[0][0]))\n",
    "print('Role                        : {}'.format(session.get_current_role()))\n",
    "print('Database                    : {}'.format(session.get_current_database()))\n",
    "print('Schema                      : {}'.format(session.get_current_schema()))\n",
    "print('Warehouse                   : {}'.format(session.get_current_warehouse()))\n",
    "print('Snowflake version           : {}'.format(snowflake_environment[0][1]))\n",
    "print('Snowpark for Python version : {}.{}.{}'.format(snowpark_version[0],snowpark_version[1],snowpark_version[2]))"
   ]
  },
  {
   "cell_type": "markdown",
   "id": "299a4a6caf5a787e",
   "metadata": {},
   "source": [
    "## Patient Statistics by Cohort"
   ]
  },
  {
   "cell_type": "code",
   "execution_count": 3,
   "id": "724b7795-6929-4aca-b565-255ceb01b518",
   "metadata": {
    "ExecuteTime": {
     "end_time": "2024-11-20T01:35:20.282660Z",
     "start_time": "2024-11-20T01:35:19.635686Z"
    },
    "collapsed": false,
    "jupyter": {
     "outputs_hidden": false
    },
    "language": "python",
    "name": "cell3",
    "resultHeight": 439
   },
   "outputs": [
    {
     "data": {
      "text/html": [
       "<div>\n",
       "<style scoped>\n",
       "    .dataframe tbody tr th:only-of-type {\n",
       "        vertical-align: middle;\n",
       "    }\n",
       "\n",
       "    .dataframe tbody tr th {\n",
       "        vertical-align: top;\n",
       "    }\n",
       "\n",
       "    .dataframe thead th {\n",
       "        text-align: right;\n",
       "    }\n",
       "</style>\n",
       "<table border=\"1\" class=\"dataframe\">\n",
       "  <thead>\n",
       "    <tr style=\"text-align: right;\">\n",
       "      <th></th>\n",
       "      <th>COHORT</th>\n",
       "      <th>ID</th>\n",
       "      <th>BIRTHDATE</th>\n",
       "      <th>DEATHDATE</th>\n",
       "      <th>SSN</th>\n",
       "      <th>DRIVERS</th>\n",
       "      <th>PASSPORT</th>\n",
       "      <th>PREFIX</th>\n",
       "      <th>FIRST</th>\n",
       "      <th>MIDDLE</th>\n",
       "      <th>...</th>\n",
       "      <th>CITY</th>\n",
       "      <th>STATE</th>\n",
       "      <th>COUNTY</th>\n",
       "      <th>FIPS</th>\n",
       "      <th>ZIP</th>\n",
       "      <th>LAT</th>\n",
       "      <th>LON</th>\n",
       "      <th>HEALTHCARE_EXPENSES</th>\n",
       "      <th>HEALTHCARE_COVERAGE</th>\n",
       "      <th>INCOME</th>\n",
       "    </tr>\n",
       "  </thead>\n",
       "  <tbody>\n",
       "    <tr>\n",
       "      <th>0</th>\n",
       "      <td>123</td>\n",
       "      <td>34176754-ac3a-8b57-4308-ca62a38443b8</td>\n",
       "      <td>1994-03-20</td>\n",
       "      <td>None</td>\n",
       "      <td>999-65-3631</td>\n",
       "      <td>S99938832</td>\n",
       "      <td>X46996685X</td>\n",
       "      <td>Mrs.</td>\n",
       "      <td>Marjory382</td>\n",
       "      <td>Exie255</td>\n",
       "      <td>...</td>\n",
       "      <td>Deerfield</td>\n",
       "      <td>Massachusetts</td>\n",
       "      <td>Franklin County</td>\n",
       "      <td>25011.0</td>\n",
       "      <td>1342</td>\n",
       "      <td>42.591988</td>\n",
       "      <td>-72.644525</td>\n",
       "      <td>462613.35</td>\n",
       "      <td>92618.12</td>\n",
       "      <td>63123</td>\n",
       "    </tr>\n",
       "    <tr>\n",
       "      <th>1</th>\n",
       "      <td>123</td>\n",
       "      <td>9edcca4d-eac7-0f5d-8a4a-965ac977d3ad</td>\n",
       "      <td>1992-12-03</td>\n",
       "      <td>None</td>\n",
       "      <td>999-86-4120</td>\n",
       "      <td>S99968734</td>\n",
       "      <td>X72422570X</td>\n",
       "      <td>Mrs.</td>\n",
       "      <td>Barrie587</td>\n",
       "      <td>Mario764</td>\n",
       "      <td>...</td>\n",
       "      <td>Revere</td>\n",
       "      <td>Massachusetts</td>\n",
       "      <td>Suffolk County</td>\n",
       "      <td>25025.0</td>\n",
       "      <td>2151</td>\n",
       "      <td>42.402749</td>\n",
       "      <td>-70.994531</td>\n",
       "      <td>129367.59</td>\n",
       "      <td>299401.25</td>\n",
       "      <td>92808</td>\n",
       "    </tr>\n",
       "    <tr>\n",
       "      <th>2</th>\n",
       "      <td>123</td>\n",
       "      <td>67e34bab-9b75-d5f9-f3bc-6a6f13c8ba47</td>\n",
       "      <td>1998-08-15</td>\n",
       "      <td>None</td>\n",
       "      <td>999-74-9644</td>\n",
       "      <td>S99958204</td>\n",
       "      <td>X43150011X</td>\n",
       "      <td>Ms.</td>\n",
       "      <td>Carry843</td>\n",
       "      <td>Bao544</td>\n",
       "      <td>...</td>\n",
       "      <td>Winthrop</td>\n",
       "      <td>Massachusetts</td>\n",
       "      <td>Suffolk County</td>\n",
       "      <td>25025.0</td>\n",
       "      <td>2128</td>\n",
       "      <td>42.314054</td>\n",
       "      <td>-71.035209</td>\n",
       "      <td>7307.41</td>\n",
       "      <td>254858.00</td>\n",
       "      <td>11242</td>\n",
       "    </tr>\n",
       "    <tr>\n",
       "      <th>3</th>\n",
       "      <td>123</td>\n",
       "      <td>44dfd919-a4e2-08d4-aeb4-2c41d4b4f2d1</td>\n",
       "      <td>2002-03-10</td>\n",
       "      <td>None</td>\n",
       "      <td>999-88-5956</td>\n",
       "      <td>S99973850</td>\n",
       "      <td>X61889183X</td>\n",
       "      <td>Ms.</td>\n",
       "      <td>Chastity705</td>\n",
       "      <td>Leonor133</td>\n",
       "      <td>...</td>\n",
       "      <td>Townsend</td>\n",
       "      <td>Massachusetts</td>\n",
       "      <td>Middlesex County</td>\n",
       "      <td>25017.0</td>\n",
       "      <td>1469</td>\n",
       "      <td>42.704757</td>\n",
       "      <td>-71.694710</td>\n",
       "      <td>58868.48</td>\n",
       "      <td>473339.04</td>\n",
       "      <td>183674</td>\n",
       "    </tr>\n",
       "    <tr>\n",
       "      <th>4</th>\n",
       "      <td>123</td>\n",
       "      <td>80b0dccc-6025-c21c-4a80-632c98cffbcc</td>\n",
       "      <td>1981-04-14</td>\n",
       "      <td>None</td>\n",
       "      <td>999-17-2619</td>\n",
       "      <td>S99915328</td>\n",
       "      <td>X8704589X</td>\n",
       "      <td>Mrs.</td>\n",
       "      <td>Felicidad691</td>\n",
       "      <td>Dione665</td>\n",
       "      <td>...</td>\n",
       "      <td>Grafton</td>\n",
       "      <td>Massachusetts</td>\n",
       "      <td>Worcester County</td>\n",
       "      <td>NaN</td>\n",
       "      <td>0</td>\n",
       "      <td>42.238986</td>\n",
       "      <td>-71.702373</td>\n",
       "      <td>436003.07</td>\n",
       "      <td>359340.25</td>\n",
       "      <td>82747</td>\n",
       "    </tr>\n",
       "    <tr>\n",
       "      <th>...</th>\n",
       "      <td>...</td>\n",
       "      <td>...</td>\n",
       "      <td>...</td>\n",
       "      <td>...</td>\n",
       "      <td>...</td>\n",
       "      <td>...</td>\n",
       "      <td>...</td>\n",
       "      <td>...</td>\n",
       "      <td>...</td>\n",
       "      <td>...</td>\n",
       "      <td>...</td>\n",
       "      <td>...</td>\n",
       "      <td>...</td>\n",
       "      <td>...</td>\n",
       "      <td>...</td>\n",
       "      <td>...</td>\n",
       "      <td>...</td>\n",
       "      <td>...</td>\n",
       "      <td>...</td>\n",
       "      <td>...</td>\n",
       "      <td>...</td>\n",
       "    </tr>\n",
       "    <tr>\n",
       "      <th>195</th>\n",
       "      <td>16</td>\n",
       "      <td>c021e92e-a251-ea8a-cd36-b1d63212879c</td>\n",
       "      <td>1967-08-25</td>\n",
       "      <td>None</td>\n",
       "      <td>999-74-2189</td>\n",
       "      <td>S99926315</td>\n",
       "      <td>X35211253X</td>\n",
       "      <td>Ms.</td>\n",
       "      <td>Emilia403</td>\n",
       "      <td>María del Carmen27</td>\n",
       "      <td>...</td>\n",
       "      <td>Boston</td>\n",
       "      <td>Massachusetts</td>\n",
       "      <td>Suffolk County</td>\n",
       "      <td>25025.0</td>\n",
       "      <td>2120</td>\n",
       "      <td>42.292356</td>\n",
       "      <td>-71.102928</td>\n",
       "      <td>1130646.82</td>\n",
       "      <td>422244.57</td>\n",
       "      <td>44346</td>\n",
       "    </tr>\n",
       "    <tr>\n",
       "      <th>196</th>\n",
       "      <td>16</td>\n",
       "      <td>b078b69d-1a29-fd38-0312-3144b2a1eeb5</td>\n",
       "      <td>2003-09-01</td>\n",
       "      <td>None</td>\n",
       "      <td>999-71-3688</td>\n",
       "      <td>S99961697</td>\n",
       "      <td>X77892846X</td>\n",
       "      <td>Ms.</td>\n",
       "      <td>Annis955</td>\n",
       "      <td>Taryn906</td>\n",
       "      <td>...</td>\n",
       "      <td>Newton</td>\n",
       "      <td>Massachusetts</td>\n",
       "      <td>Middlesex County</td>\n",
       "      <td>25017.0</td>\n",
       "      <td>2464</td>\n",
       "      <td>42.339524</td>\n",
       "      <td>-71.178527</td>\n",
       "      <td>110979.81</td>\n",
       "      <td>587479.43</td>\n",
       "      <td>71731</td>\n",
       "    </tr>\n",
       "    <tr>\n",
       "      <th>197</th>\n",
       "      <td>16</td>\n",
       "      <td>db3a68f0-6825-4147-c594-84ca9364756b</td>\n",
       "      <td>1997-04-07</td>\n",
       "      <td>None</td>\n",
       "      <td>999-87-3319</td>\n",
       "      <td>S99921463</td>\n",
       "      <td>X66979809X</td>\n",
       "      <td>Ms.</td>\n",
       "      <td>Inocencia535</td>\n",
       "      <td>Margaret865</td>\n",
       "      <td>...</td>\n",
       "      <td>Boston</td>\n",
       "      <td>Massachusetts</td>\n",
       "      <td>Suffolk County</td>\n",
       "      <td>25025.0</td>\n",
       "      <td>2121</td>\n",
       "      <td>42.341063</td>\n",
       "      <td>-71.080945</td>\n",
       "      <td>136001.52</td>\n",
       "      <td>43841.24</td>\n",
       "      <td>722393</td>\n",
       "    </tr>\n",
       "    <tr>\n",
       "      <th>198</th>\n",
       "      <td>16</td>\n",
       "      <td>f5cd9ff8-b57c-bbe1-542a-10c11c5fec87</td>\n",
       "      <td>1961-11-30</td>\n",
       "      <td>2014-12-27</td>\n",
       "      <td>999-85-9073</td>\n",
       "      <td>S99988112</td>\n",
       "      <td>X33419968X</td>\n",
       "      <td>Ms.</td>\n",
       "      <td>Nicholle822</td>\n",
       "      <td>Christiane220</td>\n",
       "      <td>...</td>\n",
       "      <td>Springfield</td>\n",
       "      <td>Massachusetts</td>\n",
       "      <td>Hampden County</td>\n",
       "      <td>25013.0</td>\n",
       "      <td>1108</td>\n",
       "      <td>42.104842</td>\n",
       "      <td>-72.614749</td>\n",
       "      <td>20842.26</td>\n",
       "      <td>1097909.60</td>\n",
       "      <td>8601</td>\n",
       "    </tr>\n",
       "    <tr>\n",
       "      <th>199</th>\n",
       "      <td>16</td>\n",
       "      <td>b6608387-05b6-90d6-bdc5-5b4b457b1f0e</td>\n",
       "      <td>2000-03-30</td>\n",
       "      <td>None</td>\n",
       "      <td>999-59-4039</td>\n",
       "      <td>S99928385</td>\n",
       "      <td>X41102350X</td>\n",
       "      <td>Ms.</td>\n",
       "      <td>Shiela18</td>\n",
       "      <td>Demetrius568</td>\n",
       "      <td>...</td>\n",
       "      <td>Pepperell</td>\n",
       "      <td>Massachusetts</td>\n",
       "      <td>Middlesex County</td>\n",
       "      <td>25017.0</td>\n",
       "      <td>1463</td>\n",
       "      <td>42.708203</td>\n",
       "      <td>-71.641386</td>\n",
       "      <td>117389.27</td>\n",
       "      <td>0.00</td>\n",
       "      <td>41626</td>\n",
       "    </tr>\n",
       "  </tbody>\n",
       "</table>\n",
       "<p>200 rows × 29 columns</p>\n",
       "</div>"
      ],
      "text/plain": [
       "     COHORT                                    ID   BIRTHDATE   DEATHDATE  \\\n",
       "0       123  34176754-ac3a-8b57-4308-ca62a38443b8  1994-03-20        None   \n",
       "1       123  9edcca4d-eac7-0f5d-8a4a-965ac977d3ad  1992-12-03        None   \n",
       "2       123  67e34bab-9b75-d5f9-f3bc-6a6f13c8ba47  1998-08-15        None   \n",
       "3       123  44dfd919-a4e2-08d4-aeb4-2c41d4b4f2d1  2002-03-10        None   \n",
       "4       123  80b0dccc-6025-c21c-4a80-632c98cffbcc  1981-04-14        None   \n",
       "..      ...                                   ...         ...         ...   \n",
       "195      16  c021e92e-a251-ea8a-cd36-b1d63212879c  1967-08-25        None   \n",
       "196      16  b078b69d-1a29-fd38-0312-3144b2a1eeb5  2003-09-01        None   \n",
       "197      16  db3a68f0-6825-4147-c594-84ca9364756b  1997-04-07        None   \n",
       "198      16  f5cd9ff8-b57c-bbe1-542a-10c11c5fec87  1961-11-30  2014-12-27   \n",
       "199      16  b6608387-05b6-90d6-bdc5-5b4b457b1f0e  2000-03-30        None   \n",
       "\n",
       "             SSN    DRIVERS    PASSPORT PREFIX         FIRST  \\\n",
       "0    999-65-3631  S99938832  X46996685X   Mrs.    Marjory382   \n",
       "1    999-86-4120  S99968734  X72422570X   Mrs.     Barrie587   \n",
       "2    999-74-9644  S99958204  X43150011X    Ms.      Carry843   \n",
       "3    999-88-5956  S99973850  X61889183X    Ms.   Chastity705   \n",
       "4    999-17-2619  S99915328   X8704589X   Mrs.  Felicidad691   \n",
       "..           ...        ...         ...    ...           ...   \n",
       "195  999-74-2189  S99926315  X35211253X    Ms.     Emilia403   \n",
       "196  999-71-3688  S99961697  X77892846X    Ms.      Annis955   \n",
       "197  999-87-3319  S99921463  X66979809X    Ms.  Inocencia535   \n",
       "198  999-85-9073  S99988112  X33419968X    Ms.   Nicholle822   \n",
       "199  999-59-4039  S99928385  X41102350X    Ms.      Shiela18   \n",
       "\n",
       "                 MIDDLE  ...         CITY          STATE            COUNTY  \\\n",
       "0               Exie255  ...    Deerfield  Massachusetts   Franklin County   \n",
       "1              Mario764  ...       Revere  Massachusetts    Suffolk County   \n",
       "2                Bao544  ...     Winthrop  Massachusetts    Suffolk County   \n",
       "3             Leonor133  ...     Townsend  Massachusetts  Middlesex County   \n",
       "4              Dione665  ...      Grafton  Massachusetts  Worcester County   \n",
       "..                  ...  ...          ...            ...               ...   \n",
       "195  María del Carmen27  ...       Boston  Massachusetts    Suffolk County   \n",
       "196            Taryn906  ...       Newton  Massachusetts  Middlesex County   \n",
       "197         Margaret865  ...       Boston  Massachusetts    Suffolk County   \n",
       "198       Christiane220  ...  Springfield  Massachusetts    Hampden County   \n",
       "199        Demetrius568  ...    Pepperell  Massachusetts  Middlesex County   \n",
       "\n",
       "        FIPS   ZIP        LAT        LON HEALTHCARE_EXPENSES  \\\n",
       "0    25011.0  1342  42.591988 -72.644525           462613.35   \n",
       "1    25025.0  2151  42.402749 -70.994531           129367.59   \n",
       "2    25025.0  2128  42.314054 -71.035209             7307.41   \n",
       "3    25017.0  1469  42.704757 -71.694710            58868.48   \n",
       "4        NaN     0  42.238986 -71.702373           436003.07   \n",
       "..       ...   ...        ...        ...                 ...   \n",
       "195  25025.0  2120  42.292356 -71.102928          1130646.82   \n",
       "196  25017.0  2464  42.339524 -71.178527           110979.81   \n",
       "197  25025.0  2121  42.341063 -71.080945           136001.52   \n",
       "198  25013.0  1108  42.104842 -72.614749            20842.26   \n",
       "199  25017.0  1463  42.708203 -71.641386           117389.27   \n",
       "\n",
       "    HEALTHCARE_COVERAGE  INCOME  \n",
       "0              92618.12   63123  \n",
       "1             299401.25   92808  \n",
       "2             254858.00   11242  \n",
       "3             473339.04  183674  \n",
       "4             359340.25   82747  \n",
       "..                  ...     ...  \n",
       "195           422244.57   44346  \n",
       "196           587479.43   71731  \n",
       "197            43841.24  722393  \n",
       "198          1097909.60    8601  \n",
       "199                0.00   41626  \n",
       "\n",
       "[200 rows x 29 columns]"
      ]
     },
     "execution_count": 3,
     "metadata": {},
     "output_type": "execute_result"
    }
   ],
   "source": [
    "patient_cohorts_df = session.table(f'patient_db.public.patient_cohorts').to_pandas()\n",
    "patient_cohorts_df"
   ]
  },
  {
   "cell_type": "code",
   "execution_count": 6,
   "id": "abb19223be32fe84",
   "metadata": {
    "ExecuteTime": {
     "end_time": "2024-11-20T01:35:21.034432Z",
     "start_time": "2024-11-20T01:35:20.752945Z"
    }
   },
   "outputs": [
    {
     "name": "stdout",
     "output_type": "stream",
     "text": [
      "Number of Patients Per Cohort\n"
     ]
    },
    {
     "data": {
      "text/html": [
       "<div>\n",
       "<style scoped>\n",
       "    .dataframe tbody tr th:only-of-type {\n",
       "        vertical-align: middle;\n",
       "    }\n",
       "\n",
       "    .dataframe tbody tr th {\n",
       "        vertical-align: top;\n",
       "    }\n",
       "\n",
       "    .dataframe thead th {\n",
       "        text-align: right;\n",
       "    }\n",
       "</style>\n",
       "<table border=\"1\" class=\"dataframe\">\n",
       "  <thead>\n",
       "    <tr style=\"text-align: right;\">\n",
       "      <th></th>\n",
       "      <th>COHORT</th>\n",
       "      <th>CNT</th>\n",
       "    </tr>\n",
       "  </thead>\n",
       "  <tbody>\n",
       "    <tr>\n",
       "      <th>0</th>\n",
       "      <td>22</td>\n",
       "      <td>51</td>\n",
       "    </tr>\n",
       "    <tr>\n",
       "      <th>1</th>\n",
       "      <td>123</td>\n",
       "      <td>50</td>\n",
       "    </tr>\n",
       "    <tr>\n",
       "      <th>2</th>\n",
       "      <td>43</td>\n",
       "      <td>30</td>\n",
       "    </tr>\n",
       "    <tr>\n",
       "      <th>3</th>\n",
       "      <td>57</td>\n",
       "      <td>22</td>\n",
       "    </tr>\n",
       "    <tr>\n",
       "      <th>4</th>\n",
       "      <td>44</td>\n",
       "      <td>20</td>\n",
       "    </tr>\n",
       "    <tr>\n",
       "      <th>5</th>\n",
       "      <td>16</td>\n",
       "      <td>16</td>\n",
       "    </tr>\n",
       "    <tr>\n",
       "      <th>6</th>\n",
       "      <td>33</td>\n",
       "      <td>11</td>\n",
       "    </tr>\n",
       "  </tbody>\n",
       "</table>\n",
       "</div>"
      ],
      "text/plain": [
       "   COHORT  CNT\n",
       "0      22   51\n",
       "1     123   50\n",
       "2      43   30\n",
       "3      57   22\n",
       "4      44   20\n",
       "5      16   16\n",
       "6      33   11"
      ]
     },
     "execution_count": 6,
     "metadata": {},
     "output_type": "execute_result"
    }
   ],
   "source": [
    "print('Number of Patients Per Cohort')\n",
    "session.sql(f'''\n",
    "    SELECT COHORT, COUNT(*) AS CNT\n",
    "    FROM PATIENT_DB.PUBLIC.PATIENT_COHORTS\n",
    "    GROUP BY COHORT\n",
    "    ORDER BY CNT DESC\n",
    "''').to_pandas()"
   ]
  },
  {
   "cell_type": "code",
   "execution_count": 4,
   "id": "4bec6791148409b5",
   "metadata": {
    "ExecuteTime": {
     "end_time": "2024-11-20T01:35:20.286317Z",
     "start_time": "2024-11-20T01:35:20.283664Z"
    }
   },
   "outputs": [],
   "source": [
    "from datetime import date\n",
    "\n",
    "def calculate_age(born):\n",
    "    today = date.today()\n",
    "    return today.year - born.year - ((today.month, today.day) < (born.month, born.day))\n",
    "\n",
    "patient_cohorts_df['COHORT'] = patient_cohorts_df['COHORT'].astype(str)\n",
    "patient_cohorts_df['AGE'] = patient_cohorts_df['BIRTHDATE'].apply(calculate_age)"
   ]
  },
  {
   "cell_type": "code",
   "execution_count": 11,
   "id": "b9225df4325dfd4d",
   "metadata": {
    "ExecuteTime": {
     "end_time": "2024-11-20T01:35:22.629987Z",
     "start_time": "2024-11-20T01:35:22.222433Z"
    }
   },
   "outputs": [],
   "source": [
    "import plotly.express as px\n",
    "\n",
    "#fig = px.box(patient_cohorts_df, x='COHORT', y='INCOME')\n",
    "#fig.update_layout(title_text=f\"Cohort Income Distributions\", \n",
    "#        font_size=10, \n",
    "#        height=500\n",
    "#)\n",
    "#fig.show()"
   ]
  },
  {
   "cell_type": "code",
   "execution_count": 12,
   "id": "3f81ebe45e7885f7",
   "metadata": {
    "ExecuteTime": {
     "end_time": "2024-11-20T01:35:23.373345Z",
     "start_time": "2024-11-20T01:35:23.354115Z"
    }
   },
   "outputs": [
    {
     "data": {
      "application/vnd.plotly.v1+json": {
       "config": {
        "plotlyServerURL": "https://plot.ly"
       },
       "data": [
        {
         "alignmentgroup": "True",
         "hovertemplate": "COHORT=%{x}<br>AGE=%{y}<extra></extra>",
         "legendgroup": "",
         "marker": {
          "color": "#636efa"
         },
         "name": "",
         "notched": false,
         "offsetgroup": "",
         "orientation": "v",
         "showlegend": false,
         "type": "box",
         "x": [
          "123",
          "123",
          "123",
          "123",
          "123",
          "123",
          "123",
          "123",
          "123",
          "123",
          "123",
          "123",
          "123",
          "123",
          "123",
          "123",
          "123",
          "123",
          "123",
          "123",
          "123",
          "123",
          "123",
          "123",
          "123",
          "123",
          "123",
          "123",
          "123",
          "123",
          "123",
          "123",
          "123",
          "123",
          "123",
          "123",
          "123",
          "123",
          "123",
          "123",
          "123",
          "123",
          "123",
          "123",
          "123",
          "123",
          "123",
          "123",
          "123",
          "123",
          "57",
          "57",
          "57",
          "57",
          "57",
          "57",
          "57",
          "57",
          "57",
          "57",
          "57",
          "57",
          "57",
          "57",
          "57",
          "57",
          "57",
          "57",
          "57",
          "57",
          "57",
          "57",
          "44",
          "44",
          "44",
          "44",
          "44",
          "44",
          "44",
          "44",
          "44",
          "44",
          "44",
          "44",
          "44",
          "44",
          "44",
          "44",
          "44",
          "44",
          "44",
          "44",
          "43",
          "43",
          "43",
          "43",
          "43",
          "43",
          "43",
          "43",
          "43",
          "43",
          "43",
          "43",
          "43",
          "43",
          "43",
          "43",
          "43",
          "43",
          "43",
          "43",
          "43",
          "43",
          "43",
          "43",
          "43",
          "43",
          "43",
          "43",
          "43",
          "43",
          "33",
          "33",
          "33",
          "33",
          "33",
          "33",
          "33",
          "33",
          "33",
          "33",
          "33",
          "22",
          "22",
          "22",
          "22",
          "22",
          "22",
          "22",
          "22",
          "22",
          "22",
          "22",
          "22",
          "22",
          "22",
          "22",
          "22",
          "22",
          "22",
          "22",
          "22",
          "22",
          "22",
          "22",
          "22",
          "22",
          "22",
          "22",
          "22",
          "22",
          "22",
          "22",
          "22",
          "22",
          "22",
          "22",
          "22",
          "22",
          "22",
          "22",
          "22",
          "22",
          "22",
          "22",
          "22",
          "22",
          "22",
          "22",
          "22",
          "22",
          "22",
          "22",
          "16",
          "16",
          "16",
          "16",
          "16",
          "16",
          "16",
          "16",
          "16",
          "16",
          "16",
          "16",
          "16",
          "16",
          "16",
          "16"
         ],
         "x0": " ",
         "xaxis": "x",
         "y": [
          30,
          31,
          26,
          22,
          43,
          22,
          26,
          46,
          37,
          30,
          37,
          41,
          38,
          34,
          24,
          33,
          56,
          56,
          38,
          36,
          24,
          26,
          65,
          25,
          32,
          68,
          28,
          32,
          35,
          34,
          33,
          31,
          42,
          45,
          26,
          31,
          36,
          68,
          30,
          25,
          43,
          34,
          28,
          37,
          41,
          29,
          34,
          35,
          33,
          33,
          25,
          47,
          29,
          21,
          57,
          46,
          24,
          29,
          50,
          27,
          23,
          44,
          54,
          49,
          77,
          20,
          50,
          44,
          83,
          30,
          57,
          47,
          29,
          17,
          28,
          44,
          36,
          45,
          33,
          33,
          82,
          34,
          55,
          60,
          96,
          59,
          35,
          43,
          34,
          23,
          68,
          77,
          29,
          25,
          68,
          30,
          40,
          31,
          55,
          29,
          27,
          49,
          47,
          29,
          40,
          28,
          25,
          68,
          51,
          44,
          44,
          44,
          32,
          35,
          37,
          33,
          32,
          23,
          46,
          24,
          21,
          42,
          31,
          47,
          32,
          24,
          31,
          41,
          26,
          57,
          47,
          28,
          40,
          37,
          25,
          42,
          56,
          30,
          27,
          28,
          31,
          40,
          40,
          23,
          41,
          32,
          52,
          35,
          33,
          49,
          36,
          34,
          29,
          39,
          21,
          23,
          53,
          19,
          18,
          26,
          19,
          57,
          53,
          40,
          23,
          45,
          41,
          45,
          29,
          33,
          32,
          34,
          44,
          24,
          33,
          32,
          39,
          17,
          18,
          29,
          50,
          26,
          23,
          44,
          62,
          68,
          57,
          64,
          55,
          48,
          49,
          50,
          69,
          55,
          48,
          57,
          21,
          27,
          62,
          24
         ],
         "y0": " ",
         "yaxis": "y"
        }
       ],
       "layout": {
        "autosize": true,
        "boxmode": "group",
        "font": {
         "size": 10
        },
        "legend": {
         "tracegroupgap": 0
        },
        "margin": {
         "t": 60
        },
        "template": {
         "data": {
          "bar": [
           {
            "error_x": {
             "color": "#2a3f5f"
            },
            "error_y": {
             "color": "#2a3f5f"
            },
            "marker": {
             "line": {
              "color": "#E5ECF6",
              "width": 0.5
             },
             "pattern": {
              "fillmode": "overlay",
              "size": 10,
              "solidity": 0.2
             }
            },
            "type": "bar"
           }
          ],
          "barpolar": [
           {
            "marker": {
             "line": {
              "color": "#E5ECF6",
              "width": 0.5
             },
             "pattern": {
              "fillmode": "overlay",
              "size": 10,
              "solidity": 0.2
             }
            },
            "type": "barpolar"
           }
          ],
          "carpet": [
           {
            "aaxis": {
             "endlinecolor": "#2a3f5f",
             "gridcolor": "white",
             "linecolor": "white",
             "minorgridcolor": "white",
             "startlinecolor": "#2a3f5f"
            },
            "baxis": {
             "endlinecolor": "#2a3f5f",
             "gridcolor": "white",
             "linecolor": "white",
             "minorgridcolor": "white",
             "startlinecolor": "#2a3f5f"
            },
            "type": "carpet"
           }
          ],
          "choropleth": [
           {
            "colorbar": {
             "outlinewidth": 0,
             "ticks": ""
            },
            "type": "choropleth"
           }
          ],
          "contour": [
           {
            "colorbar": {
             "outlinewidth": 0,
             "ticks": ""
            },
            "colorscale": [
             [
              0,
              "#0d0887"
             ],
             [
              0.1111111111111111,
              "#46039f"
             ],
             [
              0.2222222222222222,
              "#7201a8"
             ],
             [
              0.3333333333333333,
              "#9c179e"
             ],
             [
              0.4444444444444444,
              "#bd3786"
             ],
             [
              0.5555555555555556,
              "#d8576b"
             ],
             [
              0.6666666666666666,
              "#ed7953"
             ],
             [
              0.7777777777777778,
              "#fb9f3a"
             ],
             [
              0.8888888888888888,
              "#fdca26"
             ],
             [
              1,
              "#f0f921"
             ]
            ],
            "type": "contour"
           }
          ],
          "contourcarpet": [
           {
            "colorbar": {
             "outlinewidth": 0,
             "ticks": ""
            },
            "type": "contourcarpet"
           }
          ],
          "heatmap": [
           {
            "colorbar": {
             "outlinewidth": 0,
             "ticks": ""
            },
            "colorscale": [
             [
              0,
              "#0d0887"
             ],
             [
              0.1111111111111111,
              "#46039f"
             ],
             [
              0.2222222222222222,
              "#7201a8"
             ],
             [
              0.3333333333333333,
              "#9c179e"
             ],
             [
              0.4444444444444444,
              "#bd3786"
             ],
             [
              0.5555555555555556,
              "#d8576b"
             ],
             [
              0.6666666666666666,
              "#ed7953"
             ],
             [
              0.7777777777777778,
              "#fb9f3a"
             ],
             [
              0.8888888888888888,
              "#fdca26"
             ],
             [
              1,
              "#f0f921"
             ]
            ],
            "type": "heatmap"
           }
          ],
          "heatmapgl": [
           {
            "colorbar": {
             "outlinewidth": 0,
             "ticks": ""
            },
            "colorscale": [
             [
              0,
              "#0d0887"
             ],
             [
              0.1111111111111111,
              "#46039f"
             ],
             [
              0.2222222222222222,
              "#7201a8"
             ],
             [
              0.3333333333333333,
              "#9c179e"
             ],
             [
              0.4444444444444444,
              "#bd3786"
             ],
             [
              0.5555555555555556,
              "#d8576b"
             ],
             [
              0.6666666666666666,
              "#ed7953"
             ],
             [
              0.7777777777777778,
              "#fb9f3a"
             ],
             [
              0.8888888888888888,
              "#fdca26"
             ],
             [
              1,
              "#f0f921"
             ]
            ],
            "type": "heatmapgl"
           }
          ],
          "histogram": [
           {
            "marker": {
             "pattern": {
              "fillmode": "overlay",
              "size": 10,
              "solidity": 0.2
             }
            },
            "type": "histogram"
           }
          ],
          "histogram2d": [
           {
            "colorbar": {
             "outlinewidth": 0,
             "ticks": ""
            },
            "colorscale": [
             [
              0,
              "#0d0887"
             ],
             [
              0.1111111111111111,
              "#46039f"
             ],
             [
              0.2222222222222222,
              "#7201a8"
             ],
             [
              0.3333333333333333,
              "#9c179e"
             ],
             [
              0.4444444444444444,
              "#bd3786"
             ],
             [
              0.5555555555555556,
              "#d8576b"
             ],
             [
              0.6666666666666666,
              "#ed7953"
             ],
             [
              0.7777777777777778,
              "#fb9f3a"
             ],
             [
              0.8888888888888888,
              "#fdca26"
             ],
             [
              1,
              "#f0f921"
             ]
            ],
            "type": "histogram2d"
           }
          ],
          "histogram2dcontour": [
           {
            "colorbar": {
             "outlinewidth": 0,
             "ticks": ""
            },
            "colorscale": [
             [
              0,
              "#0d0887"
             ],
             [
              0.1111111111111111,
              "#46039f"
             ],
             [
              0.2222222222222222,
              "#7201a8"
             ],
             [
              0.3333333333333333,
              "#9c179e"
             ],
             [
              0.4444444444444444,
              "#bd3786"
             ],
             [
              0.5555555555555556,
              "#d8576b"
             ],
             [
              0.6666666666666666,
              "#ed7953"
             ],
             [
              0.7777777777777778,
              "#fb9f3a"
             ],
             [
              0.8888888888888888,
              "#fdca26"
             ],
             [
              1,
              "#f0f921"
             ]
            ],
            "type": "histogram2dcontour"
           }
          ],
          "mesh3d": [
           {
            "colorbar": {
             "outlinewidth": 0,
             "ticks": ""
            },
            "type": "mesh3d"
           }
          ],
          "parcoords": [
           {
            "line": {
             "colorbar": {
              "outlinewidth": 0,
              "ticks": ""
             }
            },
            "type": "parcoords"
           }
          ],
          "pie": [
           {
            "automargin": true,
            "type": "pie"
           }
          ],
          "scatter": [
           {
            "fillpattern": {
             "fillmode": "overlay",
             "size": 10,
             "solidity": 0.2
            },
            "type": "scatter"
           }
          ],
          "scatter3d": [
           {
            "line": {
             "colorbar": {
              "outlinewidth": 0,
              "ticks": ""
             }
            },
            "marker": {
             "colorbar": {
              "outlinewidth": 0,
              "ticks": ""
             }
            },
            "type": "scatter3d"
           }
          ],
          "scattercarpet": [
           {
            "marker": {
             "colorbar": {
              "outlinewidth": 0,
              "ticks": ""
             }
            },
            "type": "scattercarpet"
           }
          ],
          "scattergeo": [
           {
            "marker": {
             "colorbar": {
              "outlinewidth": 0,
              "ticks": ""
             }
            },
            "type": "scattergeo"
           }
          ],
          "scattergl": [
           {
            "marker": {
             "colorbar": {
              "outlinewidth": 0,
              "ticks": ""
             }
            },
            "type": "scattergl"
           }
          ],
          "scattermapbox": [
           {
            "marker": {
             "colorbar": {
              "outlinewidth": 0,
              "ticks": ""
             }
            },
            "type": "scattermapbox"
           }
          ],
          "scatterpolar": [
           {
            "marker": {
             "colorbar": {
              "outlinewidth": 0,
              "ticks": ""
             }
            },
            "type": "scatterpolar"
           }
          ],
          "scatterpolargl": [
           {
            "marker": {
             "colorbar": {
              "outlinewidth": 0,
              "ticks": ""
             }
            },
            "type": "scatterpolargl"
           }
          ],
          "scatterternary": [
           {
            "marker": {
             "colorbar": {
              "outlinewidth": 0,
              "ticks": ""
             }
            },
            "type": "scatterternary"
           }
          ],
          "surface": [
           {
            "colorbar": {
             "outlinewidth": 0,
             "ticks": ""
            },
            "colorscale": [
             [
              0,
              "#0d0887"
             ],
             [
              0.1111111111111111,
              "#46039f"
             ],
             [
              0.2222222222222222,
              "#7201a8"
             ],
             [
              0.3333333333333333,
              "#9c179e"
             ],
             [
              0.4444444444444444,
              "#bd3786"
             ],
             [
              0.5555555555555556,
              "#d8576b"
             ],
             [
              0.6666666666666666,
              "#ed7953"
             ],
             [
              0.7777777777777778,
              "#fb9f3a"
             ],
             [
              0.8888888888888888,
              "#fdca26"
             ],
             [
              1,
              "#f0f921"
             ]
            ],
            "type": "surface"
           }
          ],
          "table": [
           {
            "cells": {
             "fill": {
              "color": "#EBF0F8"
             },
             "line": {
              "color": "white"
             }
            },
            "header": {
             "fill": {
              "color": "#C8D4E3"
             },
             "line": {
              "color": "white"
             }
            },
            "type": "table"
           }
          ]
         },
         "layout": {
          "annotationdefaults": {
           "arrowcolor": "#2a3f5f",
           "arrowhead": 0,
           "arrowwidth": 1
          },
          "autotypenumbers": "strict",
          "coloraxis": {
           "colorbar": {
            "outlinewidth": 0,
            "ticks": ""
           }
          },
          "colorscale": {
           "diverging": [
            [
             0,
             "#8e0152"
            ],
            [
             0.1,
             "#c51b7d"
            ],
            [
             0.2,
             "#de77ae"
            ],
            [
             0.3,
             "#f1b6da"
            ],
            [
             0.4,
             "#fde0ef"
            ],
            [
             0.5,
             "#f7f7f7"
            ],
            [
             0.6,
             "#e6f5d0"
            ],
            [
             0.7,
             "#b8e186"
            ],
            [
             0.8,
             "#7fbc41"
            ],
            [
             0.9,
             "#4d9221"
            ],
            [
             1,
             "#276419"
            ]
           ],
           "sequential": [
            [
             0,
             "#0d0887"
            ],
            [
             0.1111111111111111,
             "#46039f"
            ],
            [
             0.2222222222222222,
             "#7201a8"
            ],
            [
             0.3333333333333333,
             "#9c179e"
            ],
            [
             0.4444444444444444,
             "#bd3786"
            ],
            [
             0.5555555555555556,
             "#d8576b"
            ],
            [
             0.6666666666666666,
             "#ed7953"
            ],
            [
             0.7777777777777778,
             "#fb9f3a"
            ],
            [
             0.8888888888888888,
             "#fdca26"
            ],
            [
             1,
             "#f0f921"
            ]
           ],
           "sequentialminus": [
            [
             0,
             "#0d0887"
            ],
            [
             0.1111111111111111,
             "#46039f"
            ],
            [
             0.2222222222222222,
             "#7201a8"
            ],
            [
             0.3333333333333333,
             "#9c179e"
            ],
            [
             0.4444444444444444,
             "#bd3786"
            ],
            [
             0.5555555555555556,
             "#d8576b"
            ],
            [
             0.6666666666666666,
             "#ed7953"
            ],
            [
             0.7777777777777778,
             "#fb9f3a"
            ],
            [
             0.8888888888888888,
             "#fdca26"
            ],
            [
             1,
             "#f0f921"
            ]
           ]
          },
          "colorway": [
           "#636efa",
           "#EF553B",
           "#00cc96",
           "#ab63fa",
           "#FFA15A",
           "#19d3f3",
           "#FF6692",
           "#B6E880",
           "#FF97FF",
           "#FECB52"
          ],
          "font": {
           "color": "#2a3f5f"
          },
          "geo": {
           "bgcolor": "white",
           "lakecolor": "white",
           "landcolor": "#E5ECF6",
           "showlakes": true,
           "showland": true,
           "subunitcolor": "white"
          },
          "hoverlabel": {
           "align": "left"
          },
          "hovermode": "closest",
          "mapbox": {
           "style": "light"
          },
          "paper_bgcolor": "white",
          "plot_bgcolor": "#E5ECF6",
          "polar": {
           "angularaxis": {
            "gridcolor": "white",
            "linecolor": "white",
            "ticks": ""
           },
           "bgcolor": "#E5ECF6",
           "radialaxis": {
            "gridcolor": "white",
            "linecolor": "white",
            "ticks": ""
           }
          },
          "scene": {
           "xaxis": {
            "backgroundcolor": "#E5ECF6",
            "gridcolor": "white",
            "gridwidth": 2,
            "linecolor": "white",
            "showbackground": true,
            "ticks": "",
            "zerolinecolor": "white"
           },
           "yaxis": {
            "backgroundcolor": "#E5ECF6",
            "gridcolor": "white",
            "gridwidth": 2,
            "linecolor": "white",
            "showbackground": true,
            "ticks": "",
            "zerolinecolor": "white"
           },
           "zaxis": {
            "backgroundcolor": "#E5ECF6",
            "gridcolor": "white",
            "gridwidth": 2,
            "linecolor": "white",
            "showbackground": true,
            "ticks": "",
            "zerolinecolor": "white"
           }
          },
          "shapedefaults": {
           "line": {
            "color": "#2a3f5f"
           }
          },
          "ternary": {
           "aaxis": {
            "gridcolor": "white",
            "linecolor": "white",
            "ticks": ""
           },
           "baxis": {
            "gridcolor": "white",
            "linecolor": "white",
            "ticks": ""
           },
           "bgcolor": "#E5ECF6",
           "caxis": {
            "gridcolor": "white",
            "linecolor": "white",
            "ticks": ""
           }
          },
          "title": {
           "x": 0.05
          },
          "xaxis": {
           "automargin": true,
           "gridcolor": "white",
           "linecolor": "white",
           "ticks": "",
           "title": {
            "standoff": 15
           },
           "zerolinecolor": "white",
           "zerolinewidth": 2
          },
          "yaxis": {
           "automargin": true,
           "gridcolor": "white",
           "linecolor": "white",
           "ticks": "",
           "title": {
            "standoff": 15
           },
           "zerolinecolor": "white",
           "zerolinewidth": 2
          }
         }
        },
        "title": {
         "text": "Cohort Age Distributions"
        },
        "xaxis": {
         "anchor": "y",
         "autorange": true,
         "domain": [
          0,
          1
         ],
         "range": [
          -0.5,
          6.5
         ],
         "title": {
          "text": "COHORT"
         },
         "type": "category"
        },
        "yaxis": {
         "anchor": "x",
         "autorange": true,
         "domain": [
          0,
          1
         ],
         "range": [
          12.61111111111111,
          100.38888888888889
         ],
         "title": {
          "text": "AGE"
         },
         "type": "linear"
        }
       }
      },
      "image/png": "[encoded data removed]",
      "text/html": [
       "<div>                            <div id=\"a7f1ff9a-d647-45f0-bd10-b6c957911ff6\" class=\"plotly-graph-div\" style=\"height:500px; width:100%;\"></div>            <script type=\"text/javascript\">                require([\"plotly\"], function(Plotly) {                    window.PLOTLYENV=window.PLOTLYENV || {};                                    if (document.getElementById(\"a7f1ff9a-d647-45f0-bd10-b6c957911ff6\")) {                    Plotly.newPlot(                        \"a7f1ff9a-d647-45f0-bd10-b6c957911ff6\",                        [{\"alignmentgroup\":\"True\",\"hovertemplate\":\"COHORT=%{x}\\u003cbr\\u003eAGE=%{y}\\u003cextra\\u003e\\u003c\\u002fextra\\u003e\",\"legendgroup\":\"\",\"marker\":{\"color\":\"#636efa\"},\"name\":\"\",\"notched\":false,\"offsetgroup\":\"\",\"orientation\":\"v\",\"showlegend\":false,\"x\":[\"123\",\"123\",\"123\",\"123\",\"123\",\"123\",\"123\",\"123\",\"123\",\"123\",\"123\",\"123\",\"123\",\"123\",\"123\",\"123\",\"123\",\"123\",\"123\",\"123\",\"123\",\"123\",\"123\",\"123\",\"123\",\"123\",\"123\",\"123\",\"123\",\"123\",\"123\",\"123\",\"123\",\"123\",\"123\",\"123\",\"123\",\"123\",\"123\",\"123\",\"123\",\"123\",\"123\",\"123\",\"123\",\"123\",\"123\",\"123\",\"123\",\"123\",\"57\",\"57\",\"57\",\"57\",\"57\",\"57\",\"57\",\"57\",\"57\",\"57\",\"57\",\"57\",\"57\",\"57\",\"57\",\"57\",\"57\",\"57\",\"57\",\"57\",\"57\",\"57\",\"44\",\"44\",\"44\",\"44\",\"44\",\"44\",\"44\",\"44\",\"44\",\"44\",\"44\",\"44\",\"44\",\"44\",\"44\",\"44\",\"44\",\"44\",\"44\",\"44\",\"43\",\"43\",\"43\",\"43\",\"43\",\"43\",\"43\",\"43\",\"43\",\"43\",\"43\",\"43\",\"43\",\"43\",\"43\",\"43\",\"43\",\"43\",\"43\",\"43\",\"43\",\"43\",\"43\",\"43\",\"43\",\"43\",\"43\",\"43\",\"43\",\"43\",\"33\",\"33\",\"33\",\"33\",\"33\",\"33\",\"33\",\"33\",\"33\",\"33\",\"33\",\"22\",\"22\",\"22\",\"22\",\"22\",\"22\",\"22\",\"22\",\"22\",\"22\",\"22\",\"22\",\"22\",\"22\",\"22\",\"22\",\"22\",\"22\",\"22\",\"22\",\"22\",\"22\",\"22\",\"22\",\"22\",\"22\",\"22\",\"22\",\"22\",\"22\",\"22\",\"22\",\"22\",\"22\",\"22\",\"22\",\"22\",\"22\",\"22\",\"22\",\"22\",\"22\",\"22\",\"22\",\"22\",\"22\",\"22\",\"22\",\"22\",\"22\",\"22\",\"16\",\"16\",\"16\",\"16\",\"16\",\"16\",\"16\",\"16\",\"16\",\"16\",\"16\",\"16\",\"16\",\"16\",\"16\",\"16\"],\"x0\":\" \",\"xaxis\":\"x\",\"y\":[30,31,26,22,43,22,26,46,37,30,37,41,38,34,24,33,56,56,38,36,24,26,65,25,32,68,28,32,35,34,33,31,42,45,26,31,36,68,30,25,43,34,28,37,41,29,34,35,33,33,25,47,29,21,57,46,24,29,50,27,23,44,54,49,77,20,50,44,83,30,57,47,29,17,28,44,36,45,33,33,82,34,55,60,96,59,35,43,34,23,68,77,29,25,68,30,40,31,55,29,27,49,47,29,40,28,25,68,51,44,44,44,32,35,37,33,32,23,46,24,21,42,31,47,32,24,31,41,26,57,47,28,40,37,25,42,56,30,27,28,31,40,40,23,41,32,52,35,33,49,36,34,29,39,21,23,53,19,18,26,19,57,53,40,23,45,41,45,29,33,32,34,44,24,33,32,39,17,18,29,50,26,23,44,62,68,57,64,55,48,49,50,69,55,48,57,21,27,62,24],\"y0\":\" \",\"yaxis\":\"y\",\"type\":\"box\"}],                        {\"template\":{\"data\":{\"histogram2dcontour\":[{\"type\":\"histogram2dcontour\",\"colorbar\":{\"outlinewidth\":0,\"ticks\":\"\"},\"colorscale\":[[0.0,\"#0d0887\"],[0.1111111111111111,\"#46039f\"],[0.2222222222222222,\"#7201a8\"],[0.3333333333333333,\"#9c179e\"],[0.4444444444444444,\"#bd3786\"],[0.5555555555555556,\"#d8576b\"],[0.6666666666666666,\"#ed7953\"],[0.7777777777777778,\"#fb9f3a\"],[0.8888888888888888,\"#fdca26\"],[1.0,\"#f0f921\"]]}],\"choropleth\":[{\"type\":\"choropleth\",\"colorbar\":{\"outlinewidth\":0,\"ticks\":\"\"}}],\"histogram2d\":[{\"type\":\"histogram2d\",\"colorbar\":{\"outlinewidth\":0,\"ticks\":\"\"},\"colorscale\":[[0.0,\"#0d0887\"],[0.1111111111111111,\"#46039f\"],[0.2222222222222222,\"#7201a8\"],[0.3333333333333333,\"#9c179e\"],[0.4444444444444444,\"#bd3786\"],[0.5555555555555556,\"#d8576b\"],[0.6666666666666666,\"#ed7953\"],[0.7777777777777778,\"#fb9f3a\"],[0.8888888888888888,\"#fdca26\"],[1.0,\"#f0f921\"]]}],\"heatmap\":[{\"type\":\"heatmap\",\"colorbar\":{\"outlinewidth\":0,\"ticks\":\"\"},\"colorscale\":[[0.0,\"#0d0887\"],[0.1111111111111111,\"#46039f\"],[0.2222222222222222,\"#7201a8\"],[0.3333333333333333,\"#9c179e\"],[0.4444444444444444,\"#bd3786\"],[0.5555555555555556,\"#d8576b\"],[0.6666666666666666,\"#ed7953\"],[0.7777777777777778,\"#fb9f3a\"],[0.8888888888888888,\"#fdca26\"],[1.0,\"#f0f921\"]]}],\"heatmapgl\":[{\"type\":\"heatmapgl\",\"colorbar\":{\"outlinewidth\":0,\"ticks\":\"\"},\"colorscale\":[[0.0,\"#0d0887\"],[0.1111111111111111,\"#46039f\"],[0.2222222222222222,\"#7201a8\"],[0.3333333333333333,\"#9c179e\"],[0.4444444444444444,\"#bd3786\"],[0.5555555555555556,\"#d8576b\"],[0.6666666666666666,\"#ed7953\"],[0.7777777777777778,\"#fb9f3a\"],[0.8888888888888888,\"#fdca26\"],[1.0,\"#f0f921\"]]}],\"contourcarpet\":[{\"type\":\"contourcarpet\",\"colorbar\":{\"outlinewidth\":0,\"ticks\":\"\"}}],\"contour\":[{\"type\":\"contour\",\"colorbar\":{\"outlinewidth\":0,\"ticks\":\"\"},\"colorscale\":[[0.0,\"#0d0887\"],[0.1111111111111111,\"#46039f\"],[0.2222222222222222,\"#7201a8\"],[0.3333333333333333,\"#9c179e\"],[0.4444444444444444,\"#bd3786\"],[0.5555555555555556,\"#d8576b\"],[0.6666666666666666,\"#ed7953\"],[0.7777777777777778,\"#fb9f3a\"],[0.8888888888888888,\"#fdca26\"],[1.0,\"#f0f921\"]]}],\"surface\":[{\"type\":\"surface\",\"colorbar\":{\"outlinewidth\":0,\"ticks\":\"\"},\"colorscale\":[[0.0,\"#0d0887\"],[0.1111111111111111,\"#46039f\"],[0.2222222222222222,\"#7201a8\"],[0.3333333333333333,\"#9c179e\"],[0.4444444444444444,\"#bd3786\"],[0.5555555555555556,\"#d8576b\"],[0.6666666666666666,\"#ed7953\"],[0.7777777777777778,\"#fb9f3a\"],[0.8888888888888888,\"#fdca26\"],[1.0,\"#f0f921\"]]}],\"mesh3d\":[{\"type\":\"mesh3d\",\"colorbar\":{\"outlinewidth\":0,\"ticks\":\"\"}}],\"scatter\":[{\"fillpattern\":{\"fillmode\":\"overlay\",\"size\":10,\"solidity\":0.2},\"type\":\"scatter\"}],\"parcoords\":[{\"type\":\"parcoords\",\"line\":{\"colorbar\":{\"outlinewidth\":0,\"ticks\":\"\"}}}],\"scatterpolargl\":[{\"type\":\"scatterpolargl\",\"marker\":{\"colorbar\":{\"outlinewidth\":0,\"ticks\":\"\"}}}],\"bar\":[{\"error_x\":{\"color\":\"#2a3f5f\"},\"error_y\":{\"color\":\"#2a3f5f\"},\"marker\":{\"line\":{\"color\":\"#E5ECF6\",\"width\":0.5},\"pattern\":{\"fillmode\":\"overlay\",\"size\":10,\"solidity\":0.2}},\"type\":\"bar\"}],\"scattergeo\":[{\"type\":\"scattergeo\",\"marker\":{\"colorbar\":{\"outlinewidth\":0,\"ticks\":\"\"}}}],\"scatterpolar\":[{\"type\":\"scatterpolar\",\"marker\":{\"colorbar\":{\"outlinewidth\":0,\"ticks\":\"\"}}}],\"histogram\":[{\"marker\":{\"pattern\":{\"fillmode\":\"overlay\",\"size\":10,\"solidity\":0.2}},\"type\":\"histogram\"}],\"scattergl\":[{\"type\":\"scattergl\",\"marker\":{\"colorbar\":{\"outlinewidth\":0,\"ticks\":\"\"}}}],\"scatter3d\":[{\"type\":\"scatter3d\",\"line\":{\"colorbar\":{\"outlinewidth\":0,\"ticks\":\"\"}},\"marker\":{\"colorbar\":{\"outlinewidth\":0,\"ticks\":\"\"}}}],\"scattermapbox\":[{\"type\":\"scattermapbox\",\"marker\":{\"colorbar\":{\"outlinewidth\":0,\"ticks\":\"\"}}}],\"scatterternary\":[{\"type\":\"scatterternary\",\"marker\":{\"colorbar\":{\"outlinewidth\":0,\"ticks\":\"\"}}}],\"scattercarpet\":[{\"type\":\"scattercarpet\",\"marker\":{\"colorbar\":{\"outlinewidth\":0,\"ticks\":\"\"}}}],\"carpet\":[{\"aaxis\":{\"endlinecolor\":\"#2a3f5f\",\"gridcolor\":\"white\",\"linecolor\":\"white\",\"minorgridcolor\":\"white\",\"startlinecolor\":\"#2a3f5f\"},\"baxis\":{\"endlinecolor\":\"#2a3f5f\",\"gridcolor\":\"white\",\"linecolor\":\"white\",\"minorgridcolor\":\"white\",\"startlinecolor\":\"#2a3f5f\"},\"type\":\"carpet\"}],\"table\":[{\"cells\":{\"fill\":{\"color\":\"#EBF0F8\"},\"line\":{\"color\":\"white\"}},\"header\":{\"fill\":{\"color\":\"#C8D4E3\"},\"line\":{\"color\":\"white\"}},\"type\":\"table\"}],\"barpolar\":[{\"marker\":{\"line\":{\"color\":\"#E5ECF6\",\"width\":0.5},\"pattern\":{\"fillmode\":\"overlay\",\"size\":10,\"solidity\":0.2}},\"type\":\"barpolar\"}],\"pie\":[{\"automargin\":true,\"type\":\"pie\"}]},\"layout\":{\"autotypenumbers\":\"strict\",\"colorway\":[\"#636efa\",\"#EF553B\",\"#00cc96\",\"#ab63fa\",\"#FFA15A\",\"#19d3f3\",\"#FF6692\",\"#B6E880\",\"#FF97FF\",\"#FECB52\"],\"font\":{\"color\":\"#2a3f5f\"},\"hovermode\":\"closest\",\"hoverlabel\":{\"align\":\"left\"},\"paper_bgcolor\":\"white\",\"plot_bgcolor\":\"#E5ECF6\",\"polar\":{\"bgcolor\":\"#E5ECF6\",\"angularaxis\":{\"gridcolor\":\"white\",\"linecolor\":\"white\",\"ticks\":\"\"},\"radialaxis\":{\"gridcolor\":\"white\",\"linecolor\":\"white\",\"ticks\":\"\"}},\"ternary\":{\"bgcolor\":\"#E5ECF6\",\"aaxis\":{\"gridcolor\":\"white\",\"linecolor\":\"white\",\"ticks\":\"\"},\"baxis\":{\"gridcolor\":\"white\",\"linecolor\":\"white\",\"ticks\":\"\"},\"caxis\":{\"gridcolor\":\"white\",\"linecolor\":\"white\",\"ticks\":\"\"}},\"coloraxis\":{\"colorbar\":{\"outlinewidth\":0,\"ticks\":\"\"}},\"colorscale\":{\"sequential\":[[0.0,\"#0d0887\"],[0.1111111111111111,\"#46039f\"],[0.2222222222222222,\"#7201a8\"],[0.3333333333333333,\"#9c179e\"],[0.4444444444444444,\"#bd3786\"],[0.5555555555555556,\"#d8576b\"],[0.6666666666666666,\"#ed7953\"],[0.7777777777777778,\"#fb9f3a\"],[0.8888888888888888,\"#fdca26\"],[1.0,\"#f0f921\"]],\"sequentialminus\":[[0.0,\"#0d0887\"],[0.1111111111111111,\"#46039f\"],[0.2222222222222222,\"#7201a8\"],[0.3333333333333333,\"#9c179e\"],[0.4444444444444444,\"#bd3786\"],[0.5555555555555556,\"#d8576b\"],[0.6666666666666666,\"#ed7953\"],[0.7777777777777778,\"#fb9f3a\"],[0.8888888888888888,\"#fdca26\"],[1.0,\"#f0f921\"]],\"diverging\":[[0,\"#8e0152\"],[0.1,\"#c51b7d\"],[0.2,\"#de77ae\"],[0.3,\"#f1b6da\"],[0.4,\"#fde0ef\"],[0.5,\"#f7f7f7\"],[0.6,\"#e6f5d0\"],[0.7,\"#b8e186\"],[0.8,\"#7fbc41\"],[0.9,\"#4d9221\"],[1,\"#276419\"]]},\"xaxis\":{\"gridcolor\":\"white\",\"linecolor\":\"white\",\"ticks\":\"\",\"title\":{\"standoff\":15},\"zerolinecolor\":\"white\",\"automargin\":true,\"zerolinewidth\":2},\"yaxis\":{\"gridcolor\":\"white\",\"linecolor\":\"white\",\"ticks\":\"\",\"title\":{\"standoff\":15},\"zerolinecolor\":\"white\",\"automargin\":true,\"zerolinewidth\":2},\"scene\":{\"xaxis\":{\"backgroundcolor\":\"#E5ECF6\",\"gridcolor\":\"white\",\"linecolor\":\"white\",\"showbackground\":true,\"ticks\":\"\",\"zerolinecolor\":\"white\",\"gridwidth\":2},\"yaxis\":{\"backgroundcolor\":\"#E5ECF6\",\"gridcolor\":\"white\",\"linecolor\":\"white\",\"showbackground\":true,\"ticks\":\"\",\"zerolinecolor\":\"white\",\"gridwidth\":2},\"zaxis\":{\"backgroundcolor\":\"#E5ECF6\",\"gridcolor\":\"white\",\"linecolor\":\"white\",\"showbackground\":true,\"ticks\":\"\",\"zerolinecolor\":\"white\",\"gridwidth\":2}},\"shapedefaults\":{\"line\":{\"color\":\"#2a3f5f\"}},\"annotationdefaults\":{\"arrowcolor\":\"#2a3f5f\",\"arrowhead\":0,\"arrowwidth\":1},\"geo\":{\"bgcolor\":\"white\",\"landcolor\":\"#E5ECF6\",\"subunitcolor\":\"white\",\"showland\":true,\"showlakes\":true,\"lakecolor\":\"white\"},\"title\":{\"x\":0.05},\"mapbox\":{\"style\":\"light\"}}},\"xaxis\":{\"anchor\":\"y\",\"domain\":[0.0,1.0],\"title\":{\"text\":\"COHORT\"}},\"yaxis\":{\"anchor\":\"x\",\"domain\":[0.0,1.0],\"title\":{\"text\":\"AGE\"}},\"legend\":{\"tracegroupgap\":0},\"margin\":{\"t\":60},\"boxmode\":\"group\",\"title\":{\"text\":\"Cohort Age Distributions\"},\"font\":{\"size\":10},\"height\":500},                        {\"responsive\": true}                    ).then(function(){\n",
       "                            \n",
       "var gd = document.getElementById('a7f1ff9a-d647-45f0-bd10-b6c957911ff6');\n",
       "var x = new MutationObserver(function (mutations, observer) {{\n",
       "        var display = window.getComputedStyle(gd).display;\n",
       "        if (!display || display === 'none') {{\n",
       "            console.log([gd, 'removed!']);\n",
       "            Plotly.purge(gd);\n",
       "            observer.disconnect();\n",
       "        }}\n",
       "}});\n",
       "\n",
       "// Listen for the removal of the full notebook cells\n",
       "var notebookContainer = gd.closest('#notebook-container');\n",
       "if (notebookContainer) {{\n",
       "    x.observe(notebookContainer, {childList: true});\n",
       "}}\n",
       "\n",
       "// Listen for the clearing of the current output cell\n",
       "var outputEl = gd.closest('.output');\n",
       "if (outputEl) {{\n",
       "    x.observe(outputEl, {childList: true});\n",
       "}}\n",
       "\n",
       "                        })                };                });            </script>        </div>"
      ]
     },
     "metadata": {},
     "output_type": "display_data"
    }
   ],
   "source": [
    "fig = px.box(patient_cohorts_df, x='COHORT', y='AGE')\n",
    "fig.update_layout(title_text=f\"Cohort Age Distributions\", \n",
    "        font_size=10, \n",
    "        height=500\n",
    ")\n",
    "fig.show()"
   ]
  },
  {
   "cell_type": "markdown",
   "id": "691363acd17ce192",
   "metadata": {},
   "source": [
    "## Procedure & Encounter Statistics by Cohort\n",
    "TODO"
   ]
  },
  {
   "cell_type": "code",
   "execution_count": 13,
   "id": "9f72631a-36c1-47b6-a2c9-dc4eb3c744f9",
   "metadata": {
    "ExecuteTime": {
     "end_time": "2024-11-19T20:56:35.731877Z",
     "start_time": "2024-11-19T20:56:34.719177Z"
    },
    "collapsed": false,
    "jupyter": {
     "outputs_hidden": false
    },
    "language": "python",
    "name": "cell7",
    "resultHeight": 439
   },
   "outputs": [
    {
     "data": {
      "text/html": [
       "<div>\n",
       "<style scoped>\n",
       "    .dataframe tbody tr th:only-of-type {\n",
       "        vertical-align: middle;\n",
       "    }\n",
       "\n",
       "    .dataframe tbody tr th {\n",
       "        vertical-align: top;\n",
       "    }\n",
       "\n",
       "    .dataframe thead th {\n",
       "        text-align: right;\n",
       "    }\n",
       "</style>\n",
       "<table border=\"1\" class=\"dataframe\">\n",
       "  <thead>\n",
       "    <tr style=\"text-align: right;\">\n",
       "      <th></th>\n",
       "      <th>COHORT</th>\n",
       "      <th>START_TIME</th>\n",
       "      <th>STOP_TIME</th>\n",
       "      <th>PATIENT</th>\n",
       "      <th>ENCOUNTER</th>\n",
       "      <th>SYSTEM</th>\n",
       "      <th>CODE</th>\n",
       "      <th>DESCRIPTION</th>\n",
       "      <th>BASE_COST</th>\n",
       "      <th>REASONCODE</th>\n",
       "      <th>REASONDESCRIPTION</th>\n",
       "    </tr>\n",
       "  </thead>\n",
       "  <tbody>\n",
       "    <tr>\n",
       "      <th>0</th>\n",
       "      <td>44</td>\n",
       "      <td>2015-06-19 05:03:41</td>\n",
       "      <td>2015-06-19 05:18:41</td>\n",
       "      <td>a0f3cc78-810a-3ec6-36cf-221b374350d6</td>\n",
       "      <td>3e3cd9ec-d27a-98ac-c4a4-51bc4420cb7b</td>\n",
       "      <td>http://snomed.info/sct</td>\n",
       "      <td>252160004</td>\n",
       "      <td>Standard pregnancy test (procedure)</td>\n",
       "      <td>9046.75</td>\n",
       "      <td>72892002</td>\n",
       "      <td>Normal pregnancy (finding)</td>\n",
       "    </tr>\n",
       "    <tr>\n",
       "      <th>1</th>\n",
       "      <td>44</td>\n",
       "      <td>2015-06-19 05:03:41</td>\n",
       "      <td>2015-06-19 05:18:41</td>\n",
       "      <td>a0f3cc78-810a-3ec6-36cf-221b374350d6</td>\n",
       "      <td>3e3cd9ec-d27a-98ac-c4a4-51bc4420cb7b</td>\n",
       "      <td>http://snomed.info/sct</td>\n",
       "      <td>169230002</td>\n",
       "      <td>Ultrasound scan for fetal viability (procedure)</td>\n",
       "      <td>4049.70</td>\n",
       "      <td>72892002</td>\n",
       "      <td>Normal pregnancy (finding)</td>\n",
       "    </tr>\n",
       "    <tr>\n",
       "      <th>2</th>\n",
       "      <td>44</td>\n",
       "      <td>2015-06-19 05:03:41</td>\n",
       "      <td>2015-06-19 05:18:41</td>\n",
       "      <td>a0f3cc78-810a-3ec6-36cf-221b374350d6</td>\n",
       "      <td>3e3cd9ec-d27a-98ac-c4a4-51bc4420cb7b</td>\n",
       "      <td>http://snomed.info/sct</td>\n",
       "      <td>44608003</td>\n",
       "      <td>Blood group typing (procedure)</td>\n",
       "      <td>2283.31</td>\n",
       "      <td>72892002</td>\n",
       "      <td>Normal pregnancy (finding)</td>\n",
       "    </tr>\n",
       "    <tr>\n",
       "      <th>3</th>\n",
       "      <td>44</td>\n",
       "      <td>2015-06-19 05:03:41</td>\n",
       "      <td>2015-06-19 05:18:41</td>\n",
       "      <td>a0f3cc78-810a-3ec6-36cf-221b374350d6</td>\n",
       "      <td>3e3cd9ec-d27a-98ac-c4a4-51bc4420cb7b</td>\n",
       "      <td>http://snomed.info/sct</td>\n",
       "      <td>104091002</td>\n",
       "      <td>Hemogram  automated  with red blood cells  whi...</td>\n",
       "      <td>1064.42</td>\n",
       "      <td>72892002</td>\n",
       "      <td>Normal pregnancy (finding)</td>\n",
       "    </tr>\n",
       "    <tr>\n",
       "      <th>4</th>\n",
       "      <td>44</td>\n",
       "      <td>2015-06-19 05:03:41</td>\n",
       "      <td>2015-06-19 05:18:41</td>\n",
       "      <td>a0f3cc78-810a-3ec6-36cf-221b374350d6</td>\n",
       "      <td>3e3cd9ec-d27a-98ac-c4a4-51bc4420cb7b</td>\n",
       "      <td>http://snomed.info/sct</td>\n",
       "      <td>47758006</td>\n",
       "      <td>Hepatitis B surface antigen measurement (proce...</td>\n",
       "      <td>3256.59</td>\n",
       "      <td>72892002</td>\n",
       "      <td>Normal pregnancy (finding)</td>\n",
       "    </tr>\n",
       "    <tr>\n",
       "      <th>...</th>\n",
       "      <td>...</td>\n",
       "      <td>...</td>\n",
       "      <td>...</td>\n",
       "      <td>...</td>\n",
       "      <td>...</td>\n",
       "      <td>...</td>\n",
       "      <td>...</td>\n",
       "      <td>...</td>\n",
       "      <td>...</td>\n",
       "      <td>...</td>\n",
       "      <td>...</td>\n",
       "    </tr>\n",
       "    <tr>\n",
       "      <th>9312</th>\n",
       "      <td>43</td>\n",
       "      <td>2000-12-14 06:00:31</td>\n",
       "      <td>2000-12-14 06:15:31</td>\n",
       "      <td>37c9a873-d7b8-b1ad-3f34-22eb52218432</td>\n",
       "      <td>bb674691-815c-312b-2bf6-042553aace4e</td>\n",
       "      <td>http://snomed.info/sct</td>\n",
       "      <td>399014008</td>\n",
       "      <td>Administration of vaccine product containing o...</td>\n",
       "      <td>1108.27</td>\n",
       "      <td>72892002</td>\n",
       "      <td>Normal pregnancy (finding)</td>\n",
       "    </tr>\n",
       "    <tr>\n",
       "      <th>9313</th>\n",
       "      <td>43</td>\n",
       "      <td>2000-12-14 06:00:31</td>\n",
       "      <td>2000-12-14 06:15:31</td>\n",
       "      <td>37c9a873-d7b8-b1ad-3f34-22eb52218432</td>\n",
       "      <td>bb674691-815c-312b-2bf6-042553aace4e</td>\n",
       "      <td>http://snomed.info/sct</td>\n",
       "      <td>268556000</td>\n",
       "      <td>Urine screening for glucose (procedure)</td>\n",
       "      <td>862.80</td>\n",
       "      <td>72892002</td>\n",
       "      <td>Normal pregnancy (finding)</td>\n",
       "    </tr>\n",
       "    <tr>\n",
       "      <th>9314</th>\n",
       "      <td>43</td>\n",
       "      <td>2001-03-15 06:00:31</td>\n",
       "      <td>2001-03-15 06:15:31</td>\n",
       "      <td>37c9a873-d7b8-b1ad-3f34-22eb52218432</td>\n",
       "      <td>1c857117-7f2e-07b1-e3e1-4d522c54b24a</td>\n",
       "      <td>http://snomed.info/sct</td>\n",
       "      <td>118001005</td>\n",
       "      <td>Streptococcus pneumoniae group B antigen assay...</td>\n",
       "      <td>1441.51</td>\n",
       "      <td>72892002</td>\n",
       "      <td>Normal pregnancy (finding)</td>\n",
       "    </tr>\n",
       "    <tr>\n",
       "      <th>9315</th>\n",
       "      <td>43</td>\n",
       "      <td>2001-04-05 06:00:31</td>\n",
       "      <td>2001-04-05 06:15:31</td>\n",
       "      <td>37c9a873-d7b8-b1ad-3f34-22eb52218432</td>\n",
       "      <td>500fe2f0-f046-323b-18cf-ec56557afa54</td>\n",
       "      <td>http://snomed.info/sct</td>\n",
       "      <td>18946005</td>\n",
       "      <td>Epidural anesthesia (procedure)</td>\n",
       "      <td>1294.99</td>\n",
       "      <td>72892002</td>\n",
       "      <td>Normal pregnancy (finding)</td>\n",
       "    </tr>\n",
       "    <tr>\n",
       "      <th>9316</th>\n",
       "      <td>43</td>\n",
       "      <td>2001-04-05 06:00:31</td>\n",
       "      <td>2001-04-05 06:15:31</td>\n",
       "      <td>37c9a873-d7b8-b1ad-3f34-22eb52218432</td>\n",
       "      <td>500fe2f0-f046-323b-18cf-ec56557afa54</td>\n",
       "      <td>http://snomed.info/sct</td>\n",
       "      <td>66348005</td>\n",
       "      <td>Childbirth</td>\n",
       "      <td>431.40</td>\n",
       "      <td>72892002</td>\n",
       "      <td>Normal pregnancy (finding)</td>\n",
       "    </tr>\n",
       "  </tbody>\n",
       "</table>\n",
       "<p>9317 rows × 11 columns</p>\n",
       "</div>"
      ],
      "text/plain": [
       "      COHORT          START_TIME           STOP_TIME  \\\n",
       "0         44 2015-06-19 05:03:41 2015-06-19 05:18:41   \n",
       "1         44 2015-06-19 05:03:41 2015-06-19 05:18:41   \n",
       "2         44 2015-06-19 05:03:41 2015-06-19 05:18:41   \n",
       "3         44 2015-06-19 05:03:41 2015-06-19 05:18:41   \n",
       "4         44 2015-06-19 05:03:41 2015-06-19 05:18:41   \n",
       "...      ...                 ...                 ...   \n",
       "9312      43 2000-12-14 06:00:31 2000-12-14 06:15:31   \n",
       "9313      43 2000-12-14 06:00:31 2000-12-14 06:15:31   \n",
       "9314      43 2001-03-15 06:00:31 2001-03-15 06:15:31   \n",
       "9315      43 2001-04-05 06:00:31 2001-04-05 06:15:31   \n",
       "9316      43 2001-04-05 06:00:31 2001-04-05 06:15:31   \n",
       "\n",
       "                                   PATIENT  \\\n",
       "0     a0f3cc78-810a-3ec6-36cf-221b374350d6   \n",
       "1     a0f3cc78-810a-3ec6-36cf-221b374350d6   \n",
       "2     a0f3cc78-810a-3ec6-36cf-221b374350d6   \n",
       "3     a0f3cc78-810a-3ec6-36cf-221b374350d6   \n",
       "4     a0f3cc78-810a-3ec6-36cf-221b374350d6   \n",
       "...                                    ...   \n",
       "9312  37c9a873-d7b8-b1ad-3f34-22eb52218432   \n",
       "9313  37c9a873-d7b8-b1ad-3f34-22eb52218432   \n",
       "9314  37c9a873-d7b8-b1ad-3f34-22eb52218432   \n",
       "9315  37c9a873-d7b8-b1ad-3f34-22eb52218432   \n",
       "9316  37c9a873-d7b8-b1ad-3f34-22eb52218432   \n",
       "\n",
       "                                 ENCOUNTER                  SYSTEM       CODE  \\\n",
       "0     3e3cd9ec-d27a-98ac-c4a4-51bc4420cb7b  http://snomed.info/sct  252160004   \n",
       "1     3e3cd9ec-d27a-98ac-c4a4-51bc4420cb7b  http://snomed.info/sct  169230002   \n",
       "2     3e3cd9ec-d27a-98ac-c4a4-51bc4420cb7b  http://snomed.info/sct   44608003   \n",
       "3     3e3cd9ec-d27a-98ac-c4a4-51bc4420cb7b  http://snomed.info/sct  104091002   \n",
       "4     3e3cd9ec-d27a-98ac-c4a4-51bc4420cb7b  http://snomed.info/sct   47758006   \n",
       "...                                    ...                     ...        ...   \n",
       "9312  bb674691-815c-312b-2bf6-042553aace4e  http://snomed.info/sct  399014008   \n",
       "9313  bb674691-815c-312b-2bf6-042553aace4e  http://snomed.info/sct  268556000   \n",
       "9314  1c857117-7f2e-07b1-e3e1-4d522c54b24a  http://snomed.info/sct  118001005   \n",
       "9315  500fe2f0-f046-323b-18cf-ec56557afa54  http://snomed.info/sct   18946005   \n",
       "9316  500fe2f0-f046-323b-18cf-ec56557afa54  http://snomed.info/sct   66348005   \n",
       "\n",
       "                                            DESCRIPTION  BASE_COST  \\\n",
       "0                   Standard pregnancy test (procedure)    9046.75   \n",
       "1       Ultrasound scan for fetal viability (procedure)    4049.70   \n",
       "2                        Blood group typing (procedure)    2283.31   \n",
       "3     Hemogram  automated  with red blood cells  whi...    1064.42   \n",
       "4     Hepatitis B surface antigen measurement (proce...    3256.59   \n",
       "...                                                 ...        ...   \n",
       "9312  Administration of vaccine product containing o...    1108.27   \n",
       "9313            Urine screening for glucose (procedure)     862.80   \n",
       "9314  Streptococcus pneumoniae group B antigen assay...    1441.51   \n",
       "9315                    Epidural anesthesia (procedure)    1294.99   \n",
       "9316                                         Childbirth     431.40   \n",
       "\n",
       "      REASONCODE           REASONDESCRIPTION  \n",
       "0       72892002  Normal pregnancy (finding)  \n",
       "1       72892002  Normal pregnancy (finding)  \n",
       "2       72892002  Normal pregnancy (finding)  \n",
       "3       72892002  Normal pregnancy (finding)  \n",
       "4       72892002  Normal pregnancy (finding)  \n",
       "...          ...                         ...  \n",
       "9312    72892002  Normal pregnancy (finding)  \n",
       "9313    72892002  Normal pregnancy (finding)  \n",
       "9314    72892002  Normal pregnancy (finding)  \n",
       "9315    72892002  Normal pregnancy (finding)  \n",
       "9316    72892002  Normal pregnancy (finding)  \n",
       "\n",
       "[9317 rows x 11 columns]"
      ]
     },
     "execution_count": 13,
     "metadata": {},
     "output_type": "execute_result"
    }
   ],
   "source": [
    "proc_cohorts_df = session.table(f'patient_db.public.procedure_cohorts').to_pandas()\n",
    "proc_cohorts_df"
   ]
  },
  {
   "cell_type": "code",
   "execution_count": 57,
   "id": "689918d8-321f-49ad-862d-dfaac61356ab",
   "metadata": {},
   "outputs": [
    {
     "data": {
      "text/html": [
       "<div>\n",
       "<style scoped>\n",
       "    .dataframe tbody tr th:only-of-type {\n",
       "        vertical-align: middle;\n",
       "    }\n",
       "\n",
       "    .dataframe tbody tr th {\n",
       "        vertical-align: top;\n",
       "    }\n",
       "\n",
       "    .dataframe thead th {\n",
       "        text-align: right;\n",
       "    }\n",
       "</style>\n",
       "<table border=\"1\" class=\"dataframe\">\n",
       "  <thead>\n",
       "    <tr style=\"text-align: right;\">\n",
       "      <th></th>\n",
       "      <th>COHORT</th>\n",
       "      <th>CODE</th>\n",
       "      <th>DESCRIPTION</th>\n",
       "      <th>CNT</th>\n",
       "      <th>PERCENT_CNT</th>\n",
       "    </tr>\n",
       "  </thead>\n",
       "  <tbody>\n",
       "    <tr>\n",
       "      <th>0</th>\n",
       "      <td>123</td>\n",
       "      <td>104091002</td>\n",
       "      <td>Hemogram  automated  with red blood cells  whi...</td>\n",
       "      <td>219</td>\n",
       "      <td>0.061952</td>\n",
       "    </tr>\n",
       "    <tr>\n",
       "      <th>1</th>\n",
       "      <td>123</td>\n",
       "      <td>5880005</td>\n",
       "      <td>Physical examination procedure (procedure)</td>\n",
       "      <td>196</td>\n",
       "      <td>0.055446</td>\n",
       "    </tr>\n",
       "    <tr>\n",
       "      <th>2</th>\n",
       "      <td>123</td>\n",
       "      <td>169230002</td>\n",
       "      <td>Ultrasound scan for fetal viability (procedure)</td>\n",
       "      <td>192</td>\n",
       "      <td>0.054314</td>\n",
       "    </tr>\n",
       "    <tr>\n",
       "      <th>3</th>\n",
       "      <td>123</td>\n",
       "      <td>252160004</td>\n",
       "      <td>Standard pregnancy test (procedure)</td>\n",
       "      <td>192</td>\n",
       "      <td>0.054314</td>\n",
       "    </tr>\n",
       "    <tr>\n",
       "      <th>4</th>\n",
       "      <td>22</td>\n",
       "      <td>104091002</td>\n",
       "      <td>Hemogram  automated  with red blood cells  whi...</td>\n",
       "      <td>191</td>\n",
       "      <td>0.073745</td>\n",
       "    </tr>\n",
       "    <tr>\n",
       "      <th>...</th>\n",
       "      <td>...</td>\n",
       "      <td>...</td>\n",
       "      <td>...</td>\n",
       "      <td>...</td>\n",
       "      <td>...</td>\n",
       "    </tr>\n",
       "    <tr>\n",
       "      <th>175</th>\n",
       "      <td>33</td>\n",
       "      <td>18946005</td>\n",
       "      <td>OTHER</td>\n",
       "      <td>1</td>\n",
       "      <td>0.008621</td>\n",
       "    </tr>\n",
       "    <tr>\n",
       "      <th>176</th>\n",
       "      <td>33</td>\n",
       "      <td>118001005</td>\n",
       "      <td>OTHER</td>\n",
       "      <td>1</td>\n",
       "      <td>0.008621</td>\n",
       "    </tr>\n",
       "    <tr>\n",
       "      <th>177</th>\n",
       "      <td>44</td>\n",
       "      <td>236974004</td>\n",
       "      <td>OTHER</td>\n",
       "      <td>1</td>\n",
       "      <td>0.001391</td>\n",
       "    </tr>\n",
       "    <tr>\n",
       "      <th>178</th>\n",
       "      <td>22</td>\n",
       "      <td>367494004</td>\n",
       "      <td>OTHER</td>\n",
       "      <td>1</td>\n",
       "      <td>0.000386</td>\n",
       "    </tr>\n",
       "    <tr>\n",
       "      <th>179</th>\n",
       "      <td>57</td>\n",
       "      <td>177157003</td>\n",
       "      <td>OTHER</td>\n",
       "      <td>1</td>\n",
       "      <td>0.001272</td>\n",
       "    </tr>\n",
       "  </tbody>\n",
       "</table>\n",
       "<p>180 rows × 5 columns</p>\n",
       "</div>"
      ],
      "text/plain": [
       "    COHORT       CODE                                        DESCRIPTION  CNT  \\\n",
       "0      123  104091002  Hemogram  automated  with red blood cells  whi...  219   \n",
       "1      123    5880005         Physical examination procedure (procedure)  196   \n",
       "2      123  169230002    Ultrasound scan for fetal viability (procedure)  192   \n",
       "3      123  252160004                Standard pregnancy test (procedure)  192   \n",
       "4       22  104091002  Hemogram  automated  with red blood cells  whi...  191   \n",
       "..     ...        ...                                                ...  ...   \n",
       "175     33   18946005                                              OTHER    1   \n",
       "176     33  118001005                                              OTHER    1   \n",
       "177     44  236974004                                              OTHER    1   \n",
       "178     22  367494004                                              OTHER    1   \n",
       "179     57  177157003                                              OTHER    1   \n",
       "\n",
       "     PERCENT_CNT  \n",
       "0       0.061952  \n",
       "1       0.055446  \n",
       "2       0.054314  \n",
       "3       0.054314  \n",
       "4       0.073745  \n",
       "..           ...  \n",
       "175     0.008621  \n",
       "176     0.008621  \n",
       "177     0.001391  \n",
       "178     0.000386  \n",
       "179     0.001272  \n",
       "\n",
       "[180 rows x 5 columns]"
      ]
     },
     "execution_count": 57,
     "metadata": {},
     "output_type": "execute_result"
    }
   ],
   "source": [
    "proc_cohort_agg_df = session.sql(f'''\n",
    "    SELECT COHORT, CODE, DESCRIPTION, COUNT(*) AS CNT, RATIO_TO_REPORT(CNT) OVER (PARTITION BY COHORT) AS PERCENT_CNT\n",
    "    FROM PATIENT_DB.PUBLIC.PROCEDURE_COHORTS\n",
    "    GROUP BY COHORT, CODE, DESCRIPTION\n",
    "    ORDER BY CNT DESC\n",
    "''').to_pandas()\n",
    "proc_cohort_agg_df['COHORT'] = proc_cohort_agg_df['COHORT'].astype(str)\n",
    "proc_cohort_agg_df.loc[proc_cohort_agg_df.PERCENT_CNT < 0.035, 'DESCRIPTION'] = \"OTHER\"\n",
    "proc_cohort_agg_df"
   ]
  },
  {
   "cell_type": "code",
   "execution_count": 64,
   "id": "adb04411-880e-4692-8a99-05c10130570d",
   "metadata": {},
   "outputs": [
    {
     "data": {
      "application/vnd.plotly.v1+json": {
       "config": {
        "plotlyServerURL": "https://plot.ly"
       },
       "data": [
        {
         "domain": {
          "x": [
           0,
           1
          ],
          "y": [
           0.8938775510204082,
           1
          ]
         },
         "hole": 0.4,
         "hoverinfo": "label+percent+name",
         "labels": [
          "Hemogram  automated  with red blood cells  white blood cells  hemoglobin  hematocrit  indices  platelet count  and manual white blood cell differential (procedure)",
          "Physical examination procedure (procedure)",
          "Ultrasound scan for fetal viability (procedure)",
          "Standard pregnancy test (procedure)",
          "OTHER",
          "OTHER",
          "OTHER",
          "OTHER",
          "OTHER",
          "OTHER",
          "OTHER",
          "OTHER",
          "OTHER",
          "OTHER",
          "OTHER",
          "OTHER",
          "OTHER",
          "OTHER",
          "OTHER",
          "OTHER",
          "OTHER",
          "OTHER",
          "OTHER",
          "OTHER",
          "OTHER",
          "OTHER",
          "OTHER",
          "OTHER",
          "OTHER",
          "OTHER",
          "OTHER",
          "OTHER",
          "OTHER",
          "OTHER",
          "OTHER",
          "OTHER",
          "OTHER",
          "OTHER"
         ],
         "name": "123",
         "type": "pie",
         "values": [
          219,
          196,
          192,
          192,
          113,
          113,
          113,
          113,
          113,
          113,
          113,
          113,
          113,
          113,
          113,
          113,
          113,
          113,
          113,
          106,
          106,
          106,
          106,
          100,
          88,
          66,
          66,
          65,
          65,
          35,
          33,
          26,
          21,
          17,
          13,
          11,
          6,
          5
         ]
        },
        {
         "domain": {
          "x": [
           0,
           1
          ],
          "y": [
           0.7448979591836735,
           0.8510204081632654
          ]
         },
         "hole": 0.4,
         "hoverinfo": "label+percent+name",
         "labels": [
          "Hemogram  automated  with red blood cells  white blood cells  hemoglobin  hematocrit  indices  platelet count  and manual white blood cell differential (procedure)",
          "Ultrasound scan for fetal viability (procedure)",
          "Standard pregnancy test (procedure)",
          "Physical examination procedure (procedure)",
          "Rubella screening test (procedure)",
          "Hepatitis C antibody  confirmatory test (procedure)",
          "Urine protein test",
          "Gonorrhea infection titer test (procedure)",
          "Urine culture (procedure)",
          "Skin test for tuberculosis  Tine test (procedure)",
          "Detection of chromosomal aneuploidy in prenatal amniotic fluid specimen using fluorescence in situ hybridization screening technique (procedure)",
          "Measurement of Varicella-zoster virus antibody (procedure)",
          "Cytopathology procedure  preparation of smear  genital source (procedure)",
          "Chlamydia antigen test (procedure)",
          "Syphilis infectious titer test (procedure)",
          "Urine screening test for diabetes (procedure)",
          "Human immunodeficiency virus antigen test (procedure)",
          "Hepatitis B surface antigen measurement (procedure)",
          "Blood group typing (procedure)",
          "Administration of vaccine product containing only Bordetella pertussis and Clostridium tetani and Corynebacterium diphtheriae antigens (procedure)",
          "Urine screening for glucose (procedure)",
          "Streptococcus pneumoniae group B antigen assay (procedure)",
          "Alpha-fetoprotein test - antenatal (procedure)",
          "Fetal anatomy study (procedure)",
          "OTHER",
          "OTHER",
          "OTHER",
          "OTHER",
          "OTHER",
          "OTHER",
          "OTHER",
          "OTHER"
         ],
         "name": "22",
         "type": "pie",
         "values": [
          191,
          103,
          103,
          103,
          96,
          96,
          96,
          96,
          96,
          96,
          96,
          96,
          96,
          96,
          96,
          96,
          96,
          96,
          96,
          95,
          95,
          94,
          94,
          94,
          81,
          43,
          22,
          13,
          9,
          5,
          4,
          1
         ]
        },
        {
         "domain": {
          "x": [
           0,
           1
          ],
          "y": [
           0.5959183673469388,
           0.7020408163265307
          ]
         },
         "hole": 0.4,
         "hoverinfo": "label+percent+name",
         "labels": [
          "Hemogram  automated  with red blood cells  white blood cells  hemoglobin  hematocrit  indices  platelet count  and manual white blood cell differential (procedure)",
          "Standard pregnancy test (procedure)",
          "Ultrasound scan for fetal viability (procedure)",
          "Physical examination procedure (procedure)",
          "Urine protein test",
          "Syphilis infectious titer test (procedure)",
          "Urine culture (procedure)",
          "Gonorrhea infection titer test (procedure)",
          "Cytopathology procedure  preparation of smear  genital source (procedure)",
          "Urine screening test for diabetes (procedure)",
          "Rubella screening test (procedure)",
          "Measurement of Varicella-zoster virus antibody (procedure)",
          "Skin test for tuberculosis  Tine test (procedure)",
          "Chlamydia antigen test (procedure)",
          "Fetal anatomy study (procedure)",
          "Hepatitis C antibody  confirmatory test (procedure)",
          "Hepatitis B surface antigen measurement (procedure)",
          "Blood group typing (procedure)",
          "Alpha-fetoprotein test - antenatal (procedure)",
          "Human immunodeficiency virus antigen test (procedure)",
          "Urine screening for glucose (procedure)",
          "Administration of vaccine product containing only Bordetella pertussis and Clostridium tetani and Corynebacterium diphtheriae antigens (procedure)",
          "Detection of chromosomal aneuploidy in prenatal amniotic fluid specimen using fluorescence in situ hybridization screening technique (procedure)",
          "OTHER",
          "OTHER",
          "OTHER",
          "OTHER",
          "OTHER",
          "OTHER",
          "OTHER",
          "OTHER"
         ],
         "name": "43",
         "type": "pie",
         "values": [
          111,
          62,
          62,
          62,
          56,
          56,
          56,
          56,
          56,
          56,
          56,
          56,
          56,
          56,
          56,
          56,
          56,
          56,
          56,
          56,
          55,
          55,
          55,
          50,
          44,
          25,
          13,
          9,
          5,
          2,
          2
         ]
        },
        {
         "domain": {
          "x": [
           0,
           1
          ],
          "y": [
           0.4469387755102041,
           0.553061224489796
          ]
         },
         "hole": 0.4,
         "hoverinfo": "label+percent+name",
         "labels": [
          "Hemogram  automated  with red blood cells  white blood cells  hemoglobin  hematocrit  indices  platelet count  and manual white blood cell differential (procedure)",
          "Physical examination procedure (procedure)",
          "Standard pregnancy test (procedure)",
          "Ultrasound scan for fetal viability (procedure)",
          "Urine screening test for diabetes (procedure)",
          "Blood group typing (procedure)",
          "Syphilis infectious titer test (procedure)",
          "Human immunodeficiency virus antigen test (procedure)",
          "Gonorrhea infection titer test (procedure)",
          "Chlamydia antigen test (procedure)",
          "Skin test for tuberculosis  Tine test (procedure)",
          "Cytopathology procedure  preparation of smear  genital source (procedure)",
          "Hepatitis C antibody  confirmatory test (procedure)",
          "Hepatitis B surface antigen measurement (procedure)",
          "Urine culture (procedure)",
          "Rubella screening test (procedure)",
          "Urine protein test",
          "Detection of chromosomal aneuploidy in prenatal amniotic fluid specimen using fluorescence in situ hybridization screening technique (procedure)",
          "Measurement of Varicella-zoster virus antibody (procedure)",
          "OTHER",
          "OTHER",
          "OTHER",
          "OTHER",
          "OTHER",
          "OTHER",
          "OTHER",
          "OTHER",
          "OTHER",
          "OTHER",
          "OTHER"
         ],
         "name": "57",
         "type": "pie",
         "values": [
          57,
          39,
          36,
          36,
          31,
          31,
          31,
          31,
          31,
          31,
          31,
          31,
          31,
          31,
          31,
          31,
          31,
          31,
          31,
          27,
          27,
          26,
          26,
          17,
          16,
          7,
          2,
          2,
          2,
          1
         ]
        },
        {
         "domain": {
          "x": [
           0,
           1
          ],
          "y": [
           0.2979591836734694,
           0.40408163265306124
          ]
         },
         "hole": 0.4,
         "hoverinfo": "label+percent+name",
         "labels": [
          "Hemogram  automated  with red blood cells  white blood cells  hemoglobin  hematocrit  indices  platelet count  and manual white blood cell differential (procedure)",
          "Physical examination procedure (procedure)",
          "Ultrasound scan for fetal viability (procedure)",
          "Standard pregnancy test (procedure)",
          "Urine screening for glucose (procedure)",
          "Passive immunization (procedure)",
          "Administration of vaccine product containing only Bordetella pertussis and Clostridium tetani and Corynebacterium diphtheriae antigens (procedure)",
          "Streptococcus pneumoniae group B antigen assay (procedure)",
          "OTHER",
          "OTHER",
          "OTHER",
          "OTHER",
          "OTHER",
          "OTHER",
          "OTHER",
          "OTHER",
          "OTHER",
          "OTHER",
          "OTHER",
          "OTHER",
          "OTHER",
          "OTHER",
          "OTHER",
          "OTHER",
          "OTHER",
          "OTHER",
          "OTHER",
          "OTHER",
          "OTHER",
          "OTHER",
          "OTHER",
          "OTHER",
          "OTHER",
          "OTHER"
         ],
         "name": "44",
         "type": "pie",
         "values": [
          51,
          28,
          27,
          27,
          27,
          27,
          27,
          26,
          24,
          24,
          24,
          24,
          24,
          24,
          24,
          24,
          24,
          24,
          24,
          24,
          24,
          24,
          24,
          24,
          23,
          23,
          20,
          6,
          6,
          5,
          5,
          4,
          2,
          1
         ]
        },
        {
         "domain": {
          "x": [
           0,
           1
          ],
          "y": [
           0.1489795918367347,
           0.25510204081632654
          ]
         },
         "hole": 0.4,
         "hoverinfo": "label+percent+name",
         "labels": [
          "Physical examination procedure (procedure)",
          "Ultrasound scan for fetal viability (procedure)",
          "Standard pregnancy test (procedure)",
          "Passive immunization (procedure)"
         ],
         "name": "16",
         "type": "pie",
         "values": [
          20,
          20,
          20,
          3
         ]
        },
        {
         "domain": {
          "x": [
           0,
           1
          ],
          "y": [
           0,
           0.10612244897959185
          ]
         },
         "hole": 0.4,
         "hoverinfo": "label+percent+name",
         "labels": [
          "Standard pregnancy test (procedure)",
          "Physical examination procedure (procedure)",
          "Ultrasound scan for fetal viability (procedure)",
          "Pregnancy termination care (regime/therapy)",
          "Depression screening (procedure)",
          "Counseling for termination of pregnancy (procedure)",
          "Induced termination of pregnancy (procedure)",
          "OTHER",
          "OTHER",
          "OTHER",
          "OTHER"
         ],
         "name": "33",
         "type": "pie",
         "values": [
          17,
          17,
          17,
          15,
          15,
          15,
          15,
          2,
          1,
          1,
          1
         ]
        }
       ],
       "layout": {
        "annotations": [
         {
          "font": {
           "size": 20
          },
          "showarrow": false,
          "text": "123",
          "x": 0.5,
          "xanchor": "center",
          "y": 0.9469387755102041
         },
         {
          "font": {
           "size": 20
          },
          "showarrow": false,
          "text": "22",
          "x": 0.5,
          "xanchor": "center",
          "y": 0.7979591836734694
         },
         {
          "font": {
           "size": 20
          },
          "showarrow": false,
          "text": "43",
          "x": 0.5,
          "xanchor": "center",
          "y": 0.6489795918367347
         },
         {
          "font": {
           "size": 20
          },
          "showarrow": false,
          "text": "57",
          "x": 0.5,
          "xanchor": "center",
          "y": 0.5
         },
         {
          "font": {
           "size": 20
          },
          "showarrow": false,
          "text": "44",
          "x": 0.5,
          "xanchor": "center",
          "y": 0.3510204081632653
         },
         {
          "font": {
           "size": 20
          },
          "showarrow": false,
          "text": "16",
          "x": 0.5,
          "xanchor": "center",
          "y": 0.20204081632653062
         },
         {
          "font": {
           "size": 20
          },
          "showarrow": false,
          "text": "33",
          "x": 0.5,
          "xanchor": "center",
          "y": 0.05306122448979592
         }
        ],
        "height": 2000,
        "template": {
         "data": {
          "bar": [
           {
            "error_x": {
             "color": "#2a3f5f"
            },
            "error_y": {
             "color": "#2a3f5f"
            },
            "marker": {
             "line": {
              "color": "#E5ECF6",
              "width": 0.5
             },
             "pattern": {
              "fillmode": "overlay",
              "size": 10,
              "solidity": 0.2
             }
            },
            "type": "bar"
           }
          ],
          "barpolar": [
           {
            "marker": {
             "line": {
              "color": "#E5ECF6",
              "width": 0.5
             },
             "pattern": {
              "fillmode": "overlay",
              "size": 10,
              "solidity": 0.2
             }
            },
            "type": "barpolar"
           }
          ],
          "carpet": [
           {
            "aaxis": {
             "endlinecolor": "#2a3f5f",
             "gridcolor": "white",
             "linecolor": "white",
             "minorgridcolor": "white",
             "startlinecolor": "#2a3f5f"
            },
            "baxis": {
             "endlinecolor": "#2a3f5f",
             "gridcolor": "white",
             "linecolor": "white",
             "minorgridcolor": "white",
             "startlinecolor": "#2a3f5f"
            },
            "type": "carpet"
           }
          ],
          "choropleth": [
           {
            "colorbar": {
             "outlinewidth": 0,
             "ticks": ""
            },
            "type": "choropleth"
           }
          ],
          "contour": [
           {
            "colorbar": {
             "outlinewidth": 0,
             "ticks": ""
            },
            "colorscale": [
             [
              0,
              "#0d0887"
             ],
             [
              0.1111111111111111,
              "#46039f"
             ],
             [
              0.2222222222222222,
              "#7201a8"
             ],
             [
              0.3333333333333333,
              "#9c179e"
             ],
             [
              0.4444444444444444,
              "#bd3786"
             ],
             [
              0.5555555555555556,
              "#d8576b"
             ],
             [
              0.6666666666666666,
              "#ed7953"
             ],
             [
              0.7777777777777778,
              "#fb9f3a"
             ],
             [
              0.8888888888888888,
              "#fdca26"
             ],
             [
              1,
              "#f0f921"
             ]
            ],
            "type": "contour"
           }
          ],
          "contourcarpet": [
           {
            "colorbar": {
             "outlinewidth": 0,
             "ticks": ""
            },
            "type": "contourcarpet"
           }
          ],
          "heatmap": [
           {
            "colorbar": {
             "outlinewidth": 0,
             "ticks": ""
            },
            "colorscale": [
             [
              0,
              "#0d0887"
             ],
             [
              0.1111111111111111,
              "#46039f"
             ],
             [
              0.2222222222222222,
              "#7201a8"
             ],
             [
              0.3333333333333333,
              "#9c179e"
             ],
             [
              0.4444444444444444,
              "#bd3786"
             ],
             [
              0.5555555555555556,
              "#d8576b"
             ],
             [
              0.6666666666666666,
              "#ed7953"
             ],
             [
              0.7777777777777778,
              "#fb9f3a"
             ],
             [
              0.8888888888888888,
              "#fdca26"
             ],
             [
              1,
              "#f0f921"
             ]
            ],
            "type": "heatmap"
           }
          ],
          "heatmapgl": [
           {
            "colorbar": {
             "outlinewidth": 0,
             "ticks": ""
            },
            "colorscale": [
             [
              0,
              "#0d0887"
             ],
             [
              0.1111111111111111,
              "#46039f"
             ],
             [
              0.2222222222222222,
              "#7201a8"
             ],
             [
              0.3333333333333333,
              "#9c179e"
             ],
             [
              0.4444444444444444,
              "#bd3786"
             ],
             [
              0.5555555555555556,
              "#d8576b"
             ],
             [
              0.6666666666666666,
              "#ed7953"
             ],
             [
              0.7777777777777778,
              "#fb9f3a"
             ],
             [
              0.8888888888888888,
              "#fdca26"
             ],
             [
              1,
              "#f0f921"
             ]
            ],
            "type": "heatmapgl"
           }
          ],
          "histogram": [
           {
            "marker": {
             "pattern": {
              "fillmode": "overlay",
              "size": 10,
              "solidity": 0.2
             }
            },
            "type": "histogram"
           }
          ],
          "histogram2d": [
           {
            "colorbar": {
             "outlinewidth": 0,
             "ticks": ""
            },
            "colorscale": [
             [
              0,
              "#0d0887"
             ],
             [
              0.1111111111111111,
              "#46039f"
             ],
             [
              0.2222222222222222,
              "#7201a8"
             ],
             [
              0.3333333333333333,
              "#9c179e"
             ],
             [
              0.4444444444444444,
              "#bd3786"
             ],
             [
              0.5555555555555556,
              "#d8576b"
             ],
             [
              0.6666666666666666,
              "#ed7953"
             ],
             [
              0.7777777777777778,
              "#fb9f3a"
             ],
             [
              0.8888888888888888,
              "#fdca26"
             ],
             [
              1,
              "#f0f921"
             ]
            ],
            "type": "histogram2d"
           }
          ],
          "histogram2dcontour": [
           {
            "colorbar": {
             "outlinewidth": 0,
             "ticks": ""
            },
            "colorscale": [
             [
              0,
              "#0d0887"
             ],
             [
              0.1111111111111111,
              "#46039f"
             ],
             [
              0.2222222222222222,
              "#7201a8"
             ],
             [
              0.3333333333333333,
              "#9c179e"
             ],
             [
              0.4444444444444444,
              "#bd3786"
             ],
             [
              0.5555555555555556,
              "#d8576b"
             ],
             [
              0.6666666666666666,
              "#ed7953"
             ],
             [
              0.7777777777777778,
              "#fb9f3a"
             ],
             [
              0.8888888888888888,
              "#fdca26"
             ],
             [
              1,
              "#f0f921"
             ]
            ],
            "type": "histogram2dcontour"
           }
          ],
          "mesh3d": [
           {
            "colorbar": {
             "outlinewidth": 0,
             "ticks": ""
            },
            "type": "mesh3d"
           }
          ],
          "parcoords": [
           {
            "line": {
             "colorbar": {
              "outlinewidth": 0,
              "ticks": ""
             }
            },
            "type": "parcoords"
           }
          ],
          "pie": [
           {
            "automargin": true,
            "type": "pie"
           }
          ],
          "scatter": [
           {
            "fillpattern": {
             "fillmode": "overlay",
             "size": 10,
             "solidity": 0.2
            },
            "type": "scatter"
           }
          ],
          "scatter3d": [
           {
            "line": {
             "colorbar": {
              "outlinewidth": 0,
              "ticks": ""
             }
            },
            "marker": {
             "colorbar": {
              "outlinewidth": 0,
              "ticks": ""
             }
            },
            "type": "scatter3d"
           }
          ],
          "scattercarpet": [
           {
            "marker": {
             "colorbar": {
              "outlinewidth": 0,
              "ticks": ""
             }
            },
            "type": "scattercarpet"
           }
          ],
          "scattergeo": [
           {
            "marker": {
             "colorbar": {
              "outlinewidth": 0,
              "ticks": ""
             }
            },
            "type": "scattergeo"
           }
          ],
          "scattergl": [
           {
            "marker": {
             "colorbar": {
              "outlinewidth": 0,
              "ticks": ""
             }
            },
            "type": "scattergl"
           }
          ],
          "scattermapbox": [
           {
            "marker": {
             "colorbar": {
              "outlinewidth": 0,
              "ticks": ""
             }
            },
            "type": "scattermapbox"
           }
          ],
          "scatterpolar": [
           {
            "marker": {
             "colorbar": {
              "outlinewidth": 0,
              "ticks": ""
             }
            },
            "type": "scatterpolar"
           }
          ],
          "scatterpolargl": [
           {
            "marker": {
             "colorbar": {
              "outlinewidth": 0,
              "ticks": ""
             }
            },
            "type": "scatterpolargl"
           }
          ],
          "scatterternary": [
           {
            "marker": {
             "colorbar": {
              "outlinewidth": 0,
              "ticks": ""
             }
            },
            "type": "scatterternary"
           }
          ],
          "surface": [
           {
            "colorbar": {
             "outlinewidth": 0,
             "ticks": ""
            },
            "colorscale": [
             [
              0,
              "#0d0887"
             ],
             [
              0.1111111111111111,
              "#46039f"
             ],
             [
              0.2222222222222222,
              "#7201a8"
             ],
             [
              0.3333333333333333,
              "#9c179e"
             ],
             [
              0.4444444444444444,
              "#bd3786"
             ],
             [
              0.5555555555555556,
              "#d8576b"
             ],
             [
              0.6666666666666666,
              "#ed7953"
             ],
             [
              0.7777777777777778,
              "#fb9f3a"
             ],
             [
              0.8888888888888888,
              "#fdca26"
             ],
             [
              1,
              "#f0f921"
             ]
            ],
            "type": "surface"
           }
          ],
          "table": [
           {
            "cells": {
             "fill": {
              "color": "#EBF0F8"
             },
             "line": {
              "color": "white"
             }
            },
            "header": {
             "fill": {
              "color": "#C8D4E3"
             },
             "line": {
              "color": "white"
             }
            },
            "type": "table"
           }
          ]
         },
         "layout": {
          "annotationdefaults": {
           "arrowcolor": "#2a3f5f",
           "arrowhead": 0,
           "arrowwidth": 1
          },
          "autotypenumbers": "strict",
          "coloraxis": {
           "colorbar": {
            "outlinewidth": 0,
            "ticks": ""
           }
          },
          "colorscale": {
           "diverging": [
            [
             0,
             "#8e0152"
            ],
            [
             0.1,
             "#c51b7d"
            ],
            [
             0.2,
             "#de77ae"
            ],
            [
             0.3,
             "#f1b6da"
            ],
            [
             0.4,
             "#fde0ef"
            ],
            [
             0.5,
             "#f7f7f7"
            ],
            [
             0.6,
             "#e6f5d0"
            ],
            [
             0.7,
             "#b8e186"
            ],
            [
             0.8,
             "#7fbc41"
            ],
            [
             0.9,
             "#4d9221"
            ],
            [
             1,
             "#276419"
            ]
           ],
           "sequential": [
            [
             0,
             "#0d0887"
            ],
            [
             0.1111111111111111,
             "#46039f"
            ],
            [
             0.2222222222222222,
             "#7201a8"
            ],
            [
             0.3333333333333333,
             "#9c179e"
            ],
            [
             0.4444444444444444,
             "#bd3786"
            ],
            [
             0.5555555555555556,
             "#d8576b"
            ],
            [
             0.6666666666666666,
             "#ed7953"
            ],
            [
             0.7777777777777778,
             "#fb9f3a"
            ],
            [
             0.8888888888888888,
             "#fdca26"
            ],
            [
             1,
             "#f0f921"
            ]
           ],
           "sequentialminus": [
            [
             0,
             "#0d0887"
            ],
            [
             0.1111111111111111,
             "#46039f"
            ],
            [
             0.2222222222222222,
             "#7201a8"
            ],
            [
             0.3333333333333333,
             "#9c179e"
            ],
            [
             0.4444444444444444,
             "#bd3786"
            ],
            [
             0.5555555555555556,
             "#d8576b"
            ],
            [
             0.6666666666666666,
             "#ed7953"
            ],
            [
             0.7777777777777778,
             "#fb9f3a"
            ],
            [
             0.8888888888888888,
             "#fdca26"
            ],
            [
             1,
             "#f0f921"
            ]
           ]
          },
          "colorway": [
           "#636efa",
           "#EF553B",
           "#00cc96",
           "#ab63fa",
           "#FFA15A",
           "#19d3f3",
           "#FF6692",
           "#B6E880",
           "#FF97FF",
           "#FECB52"
          ],
          "font": {
           "color": "#2a3f5f"
          },
          "geo": {
           "bgcolor": "white",
           "lakecolor": "white",
           "landcolor": "#E5ECF6",
           "showlakes": true,
           "showland": true,
           "subunitcolor": "white"
          },
          "hoverlabel": {
           "align": "left"
          },
          "hovermode": "closest",
          "mapbox": {
           "style": "light"
          },
          "paper_bgcolor": "white",
          "plot_bgcolor": "#E5ECF6",
          "polar": {
           "angularaxis": {
            "gridcolor": "white",
            "linecolor": "white",
            "ticks": ""
           },
           "bgcolor": "#E5ECF6",
           "radialaxis": {
            "gridcolor": "white",
            "linecolor": "white",
            "ticks": ""
           }
          },
          "scene": {
           "xaxis": {
            "backgroundcolor": "#E5ECF6",
            "gridcolor": "white",
            "gridwidth": 2,
            "linecolor": "white",
            "showbackground": true,
            "ticks": "",
            "zerolinecolor": "white"
           },
           "yaxis": {
            "backgroundcolor": "#E5ECF6",
            "gridcolor": "white",
            "gridwidth": 2,
            "linecolor": "white",
            "showbackground": true,
            "ticks": "",
            "zerolinecolor": "white"
           },
           "zaxis": {
            "backgroundcolor": "#E5ECF6",
            "gridcolor": "white",
            "gridwidth": 2,
            "linecolor": "white",
            "showbackground": true,
            "ticks": "",
            "zerolinecolor": "white"
           }
          },
          "shapedefaults": {
           "line": {
            "color": "#2a3f5f"
           }
          },
          "ternary": {
           "aaxis": {
            "gridcolor": "white",
            "linecolor": "white",
            "ticks": ""
           },
           "baxis": {
            "gridcolor": "white",
            "linecolor": "white",
            "ticks": ""
           },
           "bgcolor": "#E5ECF6",
           "caxis": {
            "gridcolor": "white",
            "linecolor": "white",
            "ticks": ""
           }
          },
          "title": {
           "x": 0.05
          },
          "xaxis": {
           "automargin": true,
           "gridcolor": "white",
           "linecolor": "white",
           "ticks": "",
           "title": {
            "standoff": 15
           },
           "zerolinecolor": "white",
           "zerolinewidth": 2
          },
          "yaxis": {
           "automargin": true,
           "gridcolor": "white",
           "linecolor": "white",
           "ticks": "",
           "title": {
            "standoff": 15
           },
           "zerolinecolor": "white",
           "zerolinewidth": 2
          }
         }
        },
        "title": {
         "text": "Procedures by Cohort"
        },
        "width": 2000
       }
      },
      "image/png": "[encoded data removed]",
      "text/html": [
       "<div>                            <div id=\"e09c61aa-dc61-48cf-b436-d8f5798b42d0\" class=\"plotly-graph-div\" style=\"height:2000px; width:2000px;\"></div>            <script type=\"text/javascript\">                require([\"plotly\"], function(Plotly) {                    window.PLOTLYENV=window.PLOTLYENV || {};                                    if (document.getElementById(\"e09c61aa-dc61-48cf-b436-d8f5798b42d0\")) {                    Plotly.newPlot(                        \"e09c61aa-dc61-48cf-b436-d8f5798b42d0\",                        [{\"labels\":[\"Hemogram  automated  with red blood cells  white blood cells  hemoglobin  hematocrit  indices  platelet count  and manual white blood cell differential (procedure)\",\"Physical examination procedure (procedure)\",\"Ultrasound scan for fetal viability (procedure)\",\"Standard pregnancy test (procedure)\",\"OTHER\",\"OTHER\",\"OTHER\",\"OTHER\",\"OTHER\",\"OTHER\",\"OTHER\",\"OTHER\",\"OTHER\",\"OTHER\",\"OTHER\",\"OTHER\",\"OTHER\",\"OTHER\",\"OTHER\",\"OTHER\",\"OTHER\",\"OTHER\",\"OTHER\",\"OTHER\",\"OTHER\",\"OTHER\",\"OTHER\",\"OTHER\",\"OTHER\",\"OTHER\",\"OTHER\",\"OTHER\",\"OTHER\",\"OTHER\",\"OTHER\",\"OTHER\",\"OTHER\",\"OTHER\"],\"name\":\"123\",\"values\":[219,196,192,192,113,113,113,113,113,113,113,113,113,113,113,113,113,113,113,106,106,106,106,100,88,66,66,65,65,35,33,26,21,17,13,11,6,5],\"type\":\"pie\",\"domain\":{\"x\":[0.0,1.0],\"y\":[0.8938775510204082,1.0]},\"hole\":0.4,\"hoverinfo\":\"label+percent+name\"},{\"labels\":[\"Hemogram  automated  with red blood cells  white blood cells  hemoglobin  hematocrit  indices  platelet count  and manual white blood cell differential (procedure)\",\"Ultrasound scan for fetal viability (procedure)\",\"Standard pregnancy test (procedure)\",\"Physical examination procedure (procedure)\",\"Rubella screening test (procedure)\",\"Hepatitis C antibody  confirmatory test (procedure)\",\"Urine protein test\",\"Gonorrhea infection titer test (procedure)\",\"Urine culture (procedure)\",\"Skin test for tuberculosis  Tine test (procedure)\",\"Detection of chromosomal aneuploidy in prenatal amniotic fluid specimen using fluorescence in situ hybridization screening technique (procedure)\",\"Measurement of Varicella-zoster virus antibody (procedure)\",\"Cytopathology procedure  preparation of smear  genital source (procedure)\",\"Chlamydia antigen test (procedure)\",\"Syphilis infectious titer test (procedure)\",\"Urine screening test for diabetes (procedure)\",\"Human immunodeficiency virus antigen test (procedure)\",\"Hepatitis B surface antigen measurement (procedure)\",\"Blood group typing (procedure)\",\"Administration of vaccine product containing only Bordetella pertussis and Clostridium tetani and Corynebacterium diphtheriae antigens (procedure)\",\"Urine screening for glucose (procedure)\",\"Streptococcus pneumoniae group B antigen assay (procedure)\",\"Alpha-fetoprotein test - antenatal (procedure)\",\"Fetal anatomy study (procedure)\",\"OTHER\",\"OTHER\",\"OTHER\",\"OTHER\",\"OTHER\",\"OTHER\",\"OTHER\",\"OTHER\"],\"name\":\"22\",\"values\":[191,103,103,103,96,96,96,96,96,96,96,96,96,96,96,96,96,96,96,95,95,94,94,94,81,43,22,13,9,5,4,1],\"type\":\"pie\",\"domain\":{\"x\":[0.0,1.0],\"y\":[0.7448979591836735,0.8510204081632654]},\"hole\":0.4,\"hoverinfo\":\"label+percent+name\"},{\"labels\":[\"Hemogram  automated  with red blood cells  white blood cells  hemoglobin  hematocrit  indices  platelet count  and manual white blood cell differential (procedure)\",\"Standard pregnancy test (procedure)\",\"Ultrasound scan for fetal viability (procedure)\",\"Physical examination procedure (procedure)\",\"Urine protein test\",\"Syphilis infectious titer test (procedure)\",\"Urine culture (procedure)\",\"Gonorrhea infection titer test (procedure)\",\"Cytopathology procedure  preparation of smear  genital source (procedure)\",\"Urine screening test for diabetes (procedure)\",\"Rubella screening test (procedure)\",\"Measurement of Varicella-zoster virus antibody (procedure)\",\"Skin test for tuberculosis  Tine test (procedure)\",\"Chlamydia antigen test (procedure)\",\"Fetal anatomy study (procedure)\",\"Hepatitis C antibody  confirmatory test (procedure)\",\"Hepatitis B surface antigen measurement (procedure)\",\"Blood group typing (procedure)\",\"Alpha-fetoprotein test - antenatal (procedure)\",\"Human immunodeficiency virus antigen test (procedure)\",\"Urine screening for glucose (procedure)\",\"Administration of vaccine product containing only Bordetella pertussis and Clostridium tetani and Corynebacterium diphtheriae antigens (procedure)\",\"Detection of chromosomal aneuploidy in prenatal amniotic fluid specimen using fluorescence in situ hybridization screening technique (procedure)\",\"OTHER\",\"OTHER\",\"OTHER\",\"OTHER\",\"OTHER\",\"OTHER\",\"OTHER\",\"OTHER\"],\"name\":\"43\",\"values\":[111,62,62,62,56,56,56,56,56,56,56,56,56,56,56,56,56,56,56,56,55,55,55,50,44,25,13,9,5,2,2],\"type\":\"pie\",\"domain\":{\"x\":[0.0,1.0],\"y\":[0.5959183673469388,0.7020408163265307]},\"hole\":0.4,\"hoverinfo\":\"label+percent+name\"},{\"labels\":[\"Hemogram  automated  with red blood cells  white blood cells  hemoglobin  hematocrit  indices  platelet count  and manual white blood cell differential (procedure)\",\"Physical examination procedure (procedure)\",\"Standard pregnancy test (procedure)\",\"Ultrasound scan for fetal viability (procedure)\",\"Urine screening test for diabetes (procedure)\",\"Blood group typing (procedure)\",\"Syphilis infectious titer test (procedure)\",\"Human immunodeficiency virus antigen test (procedure)\",\"Gonorrhea infection titer test (procedure)\",\"Chlamydia antigen test (procedure)\",\"Skin test for tuberculosis  Tine test (procedure)\",\"Cytopathology procedure  preparation of smear  genital source (procedure)\",\"Hepatitis C antibody  confirmatory test (procedure)\",\"Hepatitis B surface antigen measurement (procedure)\",\"Urine culture (procedure)\",\"Rubella screening test (procedure)\",\"Urine protein test\",\"Detection of chromosomal aneuploidy in prenatal amniotic fluid specimen using fluorescence in situ hybridization screening technique (procedure)\",\"Measurement of Varicella-zoster virus antibody (procedure)\",\"OTHER\",\"OTHER\",\"OTHER\",\"OTHER\",\"OTHER\",\"OTHER\",\"OTHER\",\"OTHER\",\"OTHER\",\"OTHER\",\"OTHER\"],\"name\":\"57\",\"values\":[57,39,36,36,31,31,31,31,31,31,31,31,31,31,31,31,31,31,31,27,27,26,26,17,16,7,2,2,2,1],\"type\":\"pie\",\"domain\":{\"x\":[0.0,1.0],\"y\":[0.4469387755102041,0.553061224489796]},\"hole\":0.4,\"hoverinfo\":\"label+percent+name\"},{\"labels\":[\"Hemogram  automated  with red blood cells  white blood cells  hemoglobin  hematocrit  indices  platelet count  and manual white blood cell differential (procedure)\",\"Physical examination procedure (procedure)\",\"Ultrasound scan for fetal viability (procedure)\",\"Standard pregnancy test (procedure)\",\"Urine screening for glucose (procedure)\",\"Passive immunization (procedure)\",\"Administration of vaccine product containing only Bordetella pertussis and Clostridium tetani and Corynebacterium diphtheriae antigens (procedure)\",\"Streptococcus pneumoniae group B antigen assay (procedure)\",\"OTHER\",\"OTHER\",\"OTHER\",\"OTHER\",\"OTHER\",\"OTHER\",\"OTHER\",\"OTHER\",\"OTHER\",\"OTHER\",\"OTHER\",\"OTHER\",\"OTHER\",\"OTHER\",\"OTHER\",\"OTHER\",\"OTHER\",\"OTHER\",\"OTHER\",\"OTHER\",\"OTHER\",\"OTHER\",\"OTHER\",\"OTHER\",\"OTHER\",\"OTHER\"],\"name\":\"44\",\"values\":[51,28,27,27,27,27,27,26,24,24,24,24,24,24,24,24,24,24,24,24,24,24,24,24,23,23,20,6,6,5,5,4,2,1],\"type\":\"pie\",\"domain\":{\"x\":[0.0,1.0],\"y\":[0.2979591836734694,0.40408163265306124]},\"hole\":0.4,\"hoverinfo\":\"label+percent+name\"},{\"labels\":[\"Physical examination procedure (procedure)\",\"Ultrasound scan for fetal viability (procedure)\",\"Standard pregnancy test (procedure)\",\"Passive immunization (procedure)\"],\"name\":\"16\",\"values\":[20,20,20,3],\"type\":\"pie\",\"domain\":{\"x\":[0.0,1.0],\"y\":[0.1489795918367347,0.25510204081632654]},\"hole\":0.4,\"hoverinfo\":\"label+percent+name\"},{\"labels\":[\"Standard pregnancy test (procedure)\",\"Physical examination procedure (procedure)\",\"Ultrasound scan for fetal viability (procedure)\",\"Pregnancy termination care (regime\\u002ftherapy)\",\"Depression screening (procedure)\",\"Counseling for termination of pregnancy (procedure)\",\"Induced termination of pregnancy (procedure)\",\"OTHER\",\"OTHER\",\"OTHER\",\"OTHER\"],\"name\":\"33\",\"values\":[17,17,17,15,15,15,15,2,1,1,1],\"type\":\"pie\",\"domain\":{\"x\":[0.0,1.0],\"y\":[0.0,0.10612244897959185]},\"hole\":0.4,\"hoverinfo\":\"label+percent+name\"}],                        {\"template\":{\"data\":{\"histogram2dcontour\":[{\"type\":\"histogram2dcontour\",\"colorbar\":{\"outlinewidth\":0,\"ticks\":\"\"},\"colorscale\":[[0.0,\"#0d0887\"],[0.1111111111111111,\"#46039f\"],[0.2222222222222222,\"#7201a8\"],[0.3333333333333333,\"#9c179e\"],[0.4444444444444444,\"#bd3786\"],[0.5555555555555556,\"#d8576b\"],[0.6666666666666666,\"#ed7953\"],[0.7777777777777778,\"#fb9f3a\"],[0.8888888888888888,\"#fdca26\"],[1.0,\"#f0f921\"]]}],\"choropleth\":[{\"type\":\"choropleth\",\"colorbar\":{\"outlinewidth\":0,\"ticks\":\"\"}}],\"histogram2d\":[{\"type\":\"histogram2d\",\"colorbar\":{\"outlinewidth\":0,\"ticks\":\"\"},\"colorscale\":[[0.0,\"#0d0887\"],[0.1111111111111111,\"#46039f\"],[0.2222222222222222,\"#7201a8\"],[0.3333333333333333,\"#9c179e\"],[0.4444444444444444,\"#bd3786\"],[0.5555555555555556,\"#d8576b\"],[0.6666666666666666,\"#ed7953\"],[0.7777777777777778,\"#fb9f3a\"],[0.8888888888888888,\"#fdca26\"],[1.0,\"#f0f921\"]]}],\"heatmap\":[{\"type\":\"heatmap\",\"colorbar\":{\"outlinewidth\":0,\"ticks\":\"\"},\"colorscale\":[[0.0,\"#0d0887\"],[0.1111111111111111,\"#46039f\"],[0.2222222222222222,\"#7201a8\"],[0.3333333333333333,\"#9c179e\"],[0.4444444444444444,\"#bd3786\"],[0.5555555555555556,\"#d8576b\"],[0.6666666666666666,\"#ed7953\"],[0.7777777777777778,\"#fb9f3a\"],[0.8888888888888888,\"#fdca26\"],[1.0,\"#f0f921\"]]}],\"heatmapgl\":[{\"type\":\"heatmapgl\",\"colorbar\":{\"outlinewidth\":0,\"ticks\":\"\"},\"colorscale\":[[0.0,\"#0d0887\"],[0.1111111111111111,\"#46039f\"],[0.2222222222222222,\"#7201a8\"],[0.3333333333333333,\"#9c179e\"],[0.4444444444444444,\"#bd3786\"],[0.5555555555555556,\"#d8576b\"],[0.6666666666666666,\"#ed7953\"],[0.7777777777777778,\"#fb9f3a\"],[0.8888888888888888,\"#fdca26\"],[1.0,\"#f0f921\"]]}],\"contourcarpet\":[{\"type\":\"contourcarpet\",\"colorbar\":{\"outlinewidth\":0,\"ticks\":\"\"}}],\"contour\":[{\"type\":\"contour\",\"colorbar\":{\"outlinewidth\":0,\"ticks\":\"\"},\"colorscale\":[[0.0,\"#0d0887\"],[0.1111111111111111,\"#46039f\"],[0.2222222222222222,\"#7201a8\"],[0.3333333333333333,\"#9c179e\"],[0.4444444444444444,\"#bd3786\"],[0.5555555555555556,\"#d8576b\"],[0.6666666666666666,\"#ed7953\"],[0.7777777777777778,\"#fb9f3a\"],[0.8888888888888888,\"#fdca26\"],[1.0,\"#f0f921\"]]}],\"surface\":[{\"type\":\"surface\",\"colorbar\":{\"outlinewidth\":0,\"ticks\":\"\"},\"colorscale\":[[0.0,\"#0d0887\"],[0.1111111111111111,\"#46039f\"],[0.2222222222222222,\"#7201a8\"],[0.3333333333333333,\"#9c179e\"],[0.4444444444444444,\"#bd3786\"],[0.5555555555555556,\"#d8576b\"],[0.6666666666666666,\"#ed7953\"],[0.7777777777777778,\"#fb9f3a\"],[0.8888888888888888,\"#fdca26\"],[1.0,\"#f0f921\"]]}],\"mesh3d\":[{\"type\":\"mesh3d\",\"colorbar\":{\"outlinewidth\":0,\"ticks\":\"\"}}],\"scatter\":[{\"fillpattern\":{\"fillmode\":\"overlay\",\"size\":10,\"solidity\":0.2},\"type\":\"scatter\"}],\"parcoords\":[{\"type\":\"parcoords\",\"line\":{\"colorbar\":{\"outlinewidth\":0,\"ticks\":\"\"}}}],\"scatterpolargl\":[{\"type\":\"scatterpolargl\",\"marker\":{\"colorbar\":{\"outlinewidth\":0,\"ticks\":\"\"}}}],\"bar\":[{\"error_x\":{\"color\":\"#2a3f5f\"},\"error_y\":{\"color\":\"#2a3f5f\"},\"marker\":{\"line\":{\"color\":\"#E5ECF6\",\"width\":0.5},\"pattern\":{\"fillmode\":\"overlay\",\"size\":10,\"solidity\":0.2}},\"type\":\"bar\"}],\"scattergeo\":[{\"type\":\"scattergeo\",\"marker\":{\"colorbar\":{\"outlinewidth\":0,\"ticks\":\"\"}}}],\"scatterpolar\":[{\"type\":\"scatterpolar\",\"marker\":{\"colorbar\":{\"outlinewidth\":0,\"ticks\":\"\"}}}],\"histogram\":[{\"marker\":{\"pattern\":{\"fillmode\":\"overlay\",\"size\":10,\"solidity\":0.2}},\"type\":\"histogram\"}],\"scattergl\":[{\"type\":\"scattergl\",\"marker\":{\"colorbar\":{\"outlinewidth\":0,\"ticks\":\"\"}}}],\"scatter3d\":[{\"type\":\"scatter3d\",\"line\":{\"colorbar\":{\"outlinewidth\":0,\"ticks\":\"\"}},\"marker\":{\"colorbar\":{\"outlinewidth\":0,\"ticks\":\"\"}}}],\"scattermapbox\":[{\"type\":\"scattermapbox\",\"marker\":{\"colorbar\":{\"outlinewidth\":0,\"ticks\":\"\"}}}],\"scatterternary\":[{\"type\":\"scatterternary\",\"marker\":{\"colorbar\":{\"outlinewidth\":0,\"ticks\":\"\"}}}],\"scattercarpet\":[{\"type\":\"scattercarpet\",\"marker\":{\"colorbar\":{\"outlinewidth\":0,\"ticks\":\"\"}}}],\"carpet\":[{\"aaxis\":{\"endlinecolor\":\"#2a3f5f\",\"gridcolor\":\"white\",\"linecolor\":\"white\",\"minorgridcolor\":\"white\",\"startlinecolor\":\"#2a3f5f\"},\"baxis\":{\"endlinecolor\":\"#2a3f5f\",\"gridcolor\":\"white\",\"linecolor\":\"white\",\"minorgridcolor\":\"white\",\"startlinecolor\":\"#2a3f5f\"},\"type\":\"carpet\"}],\"table\":[{\"cells\":{\"fill\":{\"color\":\"#EBF0F8\"},\"line\":{\"color\":\"white\"}},\"header\":{\"fill\":{\"color\":\"#C8D4E3\"},\"line\":{\"color\":\"white\"}},\"type\":\"table\"}],\"barpolar\":[{\"marker\":{\"line\":{\"color\":\"#E5ECF6\",\"width\":0.5},\"pattern\":{\"fillmode\":\"overlay\",\"size\":10,\"solidity\":0.2}},\"type\":\"barpolar\"}],\"pie\":[{\"automargin\":true,\"type\":\"pie\"}]},\"layout\":{\"autotypenumbers\":\"strict\",\"colorway\":[\"#636efa\",\"#EF553B\",\"#00cc96\",\"#ab63fa\",\"#FFA15A\",\"#19d3f3\",\"#FF6692\",\"#B6E880\",\"#FF97FF\",\"#FECB52\"],\"font\":{\"color\":\"#2a3f5f\"},\"hovermode\":\"closest\",\"hoverlabel\":{\"align\":\"left\"},\"paper_bgcolor\":\"white\",\"plot_bgcolor\":\"#E5ECF6\",\"polar\":{\"bgcolor\":\"#E5ECF6\",\"angularaxis\":{\"gridcolor\":\"white\",\"linecolor\":\"white\",\"ticks\":\"\"},\"radialaxis\":{\"gridcolor\":\"white\",\"linecolor\":\"white\",\"ticks\":\"\"}},\"ternary\":{\"bgcolor\":\"#E5ECF6\",\"aaxis\":{\"gridcolor\":\"white\",\"linecolor\":\"white\",\"ticks\":\"\"},\"baxis\":{\"gridcolor\":\"white\",\"linecolor\":\"white\",\"ticks\":\"\"},\"caxis\":{\"gridcolor\":\"white\",\"linecolor\":\"white\",\"ticks\":\"\"}},\"coloraxis\":{\"colorbar\":{\"outlinewidth\":0,\"ticks\":\"\"}},\"colorscale\":{\"sequential\":[[0.0,\"#0d0887\"],[0.1111111111111111,\"#46039f\"],[0.2222222222222222,\"#7201a8\"],[0.3333333333333333,\"#9c179e\"],[0.4444444444444444,\"#bd3786\"],[0.5555555555555556,\"#d8576b\"],[0.6666666666666666,\"#ed7953\"],[0.7777777777777778,\"#fb9f3a\"],[0.8888888888888888,\"#fdca26\"],[1.0,\"#f0f921\"]],\"sequentialminus\":[[0.0,\"#0d0887\"],[0.1111111111111111,\"#46039f\"],[0.2222222222222222,\"#7201a8\"],[0.3333333333333333,\"#9c179e\"],[0.4444444444444444,\"#bd3786\"],[0.5555555555555556,\"#d8576b\"],[0.6666666666666666,\"#ed7953\"],[0.7777777777777778,\"#fb9f3a\"],[0.8888888888888888,\"#fdca26\"],[1.0,\"#f0f921\"]],\"diverging\":[[0,\"#8e0152\"],[0.1,\"#c51b7d\"],[0.2,\"#de77ae\"],[0.3,\"#f1b6da\"],[0.4,\"#fde0ef\"],[0.5,\"#f7f7f7\"],[0.6,\"#e6f5d0\"],[0.7,\"#b8e186\"],[0.8,\"#7fbc41\"],[0.9,\"#4d9221\"],[1,\"#276419\"]]},\"xaxis\":{\"gridcolor\":\"white\",\"linecolor\":\"white\",\"ticks\":\"\",\"title\":{\"standoff\":15},\"zerolinecolor\":\"white\",\"automargin\":true,\"zerolinewidth\":2},\"yaxis\":{\"gridcolor\":\"white\",\"linecolor\":\"white\",\"ticks\":\"\",\"title\":{\"standoff\":15},\"zerolinecolor\":\"white\",\"automargin\":true,\"zerolinewidth\":2},\"scene\":{\"xaxis\":{\"backgroundcolor\":\"#E5ECF6\",\"gridcolor\":\"white\",\"linecolor\":\"white\",\"showbackground\":true,\"ticks\":\"\",\"zerolinecolor\":\"white\",\"gridwidth\":2},\"yaxis\":{\"backgroundcolor\":\"#E5ECF6\",\"gridcolor\":\"white\",\"linecolor\":\"white\",\"showbackground\":true,\"ticks\":\"\",\"zerolinecolor\":\"white\",\"gridwidth\":2},\"zaxis\":{\"backgroundcolor\":\"#E5ECF6\",\"gridcolor\":\"white\",\"linecolor\":\"white\",\"showbackground\":true,\"ticks\":\"\",\"zerolinecolor\":\"white\",\"gridwidth\":2}},\"shapedefaults\":{\"line\":{\"color\":\"#2a3f5f\"}},\"annotationdefaults\":{\"arrowcolor\":\"#2a3f5f\",\"arrowhead\":0,\"arrowwidth\":1},\"geo\":{\"bgcolor\":\"white\",\"landcolor\":\"#E5ECF6\",\"subunitcolor\":\"white\",\"showland\":true,\"showlakes\":true,\"lakecolor\":\"white\"},\"title\":{\"x\":0.05},\"mapbox\":{\"style\":\"light\"}}},\"title\":{\"text\":\"Procedures by Cohort\"},\"height\":2000,\"width\":2000,\"annotations\":[{\"showarrow\":false,\"text\":\"123\",\"x\":0.5,\"xanchor\":\"center\",\"y\":0.9469387755102041,\"font\":{\"size\":20}},{\"showarrow\":false,\"text\":\"22\",\"x\":0.5,\"xanchor\":\"center\",\"y\":0.7979591836734694,\"font\":{\"size\":20}},{\"showarrow\":false,\"text\":\"43\",\"x\":0.5,\"xanchor\":\"center\",\"y\":0.6489795918367347,\"font\":{\"size\":20}},{\"showarrow\":false,\"text\":\"57\",\"x\":0.5,\"xanchor\":\"center\",\"y\":0.5,\"font\":{\"size\":20}},{\"showarrow\":false,\"text\":\"44\",\"x\":0.5,\"xanchor\":\"center\",\"y\":0.3510204081632653,\"font\":{\"size\":20}},{\"showarrow\":false,\"text\":\"16\",\"x\":0.5,\"xanchor\":\"center\",\"y\":0.20204081632653062,\"font\":{\"size\":20}},{\"showarrow\":false,\"text\":\"33\",\"x\":0.5,\"xanchor\":\"center\",\"y\":0.05306122448979592,\"font\":{\"size\":20}}]},                        {\"responsive\": true}                    ).then(function(){\n",
       "                            \n",
       "var gd = document.getElementById('e09c61aa-dc61-48cf-b436-d8f5798b42d0');\n",
       "var x = new MutationObserver(function (mutations, observer) {{\n",
       "        var display = window.getComputedStyle(gd).display;\n",
       "        if (!display || display === 'none') {{\n",
       "            console.log([gd, 'removed!']);\n",
       "            Plotly.purge(gd);\n",
       "            observer.disconnect();\n",
       "        }}\n",
       "}});\n",
       "\n",
       "// Listen for the removal of the full notebook cells\n",
       "var notebookContainer = gd.closest('#notebook-container');\n",
       "if (notebookContainer) {{\n",
       "    x.observe(notebookContainer, {childList: true});\n",
       "}}\n",
       "\n",
       "// Listen for the clearing of the current output cell\n",
       "var outputEl = gd.closest('.output');\n",
       "if (outputEl) {{\n",
       "    x.observe(outputEl, {childList: true});\n",
       "}}\n",
       "\n",
       "                        })                };                });            </script>        </div>"
      ]
     },
     "metadata": {},
     "output_type": "display_data"
    }
   ],
   "source": [
    "import plotly.graph_objects as go\n",
    "from plotly.subplots import make_subplots\n",
    "\n",
    "cohorts = proc_cohort_agg_df.COHORT.unique()\n",
    "labels = proc_cohort_agg_df.DESCRIPTION.unique()\n",
    "\n",
    "# Create subplots: use 'domain' type for Pie subplot\n",
    "\n",
    "fig = make_subplots(rows=len(cohorts), cols=1, specs=[[{'type':'domain'}] for i in range(7)])\n",
    "i = 0\n",
    "annotations = []\n",
    "for cohort in cohorts:\n",
    "    i+=1\n",
    "    df = proc_cohort_agg_df[proc_cohort_agg_df.COHORT == cohort]\n",
    "    fig.add_trace(go.Pie(labels=df.DESCRIPTION, values=df.CNT, name=cohort), i, 1)\n",
    "    annotations.append(dict(text=cohort, x=0.5, y=sum(fig.get_subplot(i, 1).y) / 2,\n",
    "                      font_size=20, showarrow=False, xanchor=\"center\"))\n",
    "    \n",
    "\n",
    "\n",
    "# Use `hole` to create a donut-like pie chart\n",
    "fig.update_traces(hole=.4, hoverinfo=\"label+percent+name\")\n",
    "\n",
    "fig.update_layout(\n",
    "    title_text=\"Procedures by Cohort\", height=2000, width=2000, annotations=annotations)\n",
    "fig.show()"
   ]
  },
  {
   "cell_type": "markdown",
   "id": "8423254f7ceb61f6",
   "metadata": {},
   "source": [
    "## Patient Journey Sankey\n"
   ]
  },
  {
   "cell_type": "code",
   "execution_count": 8,
   "id": "73509d1b-bd58-4d4a-9f5c-064b21638514",
   "metadata": {
    "ExecuteTime": {
     "end_time": "2024-11-19T20:56:54.963654Z",
     "start_time": "2024-11-19T20:56:54.505442Z"
    },
    "collapsed": false,
    "jupyter": {
     "outputs_hidden": false
    },
    "language": "python",
    "name": "cell6",
    "resultHeight": 439
   },
   "outputs": [
    {
     "data": {
      "text/html": [
       "<div>\n",
       "<style scoped>\n",
       "    .dataframe tbody tr th:only-of-type {\n",
       "        vertical-align: middle;\n",
       "    }\n",
       "\n",
       "    .dataframe tbody tr th {\n",
       "        vertical-align: top;\n",
       "    }\n",
       "\n",
       "    .dataframe thead th {\n",
       "        text-align: right;\n",
       "    }\n",
       "</style>\n",
       "<table border=\"1\" class=\"dataframe\">\n",
       "  <thead>\n",
       "    <tr style=\"text-align: right;\">\n",
       "      <th></th>\n",
       "      <th>COHORT</th>\n",
       "      <th>SOURCE_PROC</th>\n",
       "      <th>TARGET_PROC</th>\n",
       "      <th>FREQ</th>\n",
       "      <th>PERCENT_FREQ</th>\n",
       "      <th>source_id</th>\n",
       "      <th>target_id</th>\n",
       "    </tr>\n",
       "  </thead>\n",
       "  <tbody>\n",
       "    <tr>\n",
       "      <th>0</th>\n",
       "      <td>16</td>\n",
       "      <td>252160004</td>\n",
       "      <td>169230002</td>\n",
       "      <td>20</td>\n",
       "      <td>0.317460</td>\n",
       "      <td>0</td>\n",
       "      <td>1</td>\n",
       "    </tr>\n",
       "    <tr>\n",
       "      <th>1</th>\n",
       "      <td>16</td>\n",
       "      <td>169230002</td>\n",
       "      <td>5880005</td>\n",
       "      <td>17</td>\n",
       "      <td>0.269841</td>\n",
       "      <td>1</td>\n",
       "      <td>64</td>\n",
       "    </tr>\n",
       "    <tr>\n",
       "      <th>2</th>\n",
       "      <td>16</td>\n",
       "      <td>252160004</td>\n",
       "      <td>252160004</td>\n",
       "      <td>16</td>\n",
       "      <td>0.253968</td>\n",
       "      <td>0</td>\n",
       "      <td>0</td>\n",
       "    </tr>\n",
       "    <tr>\n",
       "      <th>3</th>\n",
       "      <td>16</td>\n",
       "      <td>5880005</td>\n",
       "      <td>252160004</td>\n",
       "      <td>4</td>\n",
       "      <td>0.063492</td>\n",
       "      <td>64</td>\n",
       "      <td>0</td>\n",
       "    </tr>\n",
       "    <tr>\n",
       "      <th>4</th>\n",
       "      <td>16</td>\n",
       "      <td>169230002</td>\n",
       "      <td>51116004</td>\n",
       "      <td>3</td>\n",
       "      <td>0.047619</td>\n",
       "      <td>1</td>\n",
       "      <td>18</td>\n",
       "    </tr>\n",
       "    <tr>\n",
       "      <th>...</th>\n",
       "      <td>...</td>\n",
       "      <td>...</td>\n",
       "      <td>...</td>\n",
       "      <td>...</td>\n",
       "      <td>...</td>\n",
       "      <td>...</td>\n",
       "      <td>...</td>\n",
       "    </tr>\n",
       "    <tr>\n",
       "      <th>1144</th>\n",
       "      <td>123</td>\n",
       "      <td>28163009</td>\n",
       "      <td>104375008</td>\n",
       "      <td>1</td>\n",
       "      <td>0.000283</td>\n",
       "      <td>30</td>\n",
       "      <td>12</td>\n",
       "    </tr>\n",
       "    <tr>\n",
       "      <th>1145</th>\n",
       "      <td>123</td>\n",
       "      <td>252160004</td>\n",
       "      <td>47758006</td>\n",
       "      <td>1</td>\n",
       "      <td>0.000283</td>\n",
       "      <td>0</td>\n",
       "      <td>6</td>\n",
       "    </tr>\n",
       "    <tr>\n",
       "      <th>1146</th>\n",
       "      <td>123</td>\n",
       "      <td>117010004</td>\n",
       "      <td>47758006</td>\n",
       "      <td>1</td>\n",
       "      <td>0.000283</td>\n",
       "      <td>11</td>\n",
       "      <td>6</td>\n",
       "    </tr>\n",
       "    <tr>\n",
       "      <th>1147</th>\n",
       "      <td>123</td>\n",
       "      <td>237001001</td>\n",
       "      <td>44608003</td>\n",
       "      <td>1</td>\n",
       "      <td>0.000283</td>\n",
       "      <td>19</td>\n",
       "      <td>4</td>\n",
       "    </tr>\n",
       "    <tr>\n",
       "      <th>1148</th>\n",
       "      <td>123</td>\n",
       "      <td>169673001</td>\n",
       "      <td>268556000</td>\n",
       "      <td>1</td>\n",
       "      <td>0.000283</td>\n",
       "      <td>17</td>\n",
       "      <td>66</td>\n",
       "    </tr>\n",
       "  </tbody>\n",
       "</table>\n",
       "<p>1149 rows × 7 columns</p>\n",
       "</div>"
      ],
      "text/plain": [
       "      COHORT  SOURCE_PROC  TARGET_PROC  FREQ  PERCENT_FREQ  source_id  \\\n",
       "0         16    252160004    169230002    20      0.317460          0   \n",
       "1         16    169230002      5880005    17      0.269841          1   \n",
       "2         16    252160004    252160004    16      0.253968          0   \n",
       "3         16      5880005    252160004     4      0.063492         64   \n",
       "4         16    169230002     51116004     3      0.047619          1   \n",
       "...      ...          ...          ...   ...           ...        ...   \n",
       "1144     123     28163009    104375008     1      0.000283         30   \n",
       "1145     123    252160004     47758006     1      0.000283          0   \n",
       "1146     123    117010004     47758006     1      0.000283         11   \n",
       "1147     123    237001001     44608003     1      0.000283         19   \n",
       "1148     123    169673001    268556000     1      0.000283         17   \n",
       "\n",
       "      target_id  \n",
       "0             1  \n",
       "1            64  \n",
       "2             0  \n",
       "3             0  \n",
       "4            18  \n",
       "...         ...  \n",
       "1144         12  \n",
       "1145          6  \n",
       "1146          6  \n",
       "1147          4  \n",
       "1148         66  \n",
       "\n",
       "[1149 rows x 7 columns]"
      ]
     },
     "execution_count": 8,
     "metadata": {},
     "output_type": "execute_result"
    }
   ],
   "source": [
    "# Some id mapping to format final sankey dataframe\n",
    "\n",
    "proc_types_df = session.sql(f'''\n",
    "    SELECT DISTINCT CODE, DESCRIPTION \n",
    "    FROM PATIENT_DB.PUBLIC.PROCEDURES;\n",
    "''').to_pandas()\n",
    "proc_types_df = proc_types_df.reset_index().rename(columns = {'index':'seq_id'})\n",
    "\n",
    "proc_cohort_sankey_df = session.table(f'patient_db.public.procedure_cohort_sankey').to_pandas()\n",
    "proc_cohort_sankey_df = (proc_cohort_sankey_df\n",
    ".merge(proc_types_df[['seq_id', 'CODE']].rename(columns={'seq_id': \"source_id\"}),\n",
    "       left_on = 'SOURCE_PROC', right_on= 'CODE').drop(columns='CODE')\n",
    ".merge(proc_types_df[['seq_id', 'CODE']].rename(columns={'seq_id': \"target_id\"}),\n",
    "        left_on = 'TARGET_PROC', right_on= 'CODE').drop(columns='CODE')\n",
    ")\n",
    "#proc_cohort_sankey_df = proc_cohort_sankey_df[proc_cohort_sankey_df.source_id != proc_cohort_sankey_df.target_id]\n",
    "proc_cohort_sankey_df"
   ]
  },
  {
   "cell_type": "code",
   "execution_count": 13,
   "id": "1a503660-dcb1-4648-bc46-8fea42f184e6",
   "metadata": {
    "ExecuteTime": {
     "end_time": "2024-11-19T20:58:20.083997Z",
     "start_time": "2024-11-19T20:58:20.078142Z"
    },
    "collapsed": false,
    "jupyter": {
     "outputs_hidden": false
    },
    "language": "python",
    "name": "cell8",
    "resultHeight": 0
   },
   "outputs": [],
   "source": [
    "import plotly.graph_objects as go\n",
    "\n",
    "def make_sankey(cohort, min_value=0.01):\n",
    "    fig = go.Figure(data=[go.Sankey(\n",
    "    node = dict(\n",
    "      pad = 10,\n",
    "      thickness = 20,\n",
    "      line = dict(color = \"black\", width = 0.5),\n",
    "      label = proc_types_df['DESCRIPTION'],\n",
    "      color = \"blue\"\n",
    "    ),\n",
    "    link = dict(\n",
    "      source = proc_cohort_sankey_df[(proc_cohort_sankey_df.PERCENT_FREQ>min_value) & (proc_cohort_sankey_df.COHORT==cohort)].source_id,\n",
    "      target = proc_cohort_sankey_df[(proc_cohort_sankey_df.PERCENT_FREQ>min_value) & (proc_cohort_sankey_df.COHORT==cohort)].target_id,\n",
    "      value = proc_cohort_sankey_df[(proc_cohort_sankey_df.PERCENT_FREQ>min_value) & (proc_cohort_sankey_df.COHORT==cohort)].FREQ\n",
    "    ))])\n",
    "\n",
    "    fig.update_layout(title_text=f\"Cohort {cohort} Patient Journeys Sankey Diagram\", \n",
    "            font_size=10, \n",
    "            height=700,\n",
    "            width=1200\n",
    "    )\n",
    "    return fig "
   ]
  },
  {
   "cell_type": "code",
   "execution_count": 14,
   "id": "e840b247-8e61-4216-919e-76dad790c69a",
   "metadata": {
    "ExecuteTime": {
     "end_time": "2024-11-19T20:58:21.918845Z",
     "start_time": "2024-11-19T20:58:21.914660Z"
    },
    "collapsed": false,
    "jupyter": {
     "outputs_hidden": false
    },
    "language": "python",
    "name": "cell13",
    "resultHeight": 322
   },
   "outputs": [
    {
     "data": {
      "text/plain": [
       "COHORT\n",
       "123    411\n",
       "22     268\n",
       "43     189\n",
       "44     162\n",
       "57      90\n",
       "33      23\n",
       "16       6\n",
       "Name: count, dtype: int64"
      ]
     },
     "execution_count": 14,
     "metadata": {},
     "output_type": "execute_result"
    }
   ],
   "source": [
    "proc_cohort_sankey_df.COHORT.value_counts()"
   ]
  },
  {
   "cell_type": "code",
   "execution_count": 15,
   "id": "3ce853f9-c8a8-43c4-a66b-506e383e368f",
   "metadata": {
    "ExecuteTime": {
     "end_time": "2024-11-19T20:58:22.892131Z",
     "start_time": "2024-11-19T20:58:22.880389Z"
    },
    "collapsed": false,
    "jupyter": {
     "outputs_hidden": false
    },
    "language": "python",
    "name": "cell5",
    "resultHeight": 739
   },
   "outputs": [
    {
     "data": {
      "application/vnd.plotly.v1+json": {
       "config": {
        "plotlyServerURL": "https://plot.ly"
       },
       "data": [
        {
         "link": {
          "source": [
           5,
           16,
           73,
           65,
           7,
           6,
           9,
           10,
           5,
           66,
           8,
           30,
           64,
           15,
           12,
           63,
           14,
           13,
           72,
           29,
           11,
           4,
           31,
           176,
           1,
           14
          ],
          "target": [
           4,
           72,
           66,
           16,
           6,
           5,
           8,
           9,
           73,
           31,
           7,
           14,
           15,
           30,
           63,
           29,
           13,
           12,
           5,
           10,
           65,
           1,
           176,
           74,
           64,
           30
          ],
          "value": [
           72,
           72,
           72,
           72,
           70,
           70,
           69,
           68,
           67,
           67,
           67,
           62,
           61,
           60,
           56,
           56,
           53,
           50,
           50,
           47,
           43,
           39,
           38,
           33,
           32,
           27
          ]
         },
         "node": {
          "color": "blue",
          "label": [
           "Standard pregnancy test (procedure)",
           "Ultrasound scan for fetal viability (procedure)",
           "Evaluation of uterine fundal height (procedure)",
           "Auscultation of the fetal heart (procedure)",
           "Blood group typing (procedure)",
           "Hemogram  automated  with red blood cells  white blood cells  hemoglobin  hematocrit  indices  platelet count  and manual white blood cell differential (procedure)",
           "Hepatitis B surface antigen measurement (procedure)",
           "Human immunodeficiency virus antigen test (procedure)",
           "Chlamydia antigen test (procedure)",
           "Gonorrhea infection titer test (procedure)",
           "Syphilis infectious titer test (procedure)",
           "Urine culture (procedure)",
           "Hepatitis C antibody  confirmatory test (procedure)",
           "Rubella screening test (procedure)",
           "Measurement of Varicella-zoster virus antibody (procedure)",
           "Urine protein test",
           "Fetal anatomy study (procedure)",
           "Antenatal RhD antibody screening (procedure)",
           "Passive immunization (procedure)",
           "Augmentation of labor (procedure)",
           "Removal of subgingival plaque and calculus from all teeth using dental instrument (procedure)",
           "Examination of gingivae (procedure)",
           "Assessment of anxiety (procedure)",
           "Dental fluoride treatment (procedure)",
           "Health risks education (procedure)",
           "History taking (procedure)",
           "Postoperative care for dental procedure (regime/therapy)",
           "Serum metabolic panel (procedure)",
           "Development of individualized plan of care (procedure)",
           "Cytopathology procedure  preparation of smear  genital source (procedure)",
           "Skin test for tuberculosis  Tine test (procedure)",
           "Streptococcus pneumoniae group B antigen assay (procedure)",
           "Oral health education (procedure)",
           "Discussion about signs and symptoms (procedure)",
           "Evaluation procedure (procedure)",
           "Discussion about pregnancy (procedure)",
           "Urinalysis with reflex to microscopy and culture (procedure)",
           "Triage: emergency center (procedure)",
           "History and physical examination with evaluation and management of patient (procedure)",
           "Complete blood count (procedure)",
           "Speech and language therapy regime (regime/therapy)",
           "Throat culture (procedure)",
           "Removal of supragingival plaque and calculus from all teeth using dental instrument (procedure)",
           "Patient discharge (procedure)",
           "Insertion of intrauterine contraceptive device (procedure)",
           "History AND physical examination (procedure)",
           "Nursing care/supplementary surveillance (regime/therapy)",
           "Professional / ancillary services care (regime/therapy)",
           "Simple extraction of tooth (procedure)",
           "Plain X-ray of knee region (procedure)",
           "Postoperative care (regime/therapy)",
           "Assessment using New York Heart Association Classification (procedure)",
           "Placing subject in prone position (procedure)",
           "Plain X-ray of chest (procedure)",
           "Telemedicine consultation with patient (procedure)",
           "Electroencephalogram (procedure)",
           "Induced termination of pregnancy (procedure)",
           "Bone density scan (procedure)",
           "Transplantation of kidney regime (regime/therapy)",
           "Medical induction of labor (procedure)",
           "Pre-surgery testing (procedure)",
           "Insertion of catheter into artery (procedure)",
           "Psychosocial care (regime/therapy)",
           "Urine screening test for diabetes (procedure)",
           "Physical examination procedure (procedure)",
           "Detection of chromosomal aneuploidy in prenatal amniotic fluid specimen using fluorescence in situ hybridization screening technique (procedure)",
           "Urine screening for glucose (procedure)",
           "Depression screening (procedure)",
           "Dental consultation and report (procedure)",
           "Dental application of desensitizing medicament (procedure)",
           "Initial patient assessment (procedure)",
           "Discharge from hospital (procedure)",
           "Alpha-fetoprotein test - antenatal (procedure)",
           "Administration of vaccine product containing only Bordetella pertussis and Clostridium tetani and Corynebacterium diphtheriae antigens (procedure)",
           "Childbirth",
           "Assessment using Car  Relax  Alone  Forget  Friends  Trouble Screening Test (procedure)",
           "Patient referral for dental care (procedure)",
           "Dental care (regime/therapy)",
           "Dental plain X-ray bitewing (procedure)",
           "Assessment of health and social care needs (procedure)",
           "History and physical examination  limited (procedure)",
           "Urine specimen collection (procedure)",
           "Antibiotic therapy (procedure)",
           "Measurement of respiratory function (procedure)",
           "Assessment using Alcohol Use Disorders Identification Test - Consumption (procedure)",
           "Insertion of subcutaneous contraceptive (procedure)",
           "Bone immobilization (procedure)",
           "Application of composite dental filling material to dentin of tooth following fracture of tooth (procedure)",
           "Taking patient vital signs (procedure)",
           "Screening for drug abuse (procedure)",
           "Plain X-ray of wrist region (procedure)",
           "Restoration of tooth with coverage of all cusps using dental filling material (procedure)",
           "Sputum examination (procedure)",
           "Colonoscopy (procedure)",
           "Intramuscular injection (procedure)",
           "Information gathering (procedure)",
           "Screening for occult blood in feces (procedure)",
           "Rectal polypectomy (procedure)",
           "Surgical manipulation of joint of knee (procedure)",
           "Care regimes assessment (procedure)",
           "Premature birth of newborn (finding)",
           "Electrocardiographic procedure (procedure)",
           "Oxygen administration by mask (procedure)",
           "Face mask (physical object)",
           "Brief general examination (procedure)",
           "Take oral or dental impression (procedure)",
           "Fitting of denture (procedure)",
           "Tooth socket procedure (procedure)",
           "Removal of subcutaneous contraceptive (procedure)",
           "Excision of fallopian tube and surgical removal of ectopic pregnancy (procedure)",
           "Subcutaneous immunotherapy (procedure)",
           "Cesarean section (procedure)",
           "Review of systems (procedure)",
           "Referral for further care (procedure)",
           "Counseling for termination of pregnancy (procedure)",
           "Pregnancy termination care (regime/therapy)",
           "Instrumental delivery (procedure)",
           "Ligation of bilateral fallopian tubes (procedure)",
           "Certification procedure (procedure)",
           "Notifications (procedure)",
           "Exercise class (regime/therapy)",
           "Admission to orthopedic department (procedure)",
           "Consultation for treatment (procedure)",
           "Intravenous blood transfusion of packed cells (procedure)",
           "Assessment of cardiac status using monitoring device (procedure)",
           "Transthoracic echocardiography (procedure)",
           "Monitoring of patient (regime/therapy)",
           "Rehabilitation therapy (regime/therapy)",
           "Admission to intensive care unit (procedure)",
           "Renal disorder medication review (procedure)",
           "Grafting of periodontal bone defect (procedure)",
           "Digital examination of rectum (procedure)",
           "Biopsy of prostate (procedure)",
           "Suture open wound (procedure)",
           "Coordination of care plan (procedure)",
           "Biopsy of colon (procedure)",
           "Catheter ablation of tissue of heart (procedure)",
           "Injection of tetanus antitoxin (procedure)",
           "Computed tomography of head (procedure)",
           "Continuous subcutaneous infusion of insulin (procedure)",
           "Administration of anesthesia for procedure (procedure)",
           "Pulmonary catheterization with Swan-Ganz catheter (procedure)",
           "Cannulation (procedure)",
           "Median sternotomy (procedure)",
           "Vascular cannula removal (procedure)",
           "Cognitive and behavioral therapy (regime/therapy)",
           "Removal of endotracheal tube (procedure)",
           "Discharge to ward (procedure)",
           "Discussion about options (procedure)",
           "Chemotherapy (procedure)",
           "Transfusion of fresh frozen plasma (procedure)",
           "Venereal disease screening (procedure)",
           "Education  guidance and counseling (procedure)",
           "Off-pump coronary artery bypass (procedure)",
           "Admission to long stay hospital (procedure)",
           "Human immunodeficiency virus viral load (procedure)",
           "Artificial ventilation (regime/therapy)",
           "Sputum microscopy (procedure)",
           "Closed reduction of dislocation of temporomandibular joint (procedure)",
           "Oral examination (procedure)",
           "Operative procedure planned (situation)",
           "Medical records review (procedure)",
           "Assessment using Canadian Study of Health and Aging Clinical Frailty Scale (procedure)",
           "Assessment using health assessment questionnaire (procedure)",
           "Medication reconciliation (procedure)",
           "Screening for domestic abuse (procedure)",
           "Gingivectomy or gingivoplasty  per tooth (procedure)",
           "Depression screening using Patient Health Questionnaire Nine Item score (procedure)",
           "Assessment of substance use (procedure)",
           "Dental surgical procedure (procedure)",
           "Occupational therapy (regime/therapy)",
           "Pre-discharge assessment (procedure)",
           "Plain X-ray of humerus (procedure)",
           "Excision of appendix (procedure)",
           "Physical therapy procedure (regime/therapy)",
           "Echocardiography (procedure)",
           "Episiotomy (procedure)",
           "Peripheral blood smear interpretation (procedure)",
           "Vasectomy (procedure)",
           "Allergy screening test (procedure)",
           "Epidural anesthesia (procedure)",
           "Injection of epinephrine (procedure)",
           "Sterilization education (procedure)",
           "Assessment using Morse Fall Scale (procedure)",
           "Hospice care (regime/therapy)",
           "Renal dialysis (procedure)",
           "Referral to transplant surgeon (procedure)",
           "Kitchen practice (regime/therapy)",
           "Plain X-ray of clavicle (procedure)",
           "Angiography of coronary artery (procedure)",
           "Percutaneous coronary intervention (procedure)",
           "Post anesthesia care management (procedure)",
           "Combined chemotherapy and radiation therapy (procedure)",
           "Mammography (procedure)",
           "Laboratory test (procedure)",
           "Diagnostic assessment (procedure)",
           "Asthma screening (procedure)",
           "Resuscitation using intravenous fluid (procedure)",
           "Referral to sleep apnea clinic (procedure)",
           "Sleep apnea monitoring with alarm (regime/therapy)",
           "Pretransplant evaluation of kidney recipient (procedure)",
           "Transplant of kidney (procedure)",
           "Excision of maxillary torus palatinus (procedure)",
           "Transfer to stepdown unit (procedure)",
           "Sleep apnea assessment (procedure)",
           "Percutaneous mechanical thrombectomy of portal vein using fluoroscopic guidance with contrast (procedure)",
           "Referral to home health care service (procedure)",
           "Comprehensive interview and evaluation (procedure)",
           "Partial resection of colon (procedure)",
           "Nasal sinus endoscopy (procedure)",
           "Doppler ultrasonography of artery (procedure)",
           "Notification of treatment plan (procedure)",
           "Scheduling (procedure)",
           "Preparation of patient for procedure (regime/therapy)",
           "Cardiopulmonary bypass operation (procedure)",
           "Placement of aortic cross clamp (procedure)",
           "Induced cardioplegia (procedure)",
           "Coronary artery bypass grafting (procedure)",
           "Removal of aortic cross clamp (procedure)",
           "Documentation procedure (procedure)",
           "Postoperative procedure education (procedure)",
           "Walking exercise test (procedure)",
           "Stair-climbing test (procedure)",
           "Continuous positive airway pressure titration (procedure)",
           "Spirometry (procedure)",
           "Pulmonary rehabilitation (regime/therapy)",
           "Mammogram - symptomatic (procedure)",
           "Ultrasonography of bilateral breasts (procedure)",
           "Biopsy of breast (procedure)",
           "Human epidermal growth factor receptor 2 gene detection by fluorescence in situ hybridization (procedure)",
           "Human epidermal growth factor receptor 2 gene detection by immunohistochemistry (procedure)",
           "Sentinel lymph node biopsy (procedure)",
           "Excision of sentinel lymph node (procedure)",
           "Lumpectomy of breast (procedure)",
           "Intravenous injection (procedure)",
           "Human immunodeficiency virus screening (procedure)",
           "Human immunodeficiency virus counseling (procedure)",
           "Patient referral (procedure)",
           "Viral hepatitis screening test (procedure)",
           "Hepatitis B screening (procedure)",
           "Hepatitis C screening (procedure)",
           "Serologic test for Toxoplasma gondii (procedure)",
           "Assessment of social support (procedure)",
           "Assessment of readiness for disclosure of health status (procedure)",
           "Assessment of readiness for self-management (procedure)",
           "Complete blood count with white cell differential  automated (procedure)",
           "Extraction of wisdom tooth (procedure)",
           "Admission to burn unit (procedure)",
           "Movement therapy (regime/therapy)",
           "Plain X-ray of pelvis (procedure)",
           "Risk assessment (procedure)",
           "Referral to service (procedure)",
           "Insertion of endotracheal tube (procedure)",
           "Assist control ventilation (regime/therapy)",
           "Weaning from mechanically assisted ventilation (regime/therapy)",
           "Computed tomography of chest and abdomen (procedure)",
           "Magnetic resonance imaging for measurement of brain volume (procedure)",
           "Hearing examination (procedure)",
           "Radiography of mandible (procedure)",
           "Posttreatment stabilization  orthodontic device (procedure)",
           "Range of motion testing (procedure)",
           "Closed reduction of mandibular fracture (procedure)",
           "Referral for echocardiography (procedure)",
           "Imaging finding (finding)",
           "Liaising with referral source (procedure)",
           "Computed tomography of chest  abdomen and pelvis (procedure)",
           "Referral to dentist (procedure)",
           "Simple walk test (procedure)",
           "Multidisciplinary assessment (procedure)",
           "Anticipatory guidance (procedure)",
           "Removal of intrauterine contraceptive device (procedure)",
           "Referral to cardiology service (procedure)",
           "Replacement of contraceptive intrauterine device (procedure)",
           "Physical examination  complete (procedure)",
           "Plain X-ray of ankle region (procedure)",
           "Referral to cardiac surgery service (procedure)",
           "Intubation (procedure)",
           "Transfusion of packed red blood cells (procedure)",
           "Hepatitis antibody test (procedure)",
           "Tuberculosis screening (procedure)",
           "Absolute CD4 count procedure (procedure)",
           "Care planning and problem solving actions (procedure)",
           "Determination of susceptibility of Human immunodeficiency virus 1 to panel of antiretroviral drugs using genotypic technique (procedure)",
           "High resolution computed tomography of chest without contrast (procedure)",
           "Heart failure education (procedure)",
           "Intraoperative care (regime/therapy)",
           "Administration of anesthesia AND/OR sedation (procedure)",
           "Incision (procedure)",
           "Transcatheter aortic valve implantation (procedure)",
           "Application of dressing  sterile (procedure)",
           "Patient transfer  in-hospital (procedure)",
           "Transfusion of red blood cells (procedure)",
           "12 lead electrocardiogram (procedure)",
           "Admission to ward (procedure)",
           "Referral to hypertension clinic (procedure)",
           "Cardiovascular stress testing (procedure)",
           "Platelet transfusion (procedure)",
           "Home health aide service (regime/therapy)",
           "Transplant of lung (procedure)",
           "Close observation (regime/therapy)",
           "Prostatectomy (procedure)",
           "Thoracentesis (procedure)",
           "Manual pelvic examination (procedure)",
           "Fine needle aspiration biopsy of lung (procedure)",
           "Replacement of aortic valve (procedure)",
           "Transesophageal echocardiography (procedure)",
           "Excision of lingual frenum (procedure)",
           "Surgical manipulation of shoulder joint (procedure)",
           "Hematologic disorder medication review (procedure)",
           "Treatment failure risk education (procedure)",
           "Treatment side effects education (procedure)",
           "Pre-operative chemotherapy (procedure)",
           "Autologous bone marrow transplant (procedure)",
           "Methotrexate injection into tubal pregnancy (procedure)",
           "Opening of chest (procedure)",
           "Social case work (regime/therapy)",
           "Emergency coronary artery bypass graft (procedure)",
           "Excision of lingual torus (procedure)",
           "Admission to trauma surgery department (procedure)",
           "Comprehensive metabolic panel (procedure)",
           "Evaluation of psychiatric state of patient (procedure)",
           "Hospital admission  short-term  24 hours (procedure)",
           "Psychiatric follow-up (procedure)",
           "Referral for laboratory tests (procedure)",
           "Lab findings education  guidance  and counseling (procedure)",
           "Discussion about treatment (procedure)",
           "Evaluating response to treatment (procedure)",
           "Treatment changed (situation)",
           "Excision of breast tissue (procedure)",
           "Mental health screening (procedure)",
           "Suicide risk assessment (procedure)",
           "Total replacement of hip (procedure)",
           "Lung volume reduction surgery (procedure)",
           "Spontaneous breech delivery (procedure)",
           "Screening mammography (procedure)",
           "Prosthetic total arthroplasty of knee joint (procedure)",
           "External beam radiation therapy procedure (procedure)",
           "Direct current cardioversion (procedure)",
           "Ultrasonography of abdomen  right upper quadrant and epigastrium (procedure)",
           "Cholecystectomy (procedure)",
           "Cardioassist by aortic balloon pump (procedure)",
           "Hemodialysis (procedure)",
           "Microbial culture (procedure)",
           "Patient informed - test result (situation)",
           "Referral to palliative care service (procedure)"
          ],
          "line": {
           "color": "black",
           "width": 0.5
          },
          "pad": 10,
          "thickness": 20
         },
         "type": "sankey"
        }
       ],
       "layout": {
        "font": {
         "size": 10
        },
        "height": 700,
        "template": {
         "data": {
          "bar": [
           {
            "error_x": {
             "color": "#f2f5fa"
            },
            "error_y": {
             "color": "#f2f5fa"
            },
            "marker": {
             "line": {
              "color": "rgb(17,17,17)",
              "width": 0.5
             },
             "pattern": {
              "fillmode": "overlay",
              "size": 10,
              "solidity": 0.2
             }
            },
            "type": "bar"
           }
          ],
          "barpolar": [
           {
            "marker": {
             "line": {
              "color": "rgb(17,17,17)",
              "width": 0.5
             },
             "pattern": {
              "fillmode": "overlay",
              "size": 10,
              "solidity": 0.2
             }
            },
            "type": "barpolar"
           }
          ],
          "carpet": [
           {
            "aaxis": {
             "endlinecolor": "#A2B1C6",
             "gridcolor": "#506784",
             "linecolor": "#506784",
             "minorgridcolor": "#506784",
             "startlinecolor": "#A2B1C6"
            },
            "baxis": {
             "endlinecolor": "#A2B1C6",
             "gridcolor": "#506784",
             "linecolor": "#506784",
             "minorgridcolor": "#506784",
             "startlinecolor": "#A2B1C6"
            },
            "type": "carpet"
           }
          ],
          "choropleth": [
           {
            "colorbar": {
             "outlinewidth": 0,
             "ticks": ""
            },
            "type": "choropleth"
           }
          ],
          "contour": [
           {
            "colorbar": {
             "outlinewidth": 0,
             "ticks": ""
            },
            "colorscale": [
             [
              0,
              "#0d0887"
             ],
             [
              0.1111111111111111,
              "#46039f"
             ],
             [
              0.2222222222222222,
              "#7201a8"
             ],
             [
              0.3333333333333333,
              "#9c179e"
             ],
             [
              0.4444444444444444,
              "#bd3786"
             ],
             [
              0.5555555555555556,
              "#d8576b"
             ],
             [
              0.6666666666666666,
              "#ed7953"
             ],
             [
              0.7777777777777778,
              "#fb9f3a"
             ],
             [
              0.8888888888888888,
              "#fdca26"
             ],
             [
              1,
              "#f0f921"
             ]
            ],
            "type": "contour"
           }
          ],
          "contourcarpet": [
           {
            "colorbar": {
             "outlinewidth": 0,
             "ticks": ""
            },
            "type": "contourcarpet"
           }
          ],
          "heatmap": [
           {
            "colorbar": {
             "outlinewidth": 0,
             "ticks": ""
            },
            "colorscale": [
             [
              0,
              "#0d0887"
             ],
             [
              0.1111111111111111,
              "#46039f"
             ],
             [
              0.2222222222222222,
              "#7201a8"
             ],
             [
              0.3333333333333333,
              "#9c179e"
             ],
             [
              0.4444444444444444,
              "#bd3786"
             ],
             [
              0.5555555555555556,
              "#d8576b"
             ],
             [
              0.6666666666666666,
              "#ed7953"
             ],
             [
              0.7777777777777778,
              "#fb9f3a"
             ],
             [
              0.8888888888888888,
              "#fdca26"
             ],
             [
              1,
              "#f0f921"
             ]
            ],
            "type": "heatmap"
           }
          ],
          "heatmapgl": [
           {
            "colorbar": {
             "outlinewidth": 0,
             "ticks": ""
            },
            "colorscale": [
             [
              0,
              "#0d0887"
             ],
             [
              0.1111111111111111,
              "#46039f"
             ],
             [
              0.2222222222222222,
              "#7201a8"
             ],
             [
              0.3333333333333333,
              "#9c179e"
             ],
             [
              0.4444444444444444,
              "#bd3786"
             ],
             [
              0.5555555555555556,
              "#d8576b"
             ],
             [
              0.6666666666666666,
              "#ed7953"
             ],
             [
              0.7777777777777778,
              "#fb9f3a"
             ],
             [
              0.8888888888888888,
              "#fdca26"
             ],
             [
              1,
              "#f0f921"
             ]
            ],
            "type": "heatmapgl"
           }
          ],
          "histogram": [
           {
            "marker": {
             "pattern": {
              "fillmode": "overlay",
              "size": 10,
              "solidity": 0.2
             }
            },
            "type": "histogram"
           }
          ],
          "histogram2d": [
           {
            "colorbar": {
             "outlinewidth": 0,
             "ticks": ""
            },
            "colorscale": [
             [
              0,
              "#0d0887"
             ],
             [
              0.1111111111111111,
              "#46039f"
             ],
             [
              0.2222222222222222,
              "#7201a8"
             ],
             [
              0.3333333333333333,
              "#9c179e"
             ],
             [
              0.4444444444444444,
              "#bd3786"
             ],
             [
              0.5555555555555556,
              "#d8576b"
             ],
             [
              0.6666666666666666,
              "#ed7953"
             ],
             [
              0.7777777777777778,
              "#fb9f3a"
             ],
             [
              0.8888888888888888,
              "#fdca26"
             ],
             [
              1,
              "#f0f921"
             ]
            ],
            "type": "histogram2d"
           }
          ],
          "histogram2dcontour": [
           {
            "colorbar": {
             "outlinewidth": 0,
             "ticks": ""
            },
            "colorscale": [
             [
              0,
              "#0d0887"
             ],
             [
              0.1111111111111111,
              "#46039f"
             ],
             [
              0.2222222222222222,
              "#7201a8"
             ],
             [
              0.3333333333333333,
              "#9c179e"
             ],
             [
              0.4444444444444444,
              "#bd3786"
             ],
             [
              0.5555555555555556,
              "#d8576b"
             ],
             [
              0.6666666666666666,
              "#ed7953"
             ],
             [
              0.7777777777777778,
              "#fb9f3a"
             ],
             [
              0.8888888888888888,
              "#fdca26"
             ],
             [
              1,
              "#f0f921"
             ]
            ],
            "type": "histogram2dcontour"
           }
          ],
          "mesh3d": [
           {
            "colorbar": {
             "outlinewidth": 0,
             "ticks": ""
            },
            "type": "mesh3d"
           }
          ],
          "parcoords": [
           {
            "line": {
             "colorbar": {
              "outlinewidth": 0,
              "ticks": ""
             }
            },
            "type": "parcoords"
           }
          ],
          "pie": [
           {
            "automargin": true,
            "type": "pie"
           }
          ],
          "scatter": [
           {
            "marker": {
             "line": {
              "color": "#283442"
             }
            },
            "type": "scatter"
           }
          ],
          "scatter3d": [
           {
            "line": {
             "colorbar": {
              "outlinewidth": 0,
              "ticks": ""
             }
            },
            "marker": {
             "colorbar": {
              "outlinewidth": 0,
              "ticks": ""
             }
            },
            "type": "scatter3d"
           }
          ],
          "scattercarpet": [
           {
            "marker": {
             "colorbar": {
              "outlinewidth": 0,
              "ticks": ""
             }
            },
            "type": "scattercarpet"
           }
          ],
          "scattergeo": [
           {
            "marker": {
             "colorbar": {
              "outlinewidth": 0,
              "ticks": ""
             }
            },
            "type": "scattergeo"
           }
          ],
          "scattergl": [
           {
            "marker": {
             "line": {
              "color": "#283442"
             }
            },
            "type": "scattergl"
           }
          ],
          "scattermapbox": [
           {
            "marker": {
             "colorbar": {
              "outlinewidth": 0,
              "ticks": ""
             }
            },
            "type": "scattermapbox"
           }
          ],
          "scatterpolar": [
           {
            "marker": {
             "colorbar": {
              "outlinewidth": 0,
              "ticks": ""
             }
            },
            "type": "scatterpolar"
           }
          ],
          "scatterpolargl": [
           {
            "marker": {
             "colorbar": {
              "outlinewidth": 0,
              "ticks": ""
             }
            },
            "type": "scatterpolargl"
           }
          ],
          "scatterternary": [
           {
            "marker": {
             "colorbar": {
              "outlinewidth": 0,
              "ticks": ""
             }
            },
            "type": "scatterternary"
           }
          ],
          "surface": [
           {
            "colorbar": {
             "outlinewidth": 0,
             "ticks": ""
            },
            "colorscale": [
             [
              0,
              "#0d0887"
             ],
             [
              0.1111111111111111,
              "#46039f"
             ],
             [
              0.2222222222222222,
              "#7201a8"
             ],
             [
              0.3333333333333333,
              "#9c179e"
             ],
             [
              0.4444444444444444,
              "#bd3786"
             ],
             [
              0.5555555555555556,
              "#d8576b"
             ],
             [
              0.6666666666666666,
              "#ed7953"
             ],
             [
              0.7777777777777778,
              "#fb9f3a"
             ],
             [
              0.8888888888888888,
              "#fdca26"
             ],
             [
              1,
              "#f0f921"
             ]
            ],
            "type": "surface"
           }
          ],
          "table": [
           {
            "cells": {
             "fill": {
              "color": "#506784"
             },
             "line": {
              "color": "rgb(17,17,17)"
             }
            },
            "header": {
             "fill": {
              "color": "#2a3f5f"
             },
             "line": {
              "color": "rgb(17,17,17)"
             }
            },
            "type": "table"
           }
          ]
         },
         "layout": {
          "annotationdefaults": {
           "arrowcolor": "#f2f5fa",
           "arrowhead": 0,
           "arrowwidth": 1
          },
          "autotypenumbers": "strict",
          "coloraxis": {
           "colorbar": {
            "outlinewidth": 0,
            "ticks": ""
           }
          },
          "colorscale": {
           "diverging": [
            [
             0,
             "#8e0152"
            ],
            [
             0.1,
             "#c51b7d"
            ],
            [
             0.2,
             "#de77ae"
            ],
            [
             0.3,
             "#f1b6da"
            ],
            [
             0.4,
             "#fde0ef"
            ],
            [
             0.5,
             "#f7f7f7"
            ],
            [
             0.6,
             "#e6f5d0"
            ],
            [
             0.7,
             "#b8e186"
            ],
            [
             0.8,
             "#7fbc41"
            ],
            [
             0.9,
             "#4d9221"
            ],
            [
             1,
             "#276419"
            ]
           ],
           "sequential": [
            [
             0,
             "#0d0887"
            ],
            [
             0.1111111111111111,
             "#46039f"
            ],
            [
             0.2222222222222222,
             "#7201a8"
            ],
            [
             0.3333333333333333,
             "#9c179e"
            ],
            [
             0.4444444444444444,
             "#bd3786"
            ],
            [
             0.5555555555555556,
             "#d8576b"
            ],
            [
             0.6666666666666666,
             "#ed7953"
            ],
            [
             0.7777777777777778,
             "#fb9f3a"
            ],
            [
             0.8888888888888888,
             "#fdca26"
            ],
            [
             1,
             "#f0f921"
            ]
           ],
           "sequentialminus": [
            [
             0,
             "#0d0887"
            ],
            [
             0.1111111111111111,
             "#46039f"
            ],
            [
             0.2222222222222222,
             "#7201a8"
            ],
            [
             0.3333333333333333,
             "#9c179e"
            ],
            [
             0.4444444444444444,
             "#bd3786"
            ],
            [
             0.5555555555555556,
             "#d8576b"
            ],
            [
             0.6666666666666666,
             "#ed7953"
            ],
            [
             0.7777777777777778,
             "#fb9f3a"
            ],
            [
             0.8888888888888888,
             "#fdca26"
            ],
            [
             1,
             "#f0f921"
            ]
           ]
          },
          "colorway": [
           "#636efa",
           "#EF553B",
           "#00cc96",
           "#ab63fa",
           "#FFA15A",
           "#19d3f3",
           "#FF6692",
           "#B6E880",
           "#FF97FF",
           "#FECB52"
          ],
          "font": {
           "color": "#f2f5fa"
          },
          "geo": {
           "bgcolor": "rgb(17,17,17)",
           "lakecolor": "rgb(17,17,17)",
           "landcolor": "rgb(17,17,17)",
           "showlakes": true,
           "showland": true,
           "subunitcolor": "#506784"
          },
          "hoverlabel": {
           "align": "left"
          },
          "hovermode": "closest",
          "mapbox": {
           "style": "dark"
          },
          "paper_bgcolor": "rgb(17,17,17)",
          "plot_bgcolor": "rgb(17,17,17)",
          "polar": {
           "angularaxis": {
            "gridcolor": "#506784",
            "linecolor": "#506784",
            "ticks": ""
           },
           "bgcolor": "rgb(17,17,17)",
           "radialaxis": {
            "gridcolor": "#506784",
            "linecolor": "#506784",
            "ticks": ""
           }
          },
          "scene": {
           "xaxis": {
            "backgroundcolor": "rgb(17,17,17)",
            "gridcolor": "#506784",
            "gridwidth": 2,
            "linecolor": "#506784",
            "showbackground": true,
            "ticks": "",
            "zerolinecolor": "#C8D4E3"
           },
           "yaxis": {
            "backgroundcolor": "rgb(17,17,17)",
            "gridcolor": "#506784",
            "gridwidth": 2,
            "linecolor": "#506784",
            "showbackground": true,
            "ticks": "",
            "zerolinecolor": "#C8D4E3"
           },
           "zaxis": {
            "backgroundcolor": "rgb(17,17,17)",
            "gridcolor": "#506784",
            "gridwidth": 2,
            "linecolor": "#506784",
            "showbackground": true,
            "ticks": "",
            "zerolinecolor": "#C8D4E3"
           }
          },
          "shapedefaults": {
           "line": {
            "color": "#f2f5fa"
           }
          },
          "sliderdefaults": {
           "bgcolor": "#C8D4E3",
           "bordercolor": "rgb(17,17,17)",
           "borderwidth": 1,
           "tickwidth": 0
          },
          "ternary": {
           "aaxis": {
            "gridcolor": "#506784",
            "linecolor": "#506784",
            "ticks": ""
           },
           "baxis": {
            "gridcolor": "#506784",
            "linecolor": "#506784",
            "ticks": ""
           },
           "bgcolor": "rgb(17,17,17)",
           "caxis": {
            "gridcolor": "#506784",
            "linecolor": "#506784",
            "ticks": ""
           }
          },
          "title": {
           "x": 0.05
          },
          "updatemenudefaults": {
           "bgcolor": "#506784",
           "borderwidth": 0
          },
          "xaxis": {
           "automargin": true,
           "gridcolor": "#283442",
           "linecolor": "#506784",
           "ticks": "",
           "title": {
            "standoff": 15
           },
           "zerolinecolor": "#283442",
           "zerolinewidth": 2
          },
          "yaxis": {
           "automargin": true,
           "gridcolor": "#283442",
           "linecolor": "#506784",
           "ticks": "",
           "title": {
            "standoff": 15
           },
           "zerolinecolor": "#283442",
           "zerolinewidth": 2
          }
         }
        },
        "title": {
         "text": "Cohort 22 Patient Journeys Sankey Diagram"
        },
        "width": 1200
       }
      },
      "text/html": [
       "<div>                            <div id=\"a07602be-3c8d-4b62-9608-fd28b42c76c9\" class=\"plotly-graph-div\" style=\"height:700px; width:1200px;\"></div>            <script type=\"text/javascript\">                require([\"plotly\"], function(Plotly) {                    window.PLOTLYENV=window.PLOTLYENV || {};                                    if (document.getElementById(\"a07602be-3c8d-4b62-9608-fd28b42c76c9\")) {                    Plotly.newPlot(                        \"a07602be-3c8d-4b62-9608-fd28b42c76c9\",                        [{\"link\":{\"source\":[5,16,73,65,7,6,9,10,5,66,8,30,64,15,12,63,14,13,72,29,11,4,31,176,1,14],\"target\":[4,72,66,16,6,5,8,9,73,31,7,14,15,30,63,29,13,12,5,10,65,1,176,74,64,30],\"value\":[72,72,72,72,70,70,69,68,67,67,67,62,61,60,56,56,53,50,50,47,43,39,38,33,32,27]},\"node\":{\"color\":\"blue\",\"label\":[\"Standard pregnancy test (procedure)\",\"Ultrasound scan for fetal viability (procedure)\",\"Evaluation of uterine fundal height (procedure)\",\"Auscultation of the fetal heart (procedure)\",\"Blood group typing (procedure)\",\"Hemogram  automated  with red blood cells  white blood cells  hemoglobin  hematocrit  indices  platelet count  and manual white blood cell differential (procedure)\",\"Hepatitis B surface antigen measurement (procedure)\",\"Human immunodeficiency virus antigen test (procedure)\",\"Chlamydia antigen test (procedure)\",\"Gonorrhea infection titer test (procedure)\",\"Syphilis infectious titer test (procedure)\",\"Urine culture (procedure)\",\"Hepatitis C antibody  confirmatory test (procedure)\",\"Rubella screening test (procedure)\",\"Measurement of Varicella-zoster virus antibody (procedure)\",\"Urine protein test\",\"Fetal anatomy study (procedure)\",\"Antenatal RhD antibody screening (procedure)\",\"Passive immunization (procedure)\",\"Augmentation of labor (procedure)\",\"Removal of subgingival plaque and calculus from all teeth using dental instrument (procedure)\",\"Examination of gingivae (procedure)\",\"Assessment of anxiety (procedure)\",\"Dental fluoride treatment (procedure)\",\"Health risks education (procedure)\",\"History taking (procedure)\",\"Postoperative care for dental procedure (regime\\u002ftherapy)\",\"Serum metabolic panel (procedure)\",\"Development of individualized plan of care (procedure)\",\"Cytopathology procedure  preparation of smear  genital source (procedure)\",\"Skin test for tuberculosis  Tine test (procedure)\",\"Streptococcus pneumoniae group B antigen assay (procedure)\",\"Oral health education (procedure)\",\"Discussion about signs and symptoms (procedure)\",\"Evaluation procedure (procedure)\",\"Discussion about pregnancy (procedure)\",\"Urinalysis with reflex to microscopy and culture (procedure)\",\"Triage: emergency center (procedure)\",\"History and physical examination with evaluation and management of patient (procedure)\",\"Complete blood count (procedure)\",\"Speech and language therapy regime (regime\\u002ftherapy)\",\"Throat culture (procedure)\",\"Removal of supragingival plaque and calculus from all teeth using dental instrument (procedure)\",\"Patient discharge (procedure)\",\"Insertion of intrauterine contraceptive device (procedure)\",\"History AND physical examination (procedure)\",\"Nursing care\\u002fsupplementary surveillance (regime\\u002ftherapy)\",\"Professional \\u002f ancillary services care (regime\\u002ftherapy)\",\"Simple extraction of tooth (procedure)\",\"Plain X-ray of knee region (procedure)\",\"Postoperative care (regime\\u002ftherapy)\",\"Assessment using New York Heart Association Classification (procedure)\",\"Placing subject in prone position (procedure)\",\"Plain X-ray of chest (procedure)\",\"Telemedicine consultation with patient (procedure)\",\"Electroencephalogram (procedure)\",\"Induced termination of pregnancy (procedure)\",\"Bone density scan (procedure)\",\"Transplantation of kidney regime (regime\\u002ftherapy)\",\"Medical induction of labor (procedure)\",\"Pre-surgery testing (procedure)\",\"Insertion of catheter into artery (procedure)\",\"Psychosocial care (regime\\u002ftherapy)\",\"Urine screening test for diabetes (procedure)\",\"Physical examination procedure (procedure)\",\"Detection of chromosomal aneuploidy in prenatal amniotic fluid specimen using fluorescence in situ hybridization screening technique (procedure)\",\"Urine screening for glucose (procedure)\",\"Depression screening (procedure)\",\"Dental consultation and report (procedure)\",\"Dental application of desensitizing medicament (procedure)\",\"Initial patient assessment (procedure)\",\"Discharge from hospital (procedure)\",\"Alpha-fetoprotein test - antenatal (procedure)\",\"Administration of vaccine product containing only Bordetella pertussis and Clostridium tetani and Corynebacterium diphtheriae antigens (procedure)\",\"Childbirth\",\"Assessment using Car  Relax  Alone  Forget  Friends  Trouble Screening Test (procedure)\",\"Patient referral for dental care (procedure)\",\"Dental care (regime\\u002ftherapy)\",\"Dental plain X-ray bitewing (procedure)\",\"Assessment of health and social care needs (procedure)\",\"History and physical examination  limited (procedure)\",\"Urine specimen collection (procedure)\",\"Antibiotic therapy (procedure)\",\"Measurement of respiratory function (procedure)\",\"Assessment using Alcohol Use Disorders Identification Test - Consumption (procedure)\",\"Insertion of subcutaneous contraceptive (procedure)\",\"Bone immobilization (procedure)\",\"Application of composite dental filling material to dentin of tooth following fracture of tooth (procedure)\",\"Taking patient vital signs (procedure)\",\"Screening for drug abuse (procedure)\",\"Plain X-ray of wrist region (procedure)\",\"Restoration of tooth with coverage of all cusps using dental filling material (procedure)\",\"Sputum examination (procedure)\",\"Colonoscopy (procedure)\",\"Intramuscular injection (procedure)\",\"Information gathering (procedure)\",\"Screening for occult blood in feces (procedure)\",\"Rectal polypectomy (procedure)\",\"Surgical manipulation of joint of knee (procedure)\",\"Care regimes assessment (procedure)\",\"Premature birth of newborn (finding)\",\"Electrocardiographic procedure (procedure)\",\"Oxygen administration by mask (procedure)\",\"Face mask (physical object)\",\"Brief general examination (procedure)\",\"Take oral or dental impression (procedure)\",\"Fitting of denture (procedure)\",\"Tooth socket procedure (procedure)\",\"Removal of subcutaneous contraceptive (procedure)\",\"Excision of fallopian tube and surgical removal of ectopic pregnancy (procedure)\",\"Subcutaneous immunotherapy (procedure)\",\"Cesarean section (procedure)\",\"Review of systems (procedure)\",\"Referral for further care (procedure)\",\"Counseling for termination of pregnancy (procedure)\",\"Pregnancy termination care (regime\\u002ftherapy)\",\"Instrumental delivery (procedure)\",\"Ligation of bilateral fallopian tubes (procedure)\",\"Certification procedure (procedure)\",\"Notifications (procedure)\",\"Exercise class (regime\\u002ftherapy)\",\"Admission to orthopedic department (procedure)\",\"Consultation for treatment (procedure)\",\"Intravenous blood transfusion of packed cells (procedure)\",\"Assessment of cardiac status using monitoring device (procedure)\",\"Transthoracic echocardiography (procedure)\",\"Monitoring of patient (regime\\u002ftherapy)\",\"Rehabilitation therapy (regime\\u002ftherapy)\",\"Admission to intensive care unit (procedure)\",\"Renal disorder medication review (procedure)\",\"Grafting of periodontal bone defect (procedure)\",\"Digital examination of rectum (procedure)\",\"Biopsy of prostate (procedure)\",\"Suture open wound (procedure)\",\"Coordination of care plan (procedure)\",\"Biopsy of colon (procedure)\",\"Catheter ablation of tissue of heart (procedure)\",\"Injection of tetanus antitoxin (procedure)\",\"Computed tomography of head (procedure)\",\"Continuous subcutaneous infusion of insulin (procedure)\",\"Administration of anesthesia for procedure (procedure)\",\"Pulmonary catheterization with Swan-Ganz catheter (procedure)\",\"Cannulation (procedure)\",\"Median sternotomy (procedure)\",\"Vascular cannula removal (procedure)\",\"Cognitive and behavioral therapy (regime\\u002ftherapy)\",\"Removal of endotracheal tube (procedure)\",\"Discharge to ward (procedure)\",\"Discussion about options (procedure)\",\"Chemotherapy (procedure)\",\"Transfusion of fresh frozen plasma (procedure)\",\"Venereal disease screening (procedure)\",\"Education  guidance and counseling (procedure)\",\"Off-pump coronary artery bypass (procedure)\",\"Admission to long stay hospital (procedure)\",\"Human immunodeficiency virus viral load (procedure)\",\"Artificial ventilation (regime\\u002ftherapy)\",\"Sputum microscopy (procedure)\",\"Closed reduction of dislocation of temporomandibular joint (procedure)\",\"Oral examination (procedure)\",\"Operative procedure planned (situation)\",\"Medical records review (procedure)\",\"Assessment using Canadian Study of Health and Aging Clinical Frailty Scale (procedure)\",\"Assessment using health assessment questionnaire (procedure)\",\"Medication reconciliation (procedure)\",\"Screening for domestic abuse (procedure)\",\"Gingivectomy or gingivoplasty  per tooth (procedure)\",\"Depression screening using Patient Health Questionnaire Nine Item score (procedure)\",\"Assessment of substance use (procedure)\",\"Dental surgical procedure (procedure)\",\"Occupational therapy (regime\\u002ftherapy)\",\"Pre-discharge assessment (procedure)\",\"Plain X-ray of humerus (procedure)\",\"Excision of appendix (procedure)\",\"Physical therapy procedure (regime\\u002ftherapy)\",\"Echocardiography (procedure)\",\"Episiotomy (procedure)\",\"Peripheral blood smear interpretation (procedure)\",\"Vasectomy (procedure)\",\"Allergy screening test (procedure)\",\"Epidural anesthesia (procedure)\",\"Injection of epinephrine (procedure)\",\"Sterilization education (procedure)\",\"Assessment using Morse Fall Scale (procedure)\",\"Hospice care (regime\\u002ftherapy)\",\"Renal dialysis (procedure)\",\"Referral to transplant surgeon (procedure)\",\"Kitchen practice (regime\\u002ftherapy)\",\"Plain X-ray of clavicle (procedure)\",\"Angiography of coronary artery (procedure)\",\"Percutaneous coronary intervention (procedure)\",\"Post anesthesia care management (procedure)\",\"Combined chemotherapy and radiation therapy (procedure)\",\"Mammography (procedure)\",\"Laboratory test (procedure)\",\"Diagnostic assessment (procedure)\",\"Asthma screening (procedure)\",\"Resuscitation using intravenous fluid (procedure)\",\"Referral to sleep apnea clinic (procedure)\",\"Sleep apnea monitoring with alarm (regime\\u002ftherapy)\",\"Pretransplant evaluation of kidney recipient (procedure)\",\"Transplant of kidney (procedure)\",\"Excision of maxillary torus palatinus (procedure)\",\"Transfer to stepdown unit (procedure)\",\"Sleep apnea assessment (procedure)\",\"Percutaneous mechanical thrombectomy of portal vein using fluoroscopic guidance with contrast (procedure)\",\"Referral to home health care service (procedure)\",\"Comprehensive interview and evaluation (procedure)\",\"Partial resection of colon (procedure)\",\"Nasal sinus endoscopy (procedure)\",\"Doppler ultrasonography of artery (procedure)\",\"Notification of treatment plan (procedure)\",\"Scheduling (procedure)\",\"Preparation of patient for procedure (regime\\u002ftherapy)\",\"Cardiopulmonary bypass operation (procedure)\",\"Placement of aortic cross clamp (procedure)\",\"Induced cardioplegia (procedure)\",\"Coronary artery bypass grafting (procedure)\",\"Removal of aortic cross clamp (procedure)\",\"Documentation procedure (procedure)\",\"Postoperative procedure education (procedure)\",\"Walking exercise test (procedure)\",\"Stair-climbing test (procedure)\",\"Continuous positive airway pressure titration (procedure)\",\"Spirometry (procedure)\",\"Pulmonary rehabilitation (regime\\u002ftherapy)\",\"Mammogram - symptomatic (procedure)\",\"Ultrasonography of bilateral breasts (procedure)\",\"Biopsy of breast (procedure)\",\"Human epidermal growth factor receptor 2 gene detection by fluorescence in situ hybridization (procedure)\",\"Human epidermal growth factor receptor 2 gene detection by immunohistochemistry (procedure)\",\"Sentinel lymph node biopsy (procedure)\",\"Excision of sentinel lymph node (procedure)\",\"Lumpectomy of breast (procedure)\",\"Intravenous injection (procedure)\",\"Human immunodeficiency virus screening (procedure)\",\"Human immunodeficiency virus counseling (procedure)\",\"Patient referral (procedure)\",\"Viral hepatitis screening test (procedure)\",\"Hepatitis B screening (procedure)\",\"Hepatitis C screening (procedure)\",\"Serologic test for Toxoplasma gondii (procedure)\",\"Assessment of social support (procedure)\",\"Assessment of readiness for disclosure of health status (procedure)\",\"Assessment of readiness for self-management (procedure)\",\"Complete blood count with white cell differential  automated (procedure)\",\"Extraction of wisdom tooth (procedure)\",\"Admission to burn unit (procedure)\",\"Movement therapy (regime\\u002ftherapy)\",\"Plain X-ray of pelvis (procedure)\",\"Risk assessment (procedure)\",\"Referral to service (procedure)\",\"Insertion of endotracheal tube (procedure)\",\"Assist control ventilation (regime\\u002ftherapy)\",\"Weaning from mechanically assisted ventilation (regime\\u002ftherapy)\",\"Computed tomography of chest and abdomen (procedure)\",\"Magnetic resonance imaging for measurement of brain volume (procedure)\",\"Hearing examination (procedure)\",\"Radiography of mandible (procedure)\",\"Posttreatment stabilization  orthodontic device (procedure)\",\"Range of motion testing (procedure)\",\"Closed reduction of mandibular fracture (procedure)\",\"Referral for echocardiography (procedure)\",\"Imaging finding (finding)\",\"Liaising with referral source (procedure)\",\"Computed tomography of chest  abdomen and pelvis (procedure)\",\"Referral to dentist (procedure)\",\"Simple walk test (procedure)\",\"Multidisciplinary assessment (procedure)\",\"Anticipatory guidance (procedure)\",\"Removal of intrauterine contraceptive device (procedure)\",\"Referral to cardiology service (procedure)\",\"Replacement of contraceptive intrauterine device (procedure)\",\"Physical examination  complete (procedure)\",\"Plain X-ray of ankle region (procedure)\",\"Referral to cardiac surgery service (procedure)\",\"Intubation (procedure)\",\"Transfusion of packed red blood cells (procedure)\",\"Hepatitis antibody test (procedure)\",\"Tuberculosis screening (procedure)\",\"Absolute CD4 count procedure (procedure)\",\"Care planning and problem solving actions (procedure)\",\"Determination of susceptibility of Human immunodeficiency virus 1 to panel of antiretroviral drugs using genotypic technique (procedure)\",\"High resolution computed tomography of chest without contrast (procedure)\",\"Heart failure education (procedure)\",\"Intraoperative care (regime\\u002ftherapy)\",\"Administration of anesthesia AND\\u002fOR sedation (procedure)\",\"Incision (procedure)\",\"Transcatheter aortic valve implantation (procedure)\",\"Application of dressing  sterile (procedure)\",\"Patient transfer  in-hospital (procedure)\",\"Transfusion of red blood cells (procedure)\",\"12 lead electrocardiogram (procedure)\",\"Admission to ward (procedure)\",\"Referral to hypertension clinic (procedure)\",\"Cardiovascular stress testing (procedure)\",\"Platelet transfusion (procedure)\",\"Home health aide service (regime\\u002ftherapy)\",\"Transplant of lung (procedure)\",\"Close observation (regime\\u002ftherapy)\",\"Prostatectomy (procedure)\",\"Thoracentesis (procedure)\",\"Manual pelvic examination (procedure)\",\"Fine needle aspiration biopsy of lung (procedure)\",\"Replacement of aortic valve (procedure)\",\"Transesophageal echocardiography (procedure)\",\"Excision of lingual frenum (procedure)\",\"Surgical manipulation of shoulder joint (procedure)\",\"Hematologic disorder medication review (procedure)\",\"Treatment failure risk education (procedure)\",\"Treatment side effects education (procedure)\",\"Pre-operative chemotherapy (procedure)\",\"Autologous bone marrow transplant (procedure)\",\"Methotrexate injection into tubal pregnancy (procedure)\",\"Opening of chest (procedure)\",\"Social case work (regime\\u002ftherapy)\",\"Emergency coronary artery bypass graft (procedure)\",\"Excision of lingual torus (procedure)\",\"Admission to trauma surgery department (procedure)\",\"Comprehensive metabolic panel (procedure)\",\"Evaluation of psychiatric state of patient (procedure)\",\"Hospital admission  short-term  24 hours (procedure)\",\"Psychiatric follow-up (procedure)\",\"Referral for laboratory tests (procedure)\",\"Lab findings education  guidance  and counseling (procedure)\",\"Discussion about treatment (procedure)\",\"Evaluating response to treatment (procedure)\",\"Treatment changed (situation)\",\"Excision of breast tissue (procedure)\",\"Mental health screening (procedure)\",\"Suicide risk assessment (procedure)\",\"Total replacement of hip (procedure)\",\"Lung volume reduction surgery (procedure)\",\"Spontaneous breech delivery (procedure)\",\"Screening mammography (procedure)\",\"Prosthetic total arthroplasty of knee joint (procedure)\",\"External beam radiation therapy procedure (procedure)\",\"Direct current cardioversion (procedure)\",\"Ultrasonography of abdomen  right upper quadrant and epigastrium (procedure)\",\"Cholecystectomy (procedure)\",\"Cardioassist by aortic balloon pump (procedure)\",\"Hemodialysis (procedure)\",\"Microbial culture (procedure)\",\"Patient informed - test result (situation)\",\"Referral to palliative care service (procedure)\"],\"line\":{\"color\":\"black\",\"width\":0.5},\"pad\":10,\"thickness\":20},\"type\":\"sankey\"}],                        {\"template\":{\"data\":{\"histogram2dcontour\":[{\"type\":\"histogram2dcontour\",\"colorbar\":{\"outlinewidth\":0,\"ticks\":\"\"},\"colorscale\":[[0.0,\"#0d0887\"],[0.1111111111111111,\"#46039f\"],[0.2222222222222222,\"#7201a8\"],[0.3333333333333333,\"#9c179e\"],[0.4444444444444444,\"#bd3786\"],[0.5555555555555556,\"#d8576b\"],[0.6666666666666666,\"#ed7953\"],[0.7777777777777778,\"#fb9f3a\"],[0.8888888888888888,\"#fdca26\"],[1.0,\"#f0f921\"]]}],\"choropleth\":[{\"type\":\"choropleth\",\"colorbar\":{\"outlinewidth\":0,\"ticks\":\"\"}}],\"histogram2d\":[{\"type\":\"histogram2d\",\"colorbar\":{\"outlinewidth\":0,\"ticks\":\"\"},\"colorscale\":[[0.0,\"#0d0887\"],[0.1111111111111111,\"#46039f\"],[0.2222222222222222,\"#7201a8\"],[0.3333333333333333,\"#9c179e\"],[0.4444444444444444,\"#bd3786\"],[0.5555555555555556,\"#d8576b\"],[0.6666666666666666,\"#ed7953\"],[0.7777777777777778,\"#fb9f3a\"],[0.8888888888888888,\"#fdca26\"],[1.0,\"#f0f921\"]]}],\"heatmap\":[{\"type\":\"heatmap\",\"colorbar\":{\"outlinewidth\":0,\"ticks\":\"\"},\"colorscale\":[[0.0,\"#0d0887\"],[0.1111111111111111,\"#46039f\"],[0.2222222222222222,\"#7201a8\"],[0.3333333333333333,\"#9c179e\"],[0.4444444444444444,\"#bd3786\"],[0.5555555555555556,\"#d8576b\"],[0.6666666666666666,\"#ed7953\"],[0.7777777777777778,\"#fb9f3a\"],[0.8888888888888888,\"#fdca26\"],[1.0,\"#f0f921\"]]}],\"heatmapgl\":[{\"type\":\"heatmapgl\",\"colorbar\":{\"outlinewidth\":0,\"ticks\":\"\"},\"colorscale\":[[0.0,\"#0d0887\"],[0.1111111111111111,\"#46039f\"],[0.2222222222222222,\"#7201a8\"],[0.3333333333333333,\"#9c179e\"],[0.4444444444444444,\"#bd3786\"],[0.5555555555555556,\"#d8576b\"],[0.6666666666666666,\"#ed7953\"],[0.7777777777777778,\"#fb9f3a\"],[0.8888888888888888,\"#fdca26\"],[1.0,\"#f0f921\"]]}],\"contourcarpet\":[{\"type\":\"contourcarpet\",\"colorbar\":{\"outlinewidth\":0,\"ticks\":\"\"}}],\"contour\":[{\"type\":\"contour\",\"colorbar\":{\"outlinewidth\":0,\"ticks\":\"\"},\"colorscale\":[[0.0,\"#0d0887\"],[0.1111111111111111,\"#46039f\"],[0.2222222222222222,\"#7201a8\"],[0.3333333333333333,\"#9c179e\"],[0.4444444444444444,\"#bd3786\"],[0.5555555555555556,\"#d8576b\"],[0.6666666666666666,\"#ed7953\"],[0.7777777777777778,\"#fb9f3a\"],[0.8888888888888888,\"#fdca26\"],[1.0,\"#f0f921\"]]}],\"surface\":[{\"type\":\"surface\",\"colorbar\":{\"outlinewidth\":0,\"ticks\":\"\"},\"colorscale\":[[0.0,\"#0d0887\"],[0.1111111111111111,\"#46039f\"],[0.2222222222222222,\"#7201a8\"],[0.3333333333333333,\"#9c179e\"],[0.4444444444444444,\"#bd3786\"],[0.5555555555555556,\"#d8576b\"],[0.6666666666666666,\"#ed7953\"],[0.7777777777777778,\"#fb9f3a\"],[0.8888888888888888,\"#fdca26\"],[1.0,\"#f0f921\"]]}],\"mesh3d\":[{\"type\":\"mesh3d\",\"colorbar\":{\"outlinewidth\":0,\"ticks\":\"\"}}],\"scatter\":[{\"marker\":{\"line\":{\"color\":\"#283442\"}},\"type\":\"scatter\"}],\"parcoords\":[{\"type\":\"parcoords\",\"line\":{\"colorbar\":{\"outlinewidth\":0,\"ticks\":\"\"}}}],\"scatterpolargl\":[{\"type\":\"scatterpolargl\",\"marker\":{\"colorbar\":{\"outlinewidth\":0,\"ticks\":\"\"}}}],\"bar\":[{\"error_x\":{\"color\":\"#f2f5fa\"},\"error_y\":{\"color\":\"#f2f5fa\"},\"marker\":{\"line\":{\"color\":\"rgb(17,17,17)\",\"width\":0.5},\"pattern\":{\"fillmode\":\"overlay\",\"size\":10,\"solidity\":0.2}},\"type\":\"bar\"}],\"scattergeo\":[{\"type\":\"scattergeo\",\"marker\":{\"colorbar\":{\"outlinewidth\":0,\"ticks\":\"\"}}}],\"scatterpolar\":[{\"type\":\"scatterpolar\",\"marker\":{\"colorbar\":{\"outlinewidth\":0,\"ticks\":\"\"}}}],\"histogram\":[{\"marker\":{\"pattern\":{\"fillmode\":\"overlay\",\"size\":10,\"solidity\":0.2}},\"type\":\"histogram\"}],\"scattergl\":[{\"marker\":{\"line\":{\"color\":\"#283442\"}},\"type\":\"scattergl\"}],\"scatter3d\":[{\"type\":\"scatter3d\",\"line\":{\"colorbar\":{\"outlinewidth\":0,\"ticks\":\"\"}},\"marker\":{\"colorbar\":{\"outlinewidth\":0,\"ticks\":\"\"}}}],\"scattermapbox\":[{\"type\":\"scattermapbox\",\"marker\":{\"colorbar\":{\"outlinewidth\":0,\"ticks\":\"\"}}}],\"scatterternary\":[{\"type\":\"scatterternary\",\"marker\":{\"colorbar\":{\"outlinewidth\":0,\"ticks\":\"\"}}}],\"scattercarpet\":[{\"type\":\"scattercarpet\",\"marker\":{\"colorbar\":{\"outlinewidth\":0,\"ticks\":\"\"}}}],\"carpet\":[{\"aaxis\":{\"endlinecolor\":\"#A2B1C6\",\"gridcolor\":\"#506784\",\"linecolor\":\"#506784\",\"minorgridcolor\":\"#506784\",\"startlinecolor\":\"#A2B1C6\"},\"baxis\":{\"endlinecolor\":\"#A2B1C6\",\"gridcolor\":\"#506784\",\"linecolor\":\"#506784\",\"minorgridcolor\":\"#506784\",\"startlinecolor\":\"#A2B1C6\"},\"type\":\"carpet\"}],\"table\":[{\"cells\":{\"fill\":{\"color\":\"#506784\"},\"line\":{\"color\":\"rgb(17,17,17)\"}},\"header\":{\"fill\":{\"color\":\"#2a3f5f\"},\"line\":{\"color\":\"rgb(17,17,17)\"}},\"type\":\"table\"}],\"barpolar\":[{\"marker\":{\"line\":{\"color\":\"rgb(17,17,17)\",\"width\":0.5},\"pattern\":{\"fillmode\":\"overlay\",\"size\":10,\"solidity\":0.2}},\"type\":\"barpolar\"}],\"pie\":[{\"automargin\":true,\"type\":\"pie\"}]},\"layout\":{\"autotypenumbers\":\"strict\",\"colorway\":[\"#636efa\",\"#EF553B\",\"#00cc96\",\"#ab63fa\",\"#FFA15A\",\"#19d3f3\",\"#FF6692\",\"#B6E880\",\"#FF97FF\",\"#FECB52\"],\"font\":{\"color\":\"#f2f5fa\"},\"hovermode\":\"closest\",\"hoverlabel\":{\"align\":\"left\"},\"paper_bgcolor\":\"rgb(17,17,17)\",\"plot_bgcolor\":\"rgb(17,17,17)\",\"polar\":{\"bgcolor\":\"rgb(17,17,17)\",\"angularaxis\":{\"gridcolor\":\"#506784\",\"linecolor\":\"#506784\",\"ticks\":\"\"},\"radialaxis\":{\"gridcolor\":\"#506784\",\"linecolor\":\"#506784\",\"ticks\":\"\"}},\"ternary\":{\"bgcolor\":\"rgb(17,17,17)\",\"aaxis\":{\"gridcolor\":\"#506784\",\"linecolor\":\"#506784\",\"ticks\":\"\"},\"baxis\":{\"gridcolor\":\"#506784\",\"linecolor\":\"#506784\",\"ticks\":\"\"},\"caxis\":{\"gridcolor\":\"#506784\",\"linecolor\":\"#506784\",\"ticks\":\"\"}},\"coloraxis\":{\"colorbar\":{\"outlinewidth\":0,\"ticks\":\"\"}},\"colorscale\":{\"sequential\":[[0.0,\"#0d0887\"],[0.1111111111111111,\"#46039f\"],[0.2222222222222222,\"#7201a8\"],[0.3333333333333333,\"#9c179e\"],[0.4444444444444444,\"#bd3786\"],[0.5555555555555556,\"#d8576b\"],[0.6666666666666666,\"#ed7953\"],[0.7777777777777778,\"#fb9f3a\"],[0.8888888888888888,\"#fdca26\"],[1.0,\"#f0f921\"]],\"sequentialminus\":[[0.0,\"#0d0887\"],[0.1111111111111111,\"#46039f\"],[0.2222222222222222,\"#7201a8\"],[0.3333333333333333,\"#9c179e\"],[0.4444444444444444,\"#bd3786\"],[0.5555555555555556,\"#d8576b\"],[0.6666666666666666,\"#ed7953\"],[0.7777777777777778,\"#fb9f3a\"],[0.8888888888888888,\"#fdca26\"],[1.0,\"#f0f921\"]],\"diverging\":[[0,\"#8e0152\"],[0.1,\"#c51b7d\"],[0.2,\"#de77ae\"],[0.3,\"#f1b6da\"],[0.4,\"#fde0ef\"],[0.5,\"#f7f7f7\"],[0.6,\"#e6f5d0\"],[0.7,\"#b8e186\"],[0.8,\"#7fbc41\"],[0.9,\"#4d9221\"],[1,\"#276419\"]]},\"xaxis\":{\"gridcolor\":\"#283442\",\"linecolor\":\"#506784\",\"ticks\":\"\",\"title\":{\"standoff\":15},\"zerolinecolor\":\"#283442\",\"automargin\":true,\"zerolinewidth\":2},\"yaxis\":{\"gridcolor\":\"#283442\",\"linecolor\":\"#506784\",\"ticks\":\"\",\"title\":{\"standoff\":15},\"zerolinecolor\":\"#283442\",\"automargin\":true,\"zerolinewidth\":2},\"scene\":{\"xaxis\":{\"backgroundcolor\":\"rgb(17,17,17)\",\"gridcolor\":\"#506784\",\"linecolor\":\"#506784\",\"showbackground\":true,\"ticks\":\"\",\"zerolinecolor\":\"#C8D4E3\",\"gridwidth\":2},\"yaxis\":{\"backgroundcolor\":\"rgb(17,17,17)\",\"gridcolor\":\"#506784\",\"linecolor\":\"#506784\",\"showbackground\":true,\"ticks\":\"\",\"zerolinecolor\":\"#C8D4E3\",\"gridwidth\":2},\"zaxis\":{\"backgroundcolor\":\"rgb(17,17,17)\",\"gridcolor\":\"#506784\",\"linecolor\":\"#506784\",\"showbackground\":true,\"ticks\":\"\",\"zerolinecolor\":\"#C8D4E3\",\"gridwidth\":2}},\"shapedefaults\":{\"line\":{\"color\":\"#f2f5fa\"}},\"annotationdefaults\":{\"arrowcolor\":\"#f2f5fa\",\"arrowhead\":0,\"arrowwidth\":1},\"geo\":{\"bgcolor\":\"rgb(17,17,17)\",\"landcolor\":\"rgb(17,17,17)\",\"subunitcolor\":\"#506784\",\"showland\":true,\"showlakes\":true,\"lakecolor\":\"rgb(17,17,17)\"},\"title\":{\"x\":0.05},\"updatemenudefaults\":{\"bgcolor\":\"#506784\",\"borderwidth\":0},\"sliderdefaults\":{\"bgcolor\":\"#C8D4E3\",\"borderwidth\":1,\"bordercolor\":\"rgb(17,17,17)\",\"tickwidth\":0},\"mapbox\":{\"style\":\"dark\"}}},\"title\":{\"text\":\"Cohort 22 Patient Journeys Sankey Diagram\"},\"font\":{\"size\":10},\"height\":700,\"width\":1200},                        {\"responsive\": true}                    ).then(function(){\n",
       "                            \n",
       "var gd = document.getElementById('a07602be-3c8d-4b62-9608-fd28b42c76c9');\n",
       "var x = new MutationObserver(function (mutations, observer) {{\n",
       "        var display = window.getComputedStyle(gd).display;\n",
       "        if (!display || display === 'none') {{\n",
       "            console.log([gd, 'removed!']);\n",
       "            Plotly.purge(gd);\n",
       "            observer.disconnect();\n",
       "        }}\n",
       "}});\n",
       "\n",
       "// Listen for the removal of the full notebook cells\n",
       "var notebookContainer = gd.closest('#notebook-container');\n",
       "if (notebookContainer) {{\n",
       "    x.observe(notebookContainer, {childList: true});\n",
       "}}\n",
       "\n",
       "// Listen for the clearing of the current output cell\n",
       "var outputEl = gd.closest('.output');\n",
       "if (outputEl) {{\n",
       "    x.observe(outputEl, {childList: true});\n",
       "}}\n",
       "\n",
       "                        })                };                });            </script>        </div>"
      ]
     },
     "metadata": {},
     "output_type": "display_data"
    }
   ],
   "source": [
    "make_sankey(cohort=22)"
   ]
  },
  {
   "cell_type": "code",
   "execution_count": 17,
   "id": "7421d55a-04a9-4bd8-9c52-c087aa8aa815",
   "metadata": {
    "ExecuteTime": {
     "end_time": "2024-11-19T20:58:25.807356Z",
     "start_time": "2024-11-19T20:58:25.800273Z"
    },
    "collapsed": false,
    "jupyter": {
     "outputs_hidden": false
    },
    "language": "python",
    "name": "cell14",
    "resultHeight": 739
   },
   "outputs": [
    {
     "data": {
      "application/vnd.plotly.v1+json": {
       "config": {
        "plotlyServerURL": "https://plot.ly"
       },
       "data": [
        {
         "link": {
          "source": [
           0,
           114,
           1,
           64,
           115,
           56,
           0,
           67,
           64
          ],
          "target": [
           1,
           56,
           114,
           67,
           64,
           115,
           0,
           0,
           0
          ],
          "value": [
           16,
           15,
           15,
           15,
           14,
           13,
           9,
           3,
           2
          ]
         },
         "node": {
          "color": "blue",
          "label": [
           "Standard pregnancy test (procedure)",
           "Ultrasound scan for fetal viability (procedure)",
           "Evaluation of uterine fundal height (procedure)",
           "Auscultation of the fetal heart (procedure)",
           "Blood group typing (procedure)",
           "Hemogram  automated  with red blood cells  white blood cells  hemoglobin  hematocrit  indices  platelet count  and manual white blood cell differential (procedure)",
           "Hepatitis B surface antigen measurement (procedure)",
           "Human immunodeficiency virus antigen test (procedure)",
           "Chlamydia antigen test (procedure)",
           "Gonorrhea infection titer test (procedure)",
           "Syphilis infectious titer test (procedure)",
           "Urine culture (procedure)",
           "Hepatitis C antibody  confirmatory test (procedure)",
           "Rubella screening test (procedure)",
           "Measurement of Varicella-zoster virus antibody (procedure)",
           "Urine protein test",
           "Fetal anatomy study (procedure)",
           "Antenatal RhD antibody screening (procedure)",
           "Passive immunization (procedure)",
           "Augmentation of labor (procedure)",
           "Removal of subgingival plaque and calculus from all teeth using dental instrument (procedure)",
           "Examination of gingivae (procedure)",
           "Assessment of anxiety (procedure)",
           "Dental fluoride treatment (procedure)",
           "Health risks education (procedure)",
           "History taking (procedure)",
           "Postoperative care for dental procedure (regime/therapy)",
           "Serum metabolic panel (procedure)",
           "Development of individualized plan of care (procedure)",
           "Cytopathology procedure  preparation of smear  genital source (procedure)",
           "Skin test for tuberculosis  Tine test (procedure)",
           "Streptococcus pneumoniae group B antigen assay (procedure)",
           "Oral health education (procedure)",
           "Discussion about signs and symptoms (procedure)",
           "Evaluation procedure (procedure)",
           "Discussion about pregnancy (procedure)",
           "Urinalysis with reflex to microscopy and culture (procedure)",
           "Triage: emergency center (procedure)",
           "History and physical examination with evaluation and management of patient (procedure)",
           "Complete blood count (procedure)",
           "Speech and language therapy regime (regime/therapy)",
           "Throat culture (procedure)",
           "Removal of supragingival plaque and calculus from all teeth using dental instrument (procedure)",
           "Patient discharge (procedure)",
           "Insertion of intrauterine contraceptive device (procedure)",
           "History AND physical examination (procedure)",
           "Nursing care/supplementary surveillance (regime/therapy)",
           "Professional / ancillary services care (regime/therapy)",
           "Simple extraction of tooth (procedure)",
           "Plain X-ray of knee region (procedure)",
           "Postoperative care (regime/therapy)",
           "Assessment using New York Heart Association Classification (procedure)",
           "Placing subject in prone position (procedure)",
           "Plain X-ray of chest (procedure)",
           "Telemedicine consultation with patient (procedure)",
           "Electroencephalogram (procedure)",
           "Induced termination of pregnancy (procedure)",
           "Bone density scan (procedure)",
           "Transplantation of kidney regime (regime/therapy)",
           "Medical induction of labor (procedure)",
           "Pre-surgery testing (procedure)",
           "Insertion of catheter into artery (procedure)",
           "Psychosocial care (regime/therapy)",
           "Urine screening test for diabetes (procedure)",
           "Physical examination procedure (procedure)",
           "Detection of chromosomal aneuploidy in prenatal amniotic fluid specimen using fluorescence in situ hybridization screening technique (procedure)",
           "Urine screening for glucose (procedure)",
           "Depression screening (procedure)",
           "Dental consultation and report (procedure)",
           "Dental application of desensitizing medicament (procedure)",
           "Initial patient assessment (procedure)",
           "Discharge from hospital (procedure)",
           "Alpha-fetoprotein test - antenatal (procedure)",
           "Administration of vaccine product containing only Bordetella pertussis and Clostridium tetani and Corynebacterium diphtheriae antigens (procedure)",
           "Childbirth",
           "Assessment using Car  Relax  Alone  Forget  Friends  Trouble Screening Test (procedure)",
           "Patient referral for dental care (procedure)",
           "Dental care (regime/therapy)",
           "Dental plain X-ray bitewing (procedure)",
           "Assessment of health and social care needs (procedure)",
           "History and physical examination  limited (procedure)",
           "Urine specimen collection (procedure)",
           "Antibiotic therapy (procedure)",
           "Measurement of respiratory function (procedure)",
           "Assessment using Alcohol Use Disorders Identification Test - Consumption (procedure)",
           "Insertion of subcutaneous contraceptive (procedure)",
           "Bone immobilization (procedure)",
           "Application of composite dental filling material to dentin of tooth following fracture of tooth (procedure)",
           "Taking patient vital signs (procedure)",
           "Screening for drug abuse (procedure)",
           "Plain X-ray of wrist region (procedure)",
           "Restoration of tooth with coverage of all cusps using dental filling material (procedure)",
           "Sputum examination (procedure)",
           "Colonoscopy (procedure)",
           "Intramuscular injection (procedure)",
           "Information gathering (procedure)",
           "Screening for occult blood in feces (procedure)",
           "Rectal polypectomy (procedure)",
           "Surgical manipulation of joint of knee (procedure)",
           "Care regimes assessment (procedure)",
           "Premature birth of newborn (finding)",
           "Electrocardiographic procedure (procedure)",
           "Oxygen administration by mask (procedure)",
           "Face mask (physical object)",
           "Brief general examination (procedure)",
           "Take oral or dental impression (procedure)",
           "Fitting of denture (procedure)",
           "Tooth socket procedure (procedure)",
           "Removal of subcutaneous contraceptive (procedure)",
           "Excision of fallopian tube and surgical removal of ectopic pregnancy (procedure)",
           "Subcutaneous immunotherapy (procedure)",
           "Cesarean section (procedure)",
           "Review of systems (procedure)",
           "Referral for further care (procedure)",
           "Counseling for termination of pregnancy (procedure)",
           "Pregnancy termination care (regime/therapy)",
           "Instrumental delivery (procedure)",
           "Ligation of bilateral fallopian tubes (procedure)",
           "Certification procedure (procedure)",
           "Notifications (procedure)",
           "Exercise class (regime/therapy)",
           "Admission to orthopedic department (procedure)",
           "Consultation for treatment (procedure)",
           "Intravenous blood transfusion of packed cells (procedure)",
           "Assessment of cardiac status using monitoring device (procedure)",
           "Transthoracic echocardiography (procedure)",
           "Monitoring of patient (regime/therapy)",
           "Rehabilitation therapy (regime/therapy)",
           "Admission to intensive care unit (procedure)",
           "Renal disorder medication review (procedure)",
           "Grafting of periodontal bone defect (procedure)",
           "Digital examination of rectum (procedure)",
           "Biopsy of prostate (procedure)",
           "Suture open wound (procedure)",
           "Coordination of care plan (procedure)",
           "Biopsy of colon (procedure)",
           "Catheter ablation of tissue of heart (procedure)",
           "Injection of tetanus antitoxin (procedure)",
           "Computed tomography of head (procedure)",
           "Continuous subcutaneous infusion of insulin (procedure)",
           "Administration of anesthesia for procedure (procedure)",
           "Pulmonary catheterization with Swan-Ganz catheter (procedure)",
           "Cannulation (procedure)",
           "Median sternotomy (procedure)",
           "Vascular cannula removal (procedure)",
           "Cognitive and behavioral therapy (regime/therapy)",
           "Removal of endotracheal tube (procedure)",
           "Discharge to ward (procedure)",
           "Discussion about options (procedure)",
           "Chemotherapy (procedure)",
           "Transfusion of fresh frozen plasma (procedure)",
           "Venereal disease screening (procedure)",
           "Education  guidance and counseling (procedure)",
           "Off-pump coronary artery bypass (procedure)",
           "Admission to long stay hospital (procedure)",
           "Human immunodeficiency virus viral load (procedure)",
           "Artificial ventilation (regime/therapy)",
           "Sputum microscopy (procedure)",
           "Closed reduction of dislocation of temporomandibular joint (procedure)",
           "Oral examination (procedure)",
           "Operative procedure planned (situation)",
           "Medical records review (procedure)",
           "Assessment using Canadian Study of Health and Aging Clinical Frailty Scale (procedure)",
           "Assessment using health assessment questionnaire (procedure)",
           "Medication reconciliation (procedure)",
           "Screening for domestic abuse (procedure)",
           "Gingivectomy or gingivoplasty  per tooth (procedure)",
           "Depression screening using Patient Health Questionnaire Nine Item score (procedure)",
           "Assessment of substance use (procedure)",
           "Dental surgical procedure (procedure)",
           "Occupational therapy (regime/therapy)",
           "Pre-discharge assessment (procedure)",
           "Plain X-ray of humerus (procedure)",
           "Excision of appendix (procedure)",
           "Physical therapy procedure (regime/therapy)",
           "Echocardiography (procedure)",
           "Episiotomy (procedure)",
           "Peripheral blood smear interpretation (procedure)",
           "Vasectomy (procedure)",
           "Allergy screening test (procedure)",
           "Epidural anesthesia (procedure)",
           "Injection of epinephrine (procedure)",
           "Sterilization education (procedure)",
           "Assessment using Morse Fall Scale (procedure)",
           "Hospice care (regime/therapy)",
           "Renal dialysis (procedure)",
           "Referral to transplant surgeon (procedure)",
           "Kitchen practice (regime/therapy)",
           "Plain X-ray of clavicle (procedure)",
           "Angiography of coronary artery (procedure)",
           "Percutaneous coronary intervention (procedure)",
           "Post anesthesia care management (procedure)",
           "Combined chemotherapy and radiation therapy (procedure)",
           "Mammography (procedure)",
           "Laboratory test (procedure)",
           "Diagnostic assessment (procedure)",
           "Asthma screening (procedure)",
           "Resuscitation using intravenous fluid (procedure)",
           "Referral to sleep apnea clinic (procedure)",
           "Sleep apnea monitoring with alarm (regime/therapy)",
           "Pretransplant evaluation of kidney recipient (procedure)",
           "Transplant of kidney (procedure)",
           "Excision of maxillary torus palatinus (procedure)",
           "Transfer to stepdown unit (procedure)",
           "Sleep apnea assessment (procedure)",
           "Percutaneous mechanical thrombectomy of portal vein using fluoroscopic guidance with contrast (procedure)",
           "Referral to home health care service (procedure)",
           "Comprehensive interview and evaluation (procedure)",
           "Partial resection of colon (procedure)",
           "Nasal sinus endoscopy (procedure)",
           "Doppler ultrasonography of artery (procedure)",
           "Notification of treatment plan (procedure)",
           "Scheduling (procedure)",
           "Preparation of patient for procedure (regime/therapy)",
           "Cardiopulmonary bypass operation (procedure)",
           "Placement of aortic cross clamp (procedure)",
           "Induced cardioplegia (procedure)",
           "Coronary artery bypass grafting (procedure)",
           "Removal of aortic cross clamp (procedure)",
           "Documentation procedure (procedure)",
           "Postoperative procedure education (procedure)",
           "Walking exercise test (procedure)",
           "Stair-climbing test (procedure)",
           "Continuous positive airway pressure titration (procedure)",
           "Spirometry (procedure)",
           "Pulmonary rehabilitation (regime/therapy)",
           "Mammogram - symptomatic (procedure)",
           "Ultrasonography of bilateral breasts (procedure)",
           "Biopsy of breast (procedure)",
           "Human epidermal growth factor receptor 2 gene detection by fluorescence in situ hybridization (procedure)",
           "Human epidermal growth factor receptor 2 gene detection by immunohistochemistry (procedure)",
           "Sentinel lymph node biopsy (procedure)",
           "Excision of sentinel lymph node (procedure)",
           "Lumpectomy of breast (procedure)",
           "Intravenous injection (procedure)",
           "Human immunodeficiency virus screening (procedure)",
           "Human immunodeficiency virus counseling (procedure)",
           "Patient referral (procedure)",
           "Viral hepatitis screening test (procedure)",
           "Hepatitis B screening (procedure)",
           "Hepatitis C screening (procedure)",
           "Serologic test for Toxoplasma gondii (procedure)",
           "Assessment of social support (procedure)",
           "Assessment of readiness for disclosure of health status (procedure)",
           "Assessment of readiness for self-management (procedure)",
           "Complete blood count with white cell differential  automated (procedure)",
           "Extraction of wisdom tooth (procedure)",
           "Admission to burn unit (procedure)",
           "Movement therapy (regime/therapy)",
           "Plain X-ray of pelvis (procedure)",
           "Risk assessment (procedure)",
           "Referral to service (procedure)",
           "Insertion of endotracheal tube (procedure)",
           "Assist control ventilation (regime/therapy)",
           "Weaning from mechanically assisted ventilation (regime/therapy)",
           "Computed tomography of chest and abdomen (procedure)",
           "Magnetic resonance imaging for measurement of brain volume (procedure)",
           "Hearing examination (procedure)",
           "Radiography of mandible (procedure)",
           "Posttreatment stabilization  orthodontic device (procedure)",
           "Range of motion testing (procedure)",
           "Closed reduction of mandibular fracture (procedure)",
           "Referral for echocardiography (procedure)",
           "Imaging finding (finding)",
           "Liaising with referral source (procedure)",
           "Computed tomography of chest  abdomen and pelvis (procedure)",
           "Referral to dentist (procedure)",
           "Simple walk test (procedure)",
           "Multidisciplinary assessment (procedure)",
           "Anticipatory guidance (procedure)",
           "Removal of intrauterine contraceptive device (procedure)",
           "Referral to cardiology service (procedure)",
           "Replacement of contraceptive intrauterine device (procedure)",
           "Physical examination  complete (procedure)",
           "Plain X-ray of ankle region (procedure)",
           "Referral to cardiac surgery service (procedure)",
           "Intubation (procedure)",
           "Transfusion of packed red blood cells (procedure)",
           "Hepatitis antibody test (procedure)",
           "Tuberculosis screening (procedure)",
           "Absolute CD4 count procedure (procedure)",
           "Care planning and problem solving actions (procedure)",
           "Determination of susceptibility of Human immunodeficiency virus 1 to panel of antiretroviral drugs using genotypic technique (procedure)",
           "High resolution computed tomography of chest without contrast (procedure)",
           "Heart failure education (procedure)",
           "Intraoperative care (regime/therapy)",
           "Administration of anesthesia AND/OR sedation (procedure)",
           "Incision (procedure)",
           "Transcatheter aortic valve implantation (procedure)",
           "Application of dressing  sterile (procedure)",
           "Patient transfer  in-hospital (procedure)",
           "Transfusion of red blood cells (procedure)",
           "12 lead electrocardiogram (procedure)",
           "Admission to ward (procedure)",
           "Referral to hypertension clinic (procedure)",
           "Cardiovascular stress testing (procedure)",
           "Platelet transfusion (procedure)",
           "Home health aide service (regime/therapy)",
           "Transplant of lung (procedure)",
           "Close observation (regime/therapy)",
           "Prostatectomy (procedure)",
           "Thoracentesis (procedure)",
           "Manual pelvic examination (procedure)",
           "Fine needle aspiration biopsy of lung (procedure)",
           "Replacement of aortic valve (procedure)",
           "Transesophageal echocardiography (procedure)",
           "Excision of lingual frenum (procedure)",
           "Surgical manipulation of shoulder joint (procedure)",
           "Hematologic disorder medication review (procedure)",
           "Treatment failure risk education (procedure)",
           "Treatment side effects education (procedure)",
           "Pre-operative chemotherapy (procedure)",
           "Autologous bone marrow transplant (procedure)",
           "Methotrexate injection into tubal pregnancy (procedure)",
           "Opening of chest (procedure)",
           "Social case work (regime/therapy)",
           "Emergency coronary artery bypass graft (procedure)",
           "Excision of lingual torus (procedure)",
           "Admission to trauma surgery department (procedure)",
           "Comprehensive metabolic panel (procedure)",
           "Evaluation of psychiatric state of patient (procedure)",
           "Hospital admission  short-term  24 hours (procedure)",
           "Psychiatric follow-up (procedure)",
           "Referral for laboratory tests (procedure)",
           "Lab findings education  guidance  and counseling (procedure)",
           "Discussion about treatment (procedure)",
           "Evaluating response to treatment (procedure)",
           "Treatment changed (situation)",
           "Excision of breast tissue (procedure)",
           "Mental health screening (procedure)",
           "Suicide risk assessment (procedure)",
           "Total replacement of hip (procedure)",
           "Lung volume reduction surgery (procedure)",
           "Spontaneous breech delivery (procedure)",
           "Screening mammography (procedure)",
           "Prosthetic total arthroplasty of knee joint (procedure)",
           "External beam radiation therapy procedure (procedure)",
           "Direct current cardioversion (procedure)",
           "Ultrasonography of abdomen  right upper quadrant and epigastrium (procedure)",
           "Cholecystectomy (procedure)",
           "Cardioassist by aortic balloon pump (procedure)",
           "Hemodialysis (procedure)",
           "Microbial culture (procedure)",
           "Patient informed - test result (situation)",
           "Referral to palliative care service (procedure)"
          ],
          "line": {
           "color": "black",
           "width": 0.5
          },
          "pad": 10,
          "thickness": 20
         },
         "type": "sankey"
        }
       ],
       "layout": {
        "font": {
         "size": 10
        },
        "height": 700,
        "template": {
         "data": {
          "bar": [
           {
            "error_x": {
             "color": "#f2f5fa"
            },
            "error_y": {
             "color": "#f2f5fa"
            },
            "marker": {
             "line": {
              "color": "rgb(17,17,17)",
              "width": 0.5
             },
             "pattern": {
              "fillmode": "overlay",
              "size": 10,
              "solidity": 0.2
             }
            },
            "type": "bar"
           }
          ],
          "barpolar": [
           {
            "marker": {
             "line": {
              "color": "rgb(17,17,17)",
              "width": 0.5
             },
             "pattern": {
              "fillmode": "overlay",
              "size": 10,
              "solidity": 0.2
             }
            },
            "type": "barpolar"
           }
          ],
          "carpet": [
           {
            "aaxis": {
             "endlinecolor": "#A2B1C6",
             "gridcolor": "#506784",
             "linecolor": "#506784",
             "minorgridcolor": "#506784",
             "startlinecolor": "#A2B1C6"
            },
            "baxis": {
             "endlinecolor": "#A2B1C6",
             "gridcolor": "#506784",
             "linecolor": "#506784",
             "minorgridcolor": "#506784",
             "startlinecolor": "#A2B1C6"
            },
            "type": "carpet"
           }
          ],
          "choropleth": [
           {
            "colorbar": {
             "outlinewidth": 0,
             "ticks": ""
            },
            "type": "choropleth"
           }
          ],
          "contour": [
           {
            "colorbar": {
             "outlinewidth": 0,
             "ticks": ""
            },
            "colorscale": [
             [
              0,
              "#0d0887"
             ],
             [
              0.1111111111111111,
              "#46039f"
             ],
             [
              0.2222222222222222,
              "#7201a8"
             ],
             [
              0.3333333333333333,
              "#9c179e"
             ],
             [
              0.4444444444444444,
              "#bd3786"
             ],
             [
              0.5555555555555556,
              "#d8576b"
             ],
             [
              0.6666666666666666,
              "#ed7953"
             ],
             [
              0.7777777777777778,
              "#fb9f3a"
             ],
             [
              0.8888888888888888,
              "#fdca26"
             ],
             [
              1,
              "#f0f921"
             ]
            ],
            "type": "contour"
           }
          ],
          "contourcarpet": [
           {
            "colorbar": {
             "outlinewidth": 0,
             "ticks": ""
            },
            "type": "contourcarpet"
           }
          ],
          "heatmap": [
           {
            "colorbar": {
             "outlinewidth": 0,
             "ticks": ""
            },
            "colorscale": [
             [
              0,
              "#0d0887"
             ],
             [
              0.1111111111111111,
              "#46039f"
             ],
             [
              0.2222222222222222,
              "#7201a8"
             ],
             [
              0.3333333333333333,
              "#9c179e"
             ],
             [
              0.4444444444444444,
              "#bd3786"
             ],
             [
              0.5555555555555556,
              "#d8576b"
             ],
             [
              0.6666666666666666,
              "#ed7953"
             ],
             [
              0.7777777777777778,
              "#fb9f3a"
             ],
             [
              0.8888888888888888,
              "#fdca26"
             ],
             [
              1,
              "#f0f921"
             ]
            ],
            "type": "heatmap"
           }
          ],
          "heatmapgl": [
           {
            "colorbar": {
             "outlinewidth": 0,
             "ticks": ""
            },
            "colorscale": [
             [
              0,
              "#0d0887"
             ],
             [
              0.1111111111111111,
              "#46039f"
             ],
             [
              0.2222222222222222,
              "#7201a8"
             ],
             [
              0.3333333333333333,
              "#9c179e"
             ],
             [
              0.4444444444444444,
              "#bd3786"
             ],
             [
              0.5555555555555556,
              "#d8576b"
             ],
             [
              0.6666666666666666,
              "#ed7953"
             ],
             [
              0.7777777777777778,
              "#fb9f3a"
             ],
             [
              0.8888888888888888,
              "#fdca26"
             ],
             [
              1,
              "#f0f921"
             ]
            ],
            "type": "heatmapgl"
           }
          ],
          "histogram": [
           {
            "marker": {
             "pattern": {
              "fillmode": "overlay",
              "size": 10,
              "solidity": 0.2
             }
            },
            "type": "histogram"
           }
          ],
          "histogram2d": [
           {
            "colorbar": {
             "outlinewidth": 0,
             "ticks": ""
            },
            "colorscale": [
             [
              0,
              "#0d0887"
             ],
             [
              0.1111111111111111,
              "#46039f"
             ],
             [
              0.2222222222222222,
              "#7201a8"
             ],
             [
              0.3333333333333333,
              "#9c179e"
             ],
             [
              0.4444444444444444,
              "#bd3786"
             ],
             [
              0.5555555555555556,
              "#d8576b"
             ],
             [
              0.6666666666666666,
              "#ed7953"
             ],
             [
              0.7777777777777778,
              "#fb9f3a"
             ],
             [
              0.8888888888888888,
              "#fdca26"
             ],
             [
              1,
              "#f0f921"
             ]
            ],
            "type": "histogram2d"
           }
          ],
          "histogram2dcontour": [
           {
            "colorbar": {
             "outlinewidth": 0,
             "ticks": ""
            },
            "colorscale": [
             [
              0,
              "#0d0887"
             ],
             [
              0.1111111111111111,
              "#46039f"
             ],
             [
              0.2222222222222222,
              "#7201a8"
             ],
             [
              0.3333333333333333,
              "#9c179e"
             ],
             [
              0.4444444444444444,
              "#bd3786"
             ],
             [
              0.5555555555555556,
              "#d8576b"
             ],
             [
              0.6666666666666666,
              "#ed7953"
             ],
             [
              0.7777777777777778,
              "#fb9f3a"
             ],
             [
              0.8888888888888888,
              "#fdca26"
             ],
             [
              1,
              "#f0f921"
             ]
            ],
            "type": "histogram2dcontour"
           }
          ],
          "mesh3d": [
           {
            "colorbar": {
             "outlinewidth": 0,
             "ticks": ""
            },
            "type": "mesh3d"
           }
          ],
          "parcoords": [
           {
            "line": {
             "colorbar": {
              "outlinewidth": 0,
              "ticks": ""
             }
            },
            "type": "parcoords"
           }
          ],
          "pie": [
           {
            "automargin": true,
            "type": "pie"
           }
          ],
          "scatter": [
           {
            "marker": {
             "line": {
              "color": "#283442"
             }
            },
            "type": "scatter"
           }
          ],
          "scatter3d": [
           {
            "line": {
             "colorbar": {
              "outlinewidth": 0,
              "ticks": ""
             }
            },
            "marker": {
             "colorbar": {
              "outlinewidth": 0,
              "ticks": ""
             }
            },
            "type": "scatter3d"
           }
          ],
          "scattercarpet": [
           {
            "marker": {
             "colorbar": {
              "outlinewidth": 0,
              "ticks": ""
             }
            },
            "type": "scattercarpet"
           }
          ],
          "scattergeo": [
           {
            "marker": {
             "colorbar": {
              "outlinewidth": 0,
              "ticks": ""
             }
            },
            "type": "scattergeo"
           }
          ],
          "scattergl": [
           {
            "marker": {
             "line": {
              "color": "#283442"
             }
            },
            "type": "scattergl"
           }
          ],
          "scattermapbox": [
           {
            "marker": {
             "colorbar": {
              "outlinewidth": 0,
              "ticks": ""
             }
            },
            "type": "scattermapbox"
           }
          ],
          "scatterpolar": [
           {
            "marker": {
             "colorbar": {
              "outlinewidth": 0,
              "ticks": ""
             }
            },
            "type": "scatterpolar"
           }
          ],
          "scatterpolargl": [
           {
            "marker": {
             "colorbar": {
              "outlinewidth": 0,
              "ticks": ""
             }
            },
            "type": "scatterpolargl"
           }
          ],
          "scatterternary": [
           {
            "marker": {
             "colorbar": {
              "outlinewidth": 0,
              "ticks": ""
             }
            },
            "type": "scatterternary"
           }
          ],
          "surface": [
           {
            "colorbar": {
             "outlinewidth": 0,
             "ticks": ""
            },
            "colorscale": [
             [
              0,
              "#0d0887"
             ],
             [
              0.1111111111111111,
              "#46039f"
             ],
             [
              0.2222222222222222,
              "#7201a8"
             ],
             [
              0.3333333333333333,
              "#9c179e"
             ],
             [
              0.4444444444444444,
              "#bd3786"
             ],
             [
              0.5555555555555556,
              "#d8576b"
             ],
             [
              0.6666666666666666,
              "#ed7953"
             ],
             [
              0.7777777777777778,
              "#fb9f3a"
             ],
             [
              0.8888888888888888,
              "#fdca26"
             ],
             [
              1,
              "#f0f921"
             ]
            ],
            "type": "surface"
           }
          ],
          "table": [
           {
            "cells": {
             "fill": {
              "color": "#506784"
             },
             "line": {
              "color": "rgb(17,17,17)"
             }
            },
            "header": {
             "fill": {
              "color": "#2a3f5f"
             },
             "line": {
              "color": "rgb(17,17,17)"
             }
            },
            "type": "table"
           }
          ]
         },
         "layout": {
          "annotationdefaults": {
           "arrowcolor": "#f2f5fa",
           "arrowhead": 0,
           "arrowwidth": 1
          },
          "autotypenumbers": "strict",
          "coloraxis": {
           "colorbar": {
            "outlinewidth": 0,
            "ticks": ""
           }
          },
          "colorscale": {
           "diverging": [
            [
             0,
             "#8e0152"
            ],
            [
             0.1,
             "#c51b7d"
            ],
            [
             0.2,
             "#de77ae"
            ],
            [
             0.3,
             "#f1b6da"
            ],
            [
             0.4,
             "#fde0ef"
            ],
            [
             0.5,
             "#f7f7f7"
            ],
            [
             0.6,
             "#e6f5d0"
            ],
            [
             0.7,
             "#b8e186"
            ],
            [
             0.8,
             "#7fbc41"
            ],
            [
             0.9,
             "#4d9221"
            ],
            [
             1,
             "#276419"
            ]
           ],
           "sequential": [
            [
             0,
             "#0d0887"
            ],
            [
             0.1111111111111111,
             "#46039f"
            ],
            [
             0.2222222222222222,
             "#7201a8"
            ],
            [
             0.3333333333333333,
             "#9c179e"
            ],
            [
             0.4444444444444444,
             "#bd3786"
            ],
            [
             0.5555555555555556,
             "#d8576b"
            ],
            [
             0.6666666666666666,
             "#ed7953"
            ],
            [
             0.7777777777777778,
             "#fb9f3a"
            ],
            [
             0.8888888888888888,
             "#fdca26"
            ],
            [
             1,
             "#f0f921"
            ]
           ],
           "sequentialminus": [
            [
             0,
             "#0d0887"
            ],
            [
             0.1111111111111111,
             "#46039f"
            ],
            [
             0.2222222222222222,
             "#7201a8"
            ],
            [
             0.3333333333333333,
             "#9c179e"
            ],
            [
             0.4444444444444444,
             "#bd3786"
            ],
            [
             0.5555555555555556,
             "#d8576b"
            ],
            [
             0.6666666666666666,
             "#ed7953"
            ],
            [
             0.7777777777777778,
             "#fb9f3a"
            ],
            [
             0.8888888888888888,
             "#fdca26"
            ],
            [
             1,
             "#f0f921"
            ]
           ]
          },
          "colorway": [
           "#636efa",
           "#EF553B",
           "#00cc96",
           "#ab63fa",
           "#FFA15A",
           "#19d3f3",
           "#FF6692",
           "#B6E880",
           "#FF97FF",
           "#FECB52"
          ],
          "font": {
           "color": "#f2f5fa"
          },
          "geo": {
           "bgcolor": "rgb(17,17,17)",
           "lakecolor": "rgb(17,17,17)",
           "landcolor": "rgb(17,17,17)",
           "showlakes": true,
           "showland": true,
           "subunitcolor": "#506784"
          },
          "hoverlabel": {
           "align": "left"
          },
          "hovermode": "closest",
          "mapbox": {
           "style": "dark"
          },
          "paper_bgcolor": "rgb(17,17,17)",
          "plot_bgcolor": "rgb(17,17,17)",
          "polar": {
           "angularaxis": {
            "gridcolor": "#506784",
            "linecolor": "#506784",
            "ticks": ""
           },
           "bgcolor": "rgb(17,17,17)",
           "radialaxis": {
            "gridcolor": "#506784",
            "linecolor": "#506784",
            "ticks": ""
           }
          },
          "scene": {
           "xaxis": {
            "backgroundcolor": "rgb(17,17,17)",
            "gridcolor": "#506784",
            "gridwidth": 2,
            "linecolor": "#506784",
            "showbackground": true,
            "ticks": "",
            "zerolinecolor": "#C8D4E3"
           },
           "yaxis": {
            "backgroundcolor": "rgb(17,17,17)",
            "gridcolor": "#506784",
            "gridwidth": 2,
            "linecolor": "#506784",
            "showbackground": true,
            "ticks": "",
            "zerolinecolor": "#C8D4E3"
           },
           "zaxis": {
            "backgroundcolor": "rgb(17,17,17)",
            "gridcolor": "#506784",
            "gridwidth": 2,
            "linecolor": "#506784",
            "showbackground": true,
            "ticks": "",
            "zerolinecolor": "#C8D4E3"
           }
          },
          "shapedefaults": {
           "line": {
            "color": "#f2f5fa"
           }
          },
          "sliderdefaults": {
           "bgcolor": "#C8D4E3",
           "bordercolor": "rgb(17,17,17)",
           "borderwidth": 1,
           "tickwidth": 0
          },
          "ternary": {
           "aaxis": {
            "gridcolor": "#506784",
            "linecolor": "#506784",
            "ticks": ""
           },
           "baxis": {
            "gridcolor": "#506784",
            "linecolor": "#506784",
            "ticks": ""
           },
           "bgcolor": "rgb(17,17,17)",
           "caxis": {
            "gridcolor": "#506784",
            "linecolor": "#506784",
            "ticks": ""
           }
          },
          "title": {
           "x": 0.05
          },
          "updatemenudefaults": {
           "bgcolor": "#506784",
           "borderwidth": 0
          },
          "xaxis": {
           "automargin": true,
           "gridcolor": "#283442",
           "linecolor": "#506784",
           "ticks": "",
           "title": {
            "standoff": 15
           },
           "zerolinecolor": "#283442",
           "zerolinewidth": 2
          },
          "yaxis": {
           "automargin": true,
           "gridcolor": "#283442",
           "linecolor": "#506784",
           "ticks": "",
           "title": {
            "standoff": 15
           },
           "zerolinecolor": "#283442",
           "zerolinewidth": 2
          }
         }
        },
        "title": {
         "text": "Cohort 33 Patient Journeys Sankey Diagram"
        },
        "width": 1200
       }
      },
      "text/html": [
       "<div>                            <div id=\"24939642-9985-4fa3-b70b-fb7c637e4922\" class=\"plotly-graph-div\" style=\"height:700px; width:1200px;\"></div>            <script type=\"text/javascript\">                require([\"plotly\"], function(Plotly) {                    window.PLOTLYENV=window.PLOTLYENV || {};                                    if (document.getElementById(\"24939642-9985-4fa3-b70b-fb7c637e4922\")) {                    Plotly.newPlot(                        \"24939642-9985-4fa3-b70b-fb7c637e4922\",                        [{\"link\":{\"source\":[0,114,1,64,115,56,0,67,64],\"target\":[1,56,114,67,64,115,0,0,0],\"value\":[16,15,15,15,14,13,9,3,2]},\"node\":{\"color\":\"blue\",\"label\":[\"Standard pregnancy test (procedure)\",\"Ultrasound scan for fetal viability (procedure)\",\"Evaluation of uterine fundal height (procedure)\",\"Auscultation of the fetal heart (procedure)\",\"Blood group typing (procedure)\",\"Hemogram  automated  with red blood cells  white blood cells  hemoglobin  hematocrit  indices  platelet count  and manual white blood cell differential (procedure)\",\"Hepatitis B surface antigen measurement (procedure)\",\"Human immunodeficiency virus antigen test (procedure)\",\"Chlamydia antigen test (procedure)\",\"Gonorrhea infection titer test (procedure)\",\"Syphilis infectious titer test (procedure)\",\"Urine culture (procedure)\",\"Hepatitis C antibody  confirmatory test (procedure)\",\"Rubella screening test (procedure)\",\"Measurement of Varicella-zoster virus antibody (procedure)\",\"Urine protein test\",\"Fetal anatomy study (procedure)\",\"Antenatal RhD antibody screening (procedure)\",\"Passive immunization (procedure)\",\"Augmentation of labor (procedure)\",\"Removal of subgingival plaque and calculus from all teeth using dental instrument (procedure)\",\"Examination of gingivae (procedure)\",\"Assessment of anxiety (procedure)\",\"Dental fluoride treatment (procedure)\",\"Health risks education (procedure)\",\"History taking (procedure)\",\"Postoperative care for dental procedure (regime\\u002ftherapy)\",\"Serum metabolic panel (procedure)\",\"Development of individualized plan of care (procedure)\",\"Cytopathology procedure  preparation of smear  genital source (procedure)\",\"Skin test for tuberculosis  Tine test (procedure)\",\"Streptococcus pneumoniae group B antigen assay (procedure)\",\"Oral health education (procedure)\",\"Discussion about signs and symptoms (procedure)\",\"Evaluation procedure (procedure)\",\"Discussion about pregnancy (procedure)\",\"Urinalysis with reflex to microscopy and culture (procedure)\",\"Triage: emergency center (procedure)\",\"History and physical examination with evaluation and management of patient (procedure)\",\"Complete blood count (procedure)\",\"Speech and language therapy regime (regime\\u002ftherapy)\",\"Throat culture (procedure)\",\"Removal of supragingival plaque and calculus from all teeth using dental instrument (procedure)\",\"Patient discharge (procedure)\",\"Insertion of intrauterine contraceptive device (procedure)\",\"History AND physical examination (procedure)\",\"Nursing care\\u002fsupplementary surveillance (regime\\u002ftherapy)\",\"Professional \\u002f ancillary services care (regime\\u002ftherapy)\",\"Simple extraction of tooth (procedure)\",\"Plain X-ray of knee region (procedure)\",\"Postoperative care (regime\\u002ftherapy)\",\"Assessment using New York Heart Association Classification (procedure)\",\"Placing subject in prone position (procedure)\",\"Plain X-ray of chest (procedure)\",\"Telemedicine consultation with patient (procedure)\",\"Electroencephalogram (procedure)\",\"Induced termination of pregnancy (procedure)\",\"Bone density scan (procedure)\",\"Transplantation of kidney regime (regime\\u002ftherapy)\",\"Medical induction of labor (procedure)\",\"Pre-surgery testing (procedure)\",\"Insertion of catheter into artery (procedure)\",\"Psychosocial care (regime\\u002ftherapy)\",\"Urine screening test for diabetes (procedure)\",\"Physical examination procedure (procedure)\",\"Detection of chromosomal aneuploidy in prenatal amniotic fluid specimen using fluorescence in situ hybridization screening technique (procedure)\",\"Urine screening for glucose (procedure)\",\"Depression screening (procedure)\",\"Dental consultation and report (procedure)\",\"Dental application of desensitizing medicament (procedure)\",\"Initial patient assessment (procedure)\",\"Discharge from hospital (procedure)\",\"Alpha-fetoprotein test - antenatal (procedure)\",\"Administration of vaccine product containing only Bordetella pertussis and Clostridium tetani and Corynebacterium diphtheriae antigens (procedure)\",\"Childbirth\",\"Assessment using Car  Relax  Alone  Forget  Friends  Trouble Screening Test (procedure)\",\"Patient referral for dental care (procedure)\",\"Dental care (regime\\u002ftherapy)\",\"Dental plain X-ray bitewing (procedure)\",\"Assessment of health and social care needs (procedure)\",\"History and physical examination  limited (procedure)\",\"Urine specimen collection (procedure)\",\"Antibiotic therapy (procedure)\",\"Measurement of respiratory function (procedure)\",\"Assessment using Alcohol Use Disorders Identification Test - Consumption (procedure)\",\"Insertion of subcutaneous contraceptive (procedure)\",\"Bone immobilization (procedure)\",\"Application of composite dental filling material to dentin of tooth following fracture of tooth (procedure)\",\"Taking patient vital signs (procedure)\",\"Screening for drug abuse (procedure)\",\"Plain X-ray of wrist region (procedure)\",\"Restoration of tooth with coverage of all cusps using dental filling material (procedure)\",\"Sputum examination (procedure)\",\"Colonoscopy (procedure)\",\"Intramuscular injection (procedure)\",\"Information gathering (procedure)\",\"Screening for occult blood in feces (procedure)\",\"Rectal polypectomy (procedure)\",\"Surgical manipulation of joint of knee (procedure)\",\"Care regimes assessment (procedure)\",\"Premature birth of newborn (finding)\",\"Electrocardiographic procedure (procedure)\",\"Oxygen administration by mask (procedure)\",\"Face mask (physical object)\",\"Brief general examination (procedure)\",\"Take oral or dental impression (procedure)\",\"Fitting of denture (procedure)\",\"Tooth socket procedure (procedure)\",\"Removal of subcutaneous contraceptive (procedure)\",\"Excision of fallopian tube and surgical removal of ectopic pregnancy (procedure)\",\"Subcutaneous immunotherapy (procedure)\",\"Cesarean section (procedure)\",\"Review of systems (procedure)\",\"Referral for further care (procedure)\",\"Counseling for termination of pregnancy (procedure)\",\"Pregnancy termination care (regime\\u002ftherapy)\",\"Instrumental delivery (procedure)\",\"Ligation of bilateral fallopian tubes (procedure)\",\"Certification procedure (procedure)\",\"Notifications (procedure)\",\"Exercise class (regime\\u002ftherapy)\",\"Admission to orthopedic department (procedure)\",\"Consultation for treatment (procedure)\",\"Intravenous blood transfusion of packed cells (procedure)\",\"Assessment of cardiac status using monitoring device (procedure)\",\"Transthoracic echocardiography (procedure)\",\"Monitoring of patient (regime\\u002ftherapy)\",\"Rehabilitation therapy (regime\\u002ftherapy)\",\"Admission to intensive care unit (procedure)\",\"Renal disorder medication review (procedure)\",\"Grafting of periodontal bone defect (procedure)\",\"Digital examination of rectum (procedure)\",\"Biopsy of prostate (procedure)\",\"Suture open wound (procedure)\",\"Coordination of care plan (procedure)\",\"Biopsy of colon (procedure)\",\"Catheter ablation of tissue of heart (procedure)\",\"Injection of tetanus antitoxin (procedure)\",\"Computed tomography of head (procedure)\",\"Continuous subcutaneous infusion of insulin (procedure)\",\"Administration of anesthesia for procedure (procedure)\",\"Pulmonary catheterization with Swan-Ganz catheter (procedure)\",\"Cannulation (procedure)\",\"Median sternotomy (procedure)\",\"Vascular cannula removal (procedure)\",\"Cognitive and behavioral therapy (regime\\u002ftherapy)\",\"Removal of endotracheal tube (procedure)\",\"Discharge to ward (procedure)\",\"Discussion about options (procedure)\",\"Chemotherapy (procedure)\",\"Transfusion of fresh frozen plasma (procedure)\",\"Venereal disease screening (procedure)\",\"Education  guidance and counseling (procedure)\",\"Off-pump coronary artery bypass (procedure)\",\"Admission to long stay hospital (procedure)\",\"Human immunodeficiency virus viral load (procedure)\",\"Artificial ventilation (regime\\u002ftherapy)\",\"Sputum microscopy (procedure)\",\"Closed reduction of dislocation of temporomandibular joint (procedure)\",\"Oral examination (procedure)\",\"Operative procedure planned (situation)\",\"Medical records review (procedure)\",\"Assessment using Canadian Study of Health and Aging Clinical Frailty Scale (procedure)\",\"Assessment using health assessment questionnaire (procedure)\",\"Medication reconciliation (procedure)\",\"Screening for domestic abuse (procedure)\",\"Gingivectomy or gingivoplasty  per tooth (procedure)\",\"Depression screening using Patient Health Questionnaire Nine Item score (procedure)\",\"Assessment of substance use (procedure)\",\"Dental surgical procedure (procedure)\",\"Occupational therapy (regime\\u002ftherapy)\",\"Pre-discharge assessment (procedure)\",\"Plain X-ray of humerus (procedure)\",\"Excision of appendix (procedure)\",\"Physical therapy procedure (regime\\u002ftherapy)\",\"Echocardiography (procedure)\",\"Episiotomy (procedure)\",\"Peripheral blood smear interpretation (procedure)\",\"Vasectomy (procedure)\",\"Allergy screening test (procedure)\",\"Epidural anesthesia (procedure)\",\"Injection of epinephrine (procedure)\",\"Sterilization education (procedure)\",\"Assessment using Morse Fall Scale (procedure)\",\"Hospice care (regime\\u002ftherapy)\",\"Renal dialysis (procedure)\",\"Referral to transplant surgeon (procedure)\",\"Kitchen practice (regime\\u002ftherapy)\",\"Plain X-ray of clavicle (procedure)\",\"Angiography of coronary artery (procedure)\",\"Percutaneous coronary intervention (procedure)\",\"Post anesthesia care management (procedure)\",\"Combined chemotherapy and radiation therapy (procedure)\",\"Mammography (procedure)\",\"Laboratory test (procedure)\",\"Diagnostic assessment (procedure)\",\"Asthma screening (procedure)\",\"Resuscitation using intravenous fluid (procedure)\",\"Referral to sleep apnea clinic (procedure)\",\"Sleep apnea monitoring with alarm (regime\\u002ftherapy)\",\"Pretransplant evaluation of kidney recipient (procedure)\",\"Transplant of kidney (procedure)\",\"Excision of maxillary torus palatinus (procedure)\",\"Transfer to stepdown unit (procedure)\",\"Sleep apnea assessment (procedure)\",\"Percutaneous mechanical thrombectomy of portal vein using fluoroscopic guidance with contrast (procedure)\",\"Referral to home health care service (procedure)\",\"Comprehensive interview and evaluation (procedure)\",\"Partial resection of colon (procedure)\",\"Nasal sinus endoscopy (procedure)\",\"Doppler ultrasonography of artery (procedure)\",\"Notification of treatment plan (procedure)\",\"Scheduling (procedure)\",\"Preparation of patient for procedure (regime\\u002ftherapy)\",\"Cardiopulmonary bypass operation (procedure)\",\"Placement of aortic cross clamp (procedure)\",\"Induced cardioplegia (procedure)\",\"Coronary artery bypass grafting (procedure)\",\"Removal of aortic cross clamp (procedure)\",\"Documentation procedure (procedure)\",\"Postoperative procedure education (procedure)\",\"Walking exercise test (procedure)\",\"Stair-climbing test (procedure)\",\"Continuous positive airway pressure titration (procedure)\",\"Spirometry (procedure)\",\"Pulmonary rehabilitation (regime\\u002ftherapy)\",\"Mammogram - symptomatic (procedure)\",\"Ultrasonography of bilateral breasts (procedure)\",\"Biopsy of breast (procedure)\",\"Human epidermal growth factor receptor 2 gene detection by fluorescence in situ hybridization (procedure)\",\"Human epidermal growth factor receptor 2 gene detection by immunohistochemistry (procedure)\",\"Sentinel lymph node biopsy (procedure)\",\"Excision of sentinel lymph node (procedure)\",\"Lumpectomy of breast (procedure)\",\"Intravenous injection (procedure)\",\"Human immunodeficiency virus screening (procedure)\",\"Human immunodeficiency virus counseling (procedure)\",\"Patient referral (procedure)\",\"Viral hepatitis screening test (procedure)\",\"Hepatitis B screening (procedure)\",\"Hepatitis C screening (procedure)\",\"Serologic test for Toxoplasma gondii (procedure)\",\"Assessment of social support (procedure)\",\"Assessment of readiness for disclosure of health status (procedure)\",\"Assessment of readiness for self-management (procedure)\",\"Complete blood count with white cell differential  automated (procedure)\",\"Extraction of wisdom tooth (procedure)\",\"Admission to burn unit (procedure)\",\"Movement therapy (regime\\u002ftherapy)\",\"Plain X-ray of pelvis (procedure)\",\"Risk assessment (procedure)\",\"Referral to service (procedure)\",\"Insertion of endotracheal tube (procedure)\",\"Assist control ventilation (regime\\u002ftherapy)\",\"Weaning from mechanically assisted ventilation (regime\\u002ftherapy)\",\"Computed tomography of chest and abdomen (procedure)\",\"Magnetic resonance imaging for measurement of brain volume (procedure)\",\"Hearing examination (procedure)\",\"Radiography of mandible (procedure)\",\"Posttreatment stabilization  orthodontic device (procedure)\",\"Range of motion testing (procedure)\",\"Closed reduction of mandibular fracture (procedure)\",\"Referral for echocardiography (procedure)\",\"Imaging finding (finding)\",\"Liaising with referral source (procedure)\",\"Computed tomography of chest  abdomen and pelvis (procedure)\",\"Referral to dentist (procedure)\",\"Simple walk test (procedure)\",\"Multidisciplinary assessment (procedure)\",\"Anticipatory guidance (procedure)\",\"Removal of intrauterine contraceptive device (procedure)\",\"Referral to cardiology service (procedure)\",\"Replacement of contraceptive intrauterine device (procedure)\",\"Physical examination  complete (procedure)\",\"Plain X-ray of ankle region (procedure)\",\"Referral to cardiac surgery service (procedure)\",\"Intubation (procedure)\",\"Transfusion of packed red blood cells (procedure)\",\"Hepatitis antibody test (procedure)\",\"Tuberculosis screening (procedure)\",\"Absolute CD4 count procedure (procedure)\",\"Care planning and problem solving actions (procedure)\",\"Determination of susceptibility of Human immunodeficiency virus 1 to panel of antiretroviral drugs using genotypic technique (procedure)\",\"High resolution computed tomography of chest without contrast (procedure)\",\"Heart failure education (procedure)\",\"Intraoperative care (regime\\u002ftherapy)\",\"Administration of anesthesia AND\\u002fOR sedation (procedure)\",\"Incision (procedure)\",\"Transcatheter aortic valve implantation (procedure)\",\"Application of dressing  sterile (procedure)\",\"Patient transfer  in-hospital (procedure)\",\"Transfusion of red blood cells (procedure)\",\"12 lead electrocardiogram (procedure)\",\"Admission to ward (procedure)\",\"Referral to hypertension clinic (procedure)\",\"Cardiovascular stress testing (procedure)\",\"Platelet transfusion (procedure)\",\"Home health aide service (regime\\u002ftherapy)\",\"Transplant of lung (procedure)\",\"Close observation (regime\\u002ftherapy)\",\"Prostatectomy (procedure)\",\"Thoracentesis (procedure)\",\"Manual pelvic examination (procedure)\",\"Fine needle aspiration biopsy of lung (procedure)\",\"Replacement of aortic valve (procedure)\",\"Transesophageal echocardiography (procedure)\",\"Excision of lingual frenum (procedure)\",\"Surgical manipulation of shoulder joint (procedure)\",\"Hematologic disorder medication review (procedure)\",\"Treatment failure risk education (procedure)\",\"Treatment side effects education (procedure)\",\"Pre-operative chemotherapy (procedure)\",\"Autologous bone marrow transplant (procedure)\",\"Methotrexate injection into tubal pregnancy (procedure)\",\"Opening of chest (procedure)\",\"Social case work (regime\\u002ftherapy)\",\"Emergency coronary artery bypass graft (procedure)\",\"Excision of lingual torus (procedure)\",\"Admission to trauma surgery department (procedure)\",\"Comprehensive metabolic panel (procedure)\",\"Evaluation of psychiatric state of patient (procedure)\",\"Hospital admission  short-term  24 hours (procedure)\",\"Psychiatric follow-up (procedure)\",\"Referral for laboratory tests (procedure)\",\"Lab findings education  guidance  and counseling (procedure)\",\"Discussion about treatment (procedure)\",\"Evaluating response to treatment (procedure)\",\"Treatment changed (situation)\",\"Excision of breast tissue (procedure)\",\"Mental health screening (procedure)\",\"Suicide risk assessment (procedure)\",\"Total replacement of hip (procedure)\",\"Lung volume reduction surgery (procedure)\",\"Spontaneous breech delivery (procedure)\",\"Screening mammography (procedure)\",\"Prosthetic total arthroplasty of knee joint (procedure)\",\"External beam radiation therapy procedure (procedure)\",\"Direct current cardioversion (procedure)\",\"Ultrasonography of abdomen  right upper quadrant and epigastrium (procedure)\",\"Cholecystectomy (procedure)\",\"Cardioassist by aortic balloon pump (procedure)\",\"Hemodialysis (procedure)\",\"Microbial culture (procedure)\",\"Patient informed - test result (situation)\",\"Referral to palliative care service (procedure)\"],\"line\":{\"color\":\"black\",\"width\":0.5},\"pad\":10,\"thickness\":20},\"type\":\"sankey\"}],                        {\"template\":{\"data\":{\"histogram2dcontour\":[{\"type\":\"histogram2dcontour\",\"colorbar\":{\"outlinewidth\":0,\"ticks\":\"\"},\"colorscale\":[[0.0,\"#0d0887\"],[0.1111111111111111,\"#46039f\"],[0.2222222222222222,\"#7201a8\"],[0.3333333333333333,\"#9c179e\"],[0.4444444444444444,\"#bd3786\"],[0.5555555555555556,\"#d8576b\"],[0.6666666666666666,\"#ed7953\"],[0.7777777777777778,\"#fb9f3a\"],[0.8888888888888888,\"#fdca26\"],[1.0,\"#f0f921\"]]}],\"choropleth\":[{\"type\":\"choropleth\",\"colorbar\":{\"outlinewidth\":0,\"ticks\":\"\"}}],\"histogram2d\":[{\"type\":\"histogram2d\",\"colorbar\":{\"outlinewidth\":0,\"ticks\":\"\"},\"colorscale\":[[0.0,\"#0d0887\"],[0.1111111111111111,\"#46039f\"],[0.2222222222222222,\"#7201a8\"],[0.3333333333333333,\"#9c179e\"],[0.4444444444444444,\"#bd3786\"],[0.5555555555555556,\"#d8576b\"],[0.6666666666666666,\"#ed7953\"],[0.7777777777777778,\"#fb9f3a\"],[0.8888888888888888,\"#fdca26\"],[1.0,\"#f0f921\"]]}],\"heatmap\":[{\"type\":\"heatmap\",\"colorbar\":{\"outlinewidth\":0,\"ticks\":\"\"},\"colorscale\":[[0.0,\"#0d0887\"],[0.1111111111111111,\"#46039f\"],[0.2222222222222222,\"#7201a8\"],[0.3333333333333333,\"#9c179e\"],[0.4444444444444444,\"#bd3786\"],[0.5555555555555556,\"#d8576b\"],[0.6666666666666666,\"#ed7953\"],[0.7777777777777778,\"#fb9f3a\"],[0.8888888888888888,\"#fdca26\"],[1.0,\"#f0f921\"]]}],\"heatmapgl\":[{\"type\":\"heatmapgl\",\"colorbar\":{\"outlinewidth\":0,\"ticks\":\"\"},\"colorscale\":[[0.0,\"#0d0887\"],[0.1111111111111111,\"#46039f\"],[0.2222222222222222,\"#7201a8\"],[0.3333333333333333,\"#9c179e\"],[0.4444444444444444,\"#bd3786\"],[0.5555555555555556,\"#d8576b\"],[0.6666666666666666,\"#ed7953\"],[0.7777777777777778,\"#fb9f3a\"],[0.8888888888888888,\"#fdca26\"],[1.0,\"#f0f921\"]]}],\"contourcarpet\":[{\"type\":\"contourcarpet\",\"colorbar\":{\"outlinewidth\":0,\"ticks\":\"\"}}],\"contour\":[{\"type\":\"contour\",\"colorbar\":{\"outlinewidth\":0,\"ticks\":\"\"},\"colorscale\":[[0.0,\"#0d0887\"],[0.1111111111111111,\"#46039f\"],[0.2222222222222222,\"#7201a8\"],[0.3333333333333333,\"#9c179e\"],[0.4444444444444444,\"#bd3786\"],[0.5555555555555556,\"#d8576b\"],[0.6666666666666666,\"#ed7953\"],[0.7777777777777778,\"#fb9f3a\"],[0.8888888888888888,\"#fdca26\"],[1.0,\"#f0f921\"]]}],\"surface\":[{\"type\":\"surface\",\"colorbar\":{\"outlinewidth\":0,\"ticks\":\"\"},\"colorscale\":[[0.0,\"#0d0887\"],[0.1111111111111111,\"#46039f\"],[0.2222222222222222,\"#7201a8\"],[0.3333333333333333,\"#9c179e\"],[0.4444444444444444,\"#bd3786\"],[0.5555555555555556,\"#d8576b\"],[0.6666666666666666,\"#ed7953\"],[0.7777777777777778,\"#fb9f3a\"],[0.8888888888888888,\"#fdca26\"],[1.0,\"#f0f921\"]]}],\"mesh3d\":[{\"type\":\"mesh3d\",\"colorbar\":{\"outlinewidth\":0,\"ticks\":\"\"}}],\"scatter\":[{\"marker\":{\"line\":{\"color\":\"#283442\"}},\"type\":\"scatter\"}],\"parcoords\":[{\"type\":\"parcoords\",\"line\":{\"colorbar\":{\"outlinewidth\":0,\"ticks\":\"\"}}}],\"scatterpolargl\":[{\"type\":\"scatterpolargl\",\"marker\":{\"colorbar\":{\"outlinewidth\":0,\"ticks\":\"\"}}}],\"bar\":[{\"error_x\":{\"color\":\"#f2f5fa\"},\"error_y\":{\"color\":\"#f2f5fa\"},\"marker\":{\"line\":{\"color\":\"rgb(17,17,17)\",\"width\":0.5},\"pattern\":{\"fillmode\":\"overlay\",\"size\":10,\"solidity\":0.2}},\"type\":\"bar\"}],\"scattergeo\":[{\"type\":\"scattergeo\",\"marker\":{\"colorbar\":{\"outlinewidth\":0,\"ticks\":\"\"}}}],\"scatterpolar\":[{\"type\":\"scatterpolar\",\"marker\":{\"colorbar\":{\"outlinewidth\":0,\"ticks\":\"\"}}}],\"histogram\":[{\"marker\":{\"pattern\":{\"fillmode\":\"overlay\",\"size\":10,\"solidity\":0.2}},\"type\":\"histogram\"}],\"scattergl\":[{\"marker\":{\"line\":{\"color\":\"#283442\"}},\"type\":\"scattergl\"}],\"scatter3d\":[{\"type\":\"scatter3d\",\"line\":{\"colorbar\":{\"outlinewidth\":0,\"ticks\":\"\"}},\"marker\":{\"colorbar\":{\"outlinewidth\":0,\"ticks\":\"\"}}}],\"scattermapbox\":[{\"type\":\"scattermapbox\",\"marker\":{\"colorbar\":{\"outlinewidth\":0,\"ticks\":\"\"}}}],\"scatterternary\":[{\"type\":\"scatterternary\",\"marker\":{\"colorbar\":{\"outlinewidth\":0,\"ticks\":\"\"}}}],\"scattercarpet\":[{\"type\":\"scattercarpet\",\"marker\":{\"colorbar\":{\"outlinewidth\":0,\"ticks\":\"\"}}}],\"carpet\":[{\"aaxis\":{\"endlinecolor\":\"#A2B1C6\",\"gridcolor\":\"#506784\",\"linecolor\":\"#506784\",\"minorgridcolor\":\"#506784\",\"startlinecolor\":\"#A2B1C6\"},\"baxis\":{\"endlinecolor\":\"#A2B1C6\",\"gridcolor\":\"#506784\",\"linecolor\":\"#506784\",\"minorgridcolor\":\"#506784\",\"startlinecolor\":\"#A2B1C6\"},\"type\":\"carpet\"}],\"table\":[{\"cells\":{\"fill\":{\"color\":\"#506784\"},\"line\":{\"color\":\"rgb(17,17,17)\"}},\"header\":{\"fill\":{\"color\":\"#2a3f5f\"},\"line\":{\"color\":\"rgb(17,17,17)\"}},\"type\":\"table\"}],\"barpolar\":[{\"marker\":{\"line\":{\"color\":\"rgb(17,17,17)\",\"width\":0.5},\"pattern\":{\"fillmode\":\"overlay\",\"size\":10,\"solidity\":0.2}},\"type\":\"barpolar\"}],\"pie\":[{\"automargin\":true,\"type\":\"pie\"}]},\"layout\":{\"autotypenumbers\":\"strict\",\"colorway\":[\"#636efa\",\"#EF553B\",\"#00cc96\",\"#ab63fa\",\"#FFA15A\",\"#19d3f3\",\"#FF6692\",\"#B6E880\",\"#FF97FF\",\"#FECB52\"],\"font\":{\"color\":\"#f2f5fa\"},\"hovermode\":\"closest\",\"hoverlabel\":{\"align\":\"left\"},\"paper_bgcolor\":\"rgb(17,17,17)\",\"plot_bgcolor\":\"rgb(17,17,17)\",\"polar\":{\"bgcolor\":\"rgb(17,17,17)\",\"angularaxis\":{\"gridcolor\":\"#506784\",\"linecolor\":\"#506784\",\"ticks\":\"\"},\"radialaxis\":{\"gridcolor\":\"#506784\",\"linecolor\":\"#506784\",\"ticks\":\"\"}},\"ternary\":{\"bgcolor\":\"rgb(17,17,17)\",\"aaxis\":{\"gridcolor\":\"#506784\",\"linecolor\":\"#506784\",\"ticks\":\"\"},\"baxis\":{\"gridcolor\":\"#506784\",\"linecolor\":\"#506784\",\"ticks\":\"\"},\"caxis\":{\"gridcolor\":\"#506784\",\"linecolor\":\"#506784\",\"ticks\":\"\"}},\"coloraxis\":{\"colorbar\":{\"outlinewidth\":0,\"ticks\":\"\"}},\"colorscale\":{\"sequential\":[[0.0,\"#0d0887\"],[0.1111111111111111,\"#46039f\"],[0.2222222222222222,\"#7201a8\"],[0.3333333333333333,\"#9c179e\"],[0.4444444444444444,\"#bd3786\"],[0.5555555555555556,\"#d8576b\"],[0.6666666666666666,\"#ed7953\"],[0.7777777777777778,\"#fb9f3a\"],[0.8888888888888888,\"#fdca26\"],[1.0,\"#f0f921\"]],\"sequentialminus\":[[0.0,\"#0d0887\"],[0.1111111111111111,\"#46039f\"],[0.2222222222222222,\"#7201a8\"],[0.3333333333333333,\"#9c179e\"],[0.4444444444444444,\"#bd3786\"],[0.5555555555555556,\"#d8576b\"],[0.6666666666666666,\"#ed7953\"],[0.7777777777777778,\"#fb9f3a\"],[0.8888888888888888,\"#fdca26\"],[1.0,\"#f0f921\"]],\"diverging\":[[0,\"#8e0152\"],[0.1,\"#c51b7d\"],[0.2,\"#de77ae\"],[0.3,\"#f1b6da\"],[0.4,\"#fde0ef\"],[0.5,\"#f7f7f7\"],[0.6,\"#e6f5d0\"],[0.7,\"#b8e186\"],[0.8,\"#7fbc41\"],[0.9,\"#4d9221\"],[1,\"#276419\"]]},\"xaxis\":{\"gridcolor\":\"#283442\",\"linecolor\":\"#506784\",\"ticks\":\"\",\"title\":{\"standoff\":15},\"zerolinecolor\":\"#283442\",\"automargin\":true,\"zerolinewidth\":2},\"yaxis\":{\"gridcolor\":\"#283442\",\"linecolor\":\"#506784\",\"ticks\":\"\",\"title\":{\"standoff\":15},\"zerolinecolor\":\"#283442\",\"automargin\":true,\"zerolinewidth\":2},\"scene\":{\"xaxis\":{\"backgroundcolor\":\"rgb(17,17,17)\",\"gridcolor\":\"#506784\",\"linecolor\":\"#506784\",\"showbackground\":true,\"ticks\":\"\",\"zerolinecolor\":\"#C8D4E3\",\"gridwidth\":2},\"yaxis\":{\"backgroundcolor\":\"rgb(17,17,17)\",\"gridcolor\":\"#506784\",\"linecolor\":\"#506784\",\"showbackground\":true,\"ticks\":\"\",\"zerolinecolor\":\"#C8D4E3\",\"gridwidth\":2},\"zaxis\":{\"backgroundcolor\":\"rgb(17,17,17)\",\"gridcolor\":\"#506784\",\"linecolor\":\"#506784\",\"showbackground\":true,\"ticks\":\"\",\"zerolinecolor\":\"#C8D4E3\",\"gridwidth\":2}},\"shapedefaults\":{\"line\":{\"color\":\"#f2f5fa\"}},\"annotationdefaults\":{\"arrowcolor\":\"#f2f5fa\",\"arrowhead\":0,\"arrowwidth\":1},\"geo\":{\"bgcolor\":\"rgb(17,17,17)\",\"landcolor\":\"rgb(17,17,17)\",\"subunitcolor\":\"#506784\",\"showland\":true,\"showlakes\":true,\"lakecolor\":\"rgb(17,17,17)\"},\"title\":{\"x\":0.05},\"updatemenudefaults\":{\"bgcolor\":\"#506784\",\"borderwidth\":0},\"sliderdefaults\":{\"bgcolor\":\"#C8D4E3\",\"borderwidth\":1,\"bordercolor\":\"rgb(17,17,17)\",\"tickwidth\":0},\"mapbox\":{\"style\":\"dark\"}}},\"title\":{\"text\":\"Cohort 33 Patient Journeys Sankey Diagram\"},\"font\":{\"size\":10},\"height\":700,\"width\":1200},                        {\"responsive\": true}                    ).then(function(){\n",
       "                            \n",
       "var gd = document.getElementById('24939642-9985-4fa3-b70b-fb7c637e4922');\n",
       "var x = new MutationObserver(function (mutations, observer) {{\n",
       "        var display = window.getComputedStyle(gd).display;\n",
       "        if (!display || display === 'none') {{\n",
       "            console.log([gd, 'removed!']);\n",
       "            Plotly.purge(gd);\n",
       "            observer.disconnect();\n",
       "        }}\n",
       "}});\n",
       "\n",
       "// Listen for the removal of the full notebook cells\n",
       "var notebookContainer = gd.closest('#notebook-container');\n",
       "if (notebookContainer) {{\n",
       "    x.observe(notebookContainer, {childList: true});\n",
       "}}\n",
       "\n",
       "// Listen for the clearing of the current output cell\n",
       "var outputEl = gd.closest('.output');\n",
       "if (outputEl) {{\n",
       "    x.observe(outputEl, {childList: true});\n",
       "}}\n",
       "\n",
       "                        })                };                });            </script>        </div>"
      ]
     },
     "metadata": {},
     "output_type": "display_data"
    }
   ],
   "source": [
    "make_sankey(cohort=33)"
   ]
  },
  {
   "cell_type": "code",
   "execution_count": null,
   "id": "4d2a96ad752cdd16",
   "metadata": {},
   "outputs": [],
   "source": []
  }
 ],
 "metadata": {
  "kernelspec": {
   "display_name": "Python 3 (ipykernel)",
   "language": "python",
   "name": "python3"
  },
  "language_info": {
   "codemirror_mode": {
    "name": "ipython",
    "version": 3
   },
   "file_extension": ".py",
   "mimetype": "text/x-python",
   "name": "python",
   "nbconvert_exporter": "python",
   "pygments_lexer": "ipython3",
   "version": "3.11.10"
  }
 },
 "nbformat": 4,
 "nbformat_minor": 5
}
